{
  "cells": [
    {
      "cell_type": "markdown",
      "metadata": {
        "id": "w3aV2zFc-4EO"
      },
      "source": [
        "[![Open In Colab](https://colab.research.google.com/assets/colab-badge.svg)](https://colab.research.google.com/github/blaztoma/pitono-pamokos/blob/main/pamokos/11%20-%20range/range.ipynb)"
      ]
    },
    {
      "cell_type": "markdown",
      "metadata": {
        "id": "MMf3J6f0-4ER"
      },
      "source": [
        "# `range()` funkcija"
      ]
    },
    {
      "cell_type": "markdown",
      "metadata": {
        "id": "4d2peEKw-4ES"
      },
      "source": [
        "Naudosime `range()` funkciją norėdami sugeneruoti tam tikrą skaičių seką.\n",
        "\n",
        "Dažnai `range()` funkcija naudojama su `for` ciklu."
      ]
    },
    {
      "cell_type": "markdown",
      "metadata": {
        "id": "SPso7vp--4ES"
      },
      "source": [
        "## Sintaksė"
      ]
    },
    {
      "cell_type": "markdown",
      "metadata": {
        "id": "lbmK8OCQ-4ET"
      },
      "source": [
        "### 1-as variantas\n",
        "\n",
        "```\n",
        "range(pabaiga)\n",
        "```\n",
        "\n",
        "- nuo 0 (patenka)\n",
        "- iki `pabaiga` (nepatenka)"
      ]
    },
    {
      "cell_type": "markdown",
      "metadata": {
        "id": "_j1vZTVZ-4ET"
      },
      "source": [
        "### 2-as variantas\n",
        "\n",
        "```\n",
        "range(pradžia, pabaiga)\n",
        "```\n",
        "\n",
        "- nuo `pradžia` (patenka)\n",
        "- iki `pabaiga` (nepatenka)"
      ]
    },
    {
      "cell_type": "markdown",
      "metadata": {
        "id": "QMNZoEL0-4ET"
      },
      "source": [
        "### 3-as variantas\n",
        "\n",
        "```\n",
        "range(pradžia, pabaiga, žingsnis)\n",
        "```\n",
        "\n",
        "- nuo `pradžia` (patenka)\n",
        "- iki `pabaiga` (nepatenka)\n",
        "- darant nurodytą žingsnį `žingsnis` (naudojant teigiamą reikšmę - kis didėjimo tvarka, naudojant neigiamą reikšmę - kis mažėjimo tvarka)"
      ]
    },
    {
      "cell_type": "markdown",
      "metadata": {
        "id": "qPzZSj6l-4EU"
      },
      "source": [
        "### Keletas sintaksės pavyzdžių"
      ]
    },
    {
      "cell_type": "code",
      "execution_count": null,
      "metadata": {
        "id": "5RMlK46K-4EV"
      },
      "outputs": [],
      "source": [
        "range(7) # nuo 0 iki 7 (skaičiai 0, 1, 2, 3, 4, 5, 6)\n",
        "range(2, 8) # nuo 2 iki 8 (skaičiai 2, 3, 4, 5, 6, 7)\n",
        "range(1, 6, 2) # nelyginiai skaičiai nuo 1 iki 6 (1, 3, 5)\n",
        "range(7, 0, -1) # nuo 7 iki 1 (skaičiai 7, 6, 5, 4, 3, 2, 1)"
      ]
    },
    {
      "cell_type": "markdown",
      "metadata": {
        "id": "sqIQn4Un-4EW"
      },
      "source": [
        "## Pavyzdžiai"
      ]
    },
    {
      "cell_type": "markdown",
      "metadata": {
        "id": "et277vzF-4EW"
      },
      "source": [
        "`range()` funkcija unikali tuo, kad ji sukuria `range` objektą. Šis objektas nėra skaičių sąrašas."
      ]
    },
    {
      "cell_type": "code",
      "execution_count": null,
      "metadata": {
        "id": "5sCTVl4x-4EX"
      },
      "outputs": [],
      "source": [
        "print( range(7) )"
      ]
    },
    {
      "cell_type": "markdown",
      "metadata": {
        "id": "IhS9fcy8-4EX"
      },
      "source": [
        "Norėdami iš `range` objekto gauti skaičių sąrašą, turime panaudoti funkciją `list()`."
      ]
    },
    {
      "cell_type": "code",
      "execution_count": null,
      "metadata": {
        "id": "qcKrUD0b-4EX"
      },
      "outputs": [],
      "source": [
        "skaiciai = list( range(6) )\n",
        "print(skaiciai)"
      ]
    },
    {
      "cell_type": "markdown",
      "metadata": {
        "id": "WIFxYMWe-4EX"
      },
      "source": [
        "Turbūt jau pastebėjote, kad `range()` neįtraukia paskutinio nurodyto skaičiaus. Kodėl gi taip yra?"
      ]
    },
    {
      "cell_type": "code",
      "execution_count": null,
      "metadata": {
        "id": "epEDbUlJ-4EX"
      },
      "outputs": [],
      "source": [
        "print( list( range(10) ) )"
      ]
    },
    {
      "cell_type": "markdown",
      "metadata": {
        "id": "qOU29Xpg-4EY"
      },
      "source": [
        "Naudojant `range` galime nurodyti pradžią."
      ]
    },
    {
      "cell_type": "code",
      "execution_count": null,
      "metadata": {
        "id": "4uQMUjBC-4EY"
      },
      "outputs": [],
      "source": [
        "skaiciai = list( range(2, 7) )\n",
        "print(skaiciai)"
      ]
    },
    {
      "cell_type": "markdown",
      "metadata": {
        "id": "6O2B8PYN-4EY"
      },
      "source": [
        "Dar vienas pavyzdys."
      ]
    },
    {
      "cell_type": "code",
      "execution_count": null,
      "metadata": {
        "id": "lGQBHX1T-4EY"
      },
      "outputs": [],
      "source": [
        "skaiciukai = list( range(10, 15) )\n",
        "print(skaiciukai)"
      ]
    },
    {
      "cell_type": "markdown",
      "metadata": {
        "id": "Lc0_ixkM-4EY"
      },
      "source": [
        "Šis pavyzdys įtraukia `žingsnį`, kurio reikšmė - 2. Šiuo atveju spausdinsime nelyginius skaičius."
      ]
    },
    {
      "cell_type": "code",
      "execution_count": null,
      "metadata": {
        "id": "PoiKeRvy-4EY"
      },
      "outputs": [],
      "source": [
        "kas_antra = list( range(5, 15, 2) )\n",
        "print(kas_antra)"
      ]
    },
    {
      "cell_type": "markdown",
      "metadata": {
        "id": "l8E2uT3z-4EZ"
      },
      "source": [
        "Dar vienas pavyzdys su `žingsniu`, kurio reikšmė - 5. Atkreipkite dėmesį, kad paskutinės reikšmės (`50`) neįtraukia."
      ]
    },
    {
      "cell_type": "code",
      "execution_count": null,
      "metadata": {
        "id": "CY_qZ9Vm-4EZ"
      },
      "outputs": [],
      "source": [
        "skaiciai = list( range(5, 50, 5) )\n",
        "print(skaiciai)"
      ]
    },
    {
      "cell_type": "markdown",
      "metadata": {
        "id": "thoGXaNZ-4EZ"
      },
      "source": [
        "Dabar, kai žinome `range()` funkcijos naudojimo niunsus, pasipraktikuokime. Sąrašo [1, 50] sukūrimas."
      ]
    },
    {
      "cell_type": "code",
      "execution_count": null,
      "metadata": {
        "id": "00VkmUOq-4EZ"
      },
      "outputs": [],
      "source": [
        "skaiciai = list( range(1, 51) )\n",
        "print(skaiciai)"
      ]
    },
    {
      "cell_type": "markdown",
      "metadata": {
        "id": "LHpbam87-4Ea"
      },
      "source": [
        "Na o čia - nelyginių skaičių sąrašo [1, 29] sukūrimas."
      ]
    },
    {
      "cell_type": "code",
      "execution_count": null,
      "metadata": {
        "id": "LGf3h5ZH-4Ea"
      },
      "outputs": [],
      "source": [
        "nelyginiai = list( range(1, 30, 2) )\n",
        "print(nelyginiai)"
      ]
    },
    {
      "cell_type": "markdown",
      "metadata": {
        "id": "cGJmdCNU-4Ea"
      },
      "source": [
        "Šitame pavyzdyje paimsime kas šešą skaičių."
      ]
    },
    {
      "cell_type": "code",
      "execution_count": null,
      "metadata": {
        "id": "2AJ_qENn-4Ea"
      },
      "outputs": [],
      "source": [
        "skaiciai = list( range(5, 87, 6) )\n",
        "print(skaiciai)"
      ]
    },
    {
      "cell_type": "markdown",
      "metadata": {
        "id": "iFtE6fOu-4Ea"
      },
      "source": [
        "Ko dar nebandėme, tai sudaryti skaičių sąrašą mažėjimo tvarka. Tam reikia nurodyti neigiamą `žingsnio` reikšmę. Atkreipkite dėmesį, kad paskutinė reikšmė neįtraukiama ir šiuo atveju."
      ]
    },
    {
      "cell_type": "code",
      "execution_count": null,
      "metadata": {
        "id": "NT3Fr6_j-4Ea"
      },
      "outputs": [],
      "source": [
        "skaiciai = list( range(10, 0, -1) )\n",
        "print(skaiciai)"
      ]
    },
    {
      "cell_type": "markdown",
      "metadata": {
        "id": "smP-F0jz-4Ea"
      },
      "source": [
        "Dar vienas pavyzdys, kai `žingsnis` mažėja penkiais vienetais."
      ]
    },
    {
      "cell_type": "code",
      "execution_count": null,
      "metadata": {
        "id": "v---0_HG-4Eb"
      },
      "outputs": [],
      "source": [
        "skaiciai = list( range(50, 0, -5) )\n",
        "print(skaiciai)"
      ]
    },
    {
      "cell_type": "markdown",
      "metadata": {
        "id": "QoHaL5Pd-4Eb"
      },
      "source": [
        "## Užduotys"
      ]
    },
    {
      "cell_type": "markdown",
      "metadata": {
        "id": "SJiEgTzs-4Eb"
      },
      "source": [
        "Sugeneruokite ir išveskite tokias sekas."
      ]
    },
    {
      "cell_type": "markdown",
      "metadata": {
        "id": "X4TTIVSp-4Eb"
      },
      "source": [
        "### Užduotis 1\n",
        "\n",
        "`[0, 1, 2, 3, 4, 5, 6]`"
      ]
    },
    {
      "cell_type": "code",
      "execution_count": null,
      "metadata": {
        "id": "Qu9sajpU-4Eb"
      },
      "outputs": [],
      "source": [
        "# Kodą rašykite čia..."
      ]
    },
    {
      "cell_type": "markdown",
      "metadata": {
        "id": "8RA51w50-4Eb"
      },
      "source": [
        "### Užduotis 2\n",
        "\n",
        "`[1, 2, 3, 4, 5, 6, 7, 8, 9]`"
      ]
    },
    {
      "cell_type": "code",
      "execution_count": null,
      "metadata": {
        "id": "gkK_-xzt-4Eb"
      },
      "outputs": [],
      "source": [
        "# Kodą rašykite čia..."
      ]
    },
    {
      "cell_type": "markdown",
      "metadata": {
        "id": "ioXsB3Jg-4Eb"
      },
      "source": [
        "### Užduotis 3\n",
        "\n",
        "`[2, 3, 4, 5, 6, 7, 8, 9, 10, 11, 12, 13, 14, 15]`"
      ]
    },
    {
      "cell_type": "code",
      "execution_count": null,
      "metadata": {
        "id": "1ZGPEBUw-4Eb"
      },
      "outputs": [],
      "source": [
        "# Kodą rašykite čia..."
      ]
    },
    {
      "cell_type": "markdown",
      "metadata": {
        "id": "y-0bbNsv-4Ec"
      },
      "source": [
        "### Užduotis 4\n",
        "\n",
        "`[20, 21, 22, 23, 24, 25, 26, 27, 28, 29, 30]`"
      ]
    },
    {
      "cell_type": "code",
      "execution_count": null,
      "metadata": {
        "id": "vuOVUGaE-4Ec"
      },
      "outputs": [],
      "source": [
        "# Kodą rašykite čia..."
      ]
    },
    {
      "cell_type": "markdown",
      "metadata": {
        "id": "ibOp2jrO-4Ec"
      },
      "source": [
        "### Užduotis 5\n",
        "\n",
        "`[20, 22, 24, 26, 28, 30, 32, 34, 36, 38, 40]`"
      ]
    },
    {
      "cell_type": "code",
      "execution_count": null,
      "metadata": {
        "id": "AOu1j3Mp-4Ec"
      },
      "outputs": [],
      "source": [
        "# Kodą rašykite čia..."
      ]
    },
    {
      "cell_type": "markdown",
      "metadata": {
        "id": "7hVAZrLa-4Ec"
      },
      "source": [
        "### Užduotis 6\n",
        "\n",
        "`[1, 3, 5, 7, 9]`"
      ]
    },
    {
      "cell_type": "code",
      "execution_count": null,
      "metadata": {
        "id": "hBZR6LwE-4Ec"
      },
      "outputs": [],
      "source": [
        "# Kodą rašykite čia..."
      ]
    },
    {
      "cell_type": "markdown",
      "metadata": {
        "id": "7jR2xzmy-4Ec"
      },
      "source": [
        "### Užduotis 7\n",
        "\n",
        "`[30, 33, 36, 39, 42, 45, 48]`"
      ]
    },
    {
      "cell_type": "code",
      "execution_count": null,
      "metadata": {
        "id": "eV4AH2Dg-4Ec"
      },
      "outputs": [],
      "source": [
        "# Kodą rašykite čia..."
      ]
    },
    {
      "cell_type": "markdown",
      "metadata": {
        "id": "op_cvbZK-4Ed"
      },
      "source": [
        "### Užduotis 8\n",
        "\n",
        "`[50, 55, 60, 65, 70, 75, 80, 85, 90, 95, 100]`"
      ]
    },
    {
      "cell_type": "code",
      "execution_count": null,
      "metadata": {
        "id": "cH-uiz-h-4Ed"
      },
      "outputs": [],
      "source": [
        "# Kodą rašykite čia..."
      ]
    },
    {
      "cell_type": "markdown",
      "metadata": {
        "id": "teYBIjBf-4Ed"
      },
      "source": [
        "### Užduotis 9\n",
        "\n",
        "`[1, 8, 15, 22, 29, 36, 43, 50, 57, 64, 71, 78, 85, 92, 99]`"
      ]
    },
    {
      "cell_type": "code",
      "execution_count": null,
      "metadata": {
        "id": "nIqKsoOu-4Ed"
      },
      "outputs": [],
      "source": [
        "# Kodą rašykite čia..."
      ]
    },
    {
      "cell_type": "markdown",
      "metadata": {
        "id": "z6MwVIPI-4Ed"
      },
      "source": [
        "### Užduotis 10\n",
        "\n",
        "`[10, 9, 8, 7, 6, 5, 4, 3, 2, 1]`"
      ]
    },
    {
      "cell_type": "code",
      "execution_count": null,
      "metadata": {
        "id": "1NvW1gHf-4Ed"
      },
      "outputs": [],
      "source": [
        "# Kodą rašykite čia..."
      ]
    },
    {
      "cell_type": "markdown",
      "metadata": {
        "id": "YueEt1On-4Ed"
      },
      "source": [
        "### Užduotis 11\n",
        "\n",
        "`[100, 90, 80, 70, 60, 50, 40, 30, 20, 10]`"
      ]
    },
    {
      "cell_type": "code",
      "execution_count": null,
      "metadata": {
        "id": "8UWHYl3y-4Ed"
      },
      "outputs": [],
      "source": [
        "# Kodą rašykite čia..."
      ]
    }
  ],
  "metadata": {
    "kernelspec": {
      "display_name": "Python 3",
      "language": "python",
      "name": "python3"
    },
    "language_info": {
      "codemirror_mode": {
        "name": "ipython",
        "version": 3
      },
      "file_extension": ".py",
      "mimetype": "text/x-python",
      "name": "python",
      "nbconvert_exporter": "python",
      "pygments_lexer": "ipython3",
      "version": "3.10.10"
    },
    "orig_nbformat": 4,
    "vscode": {
      "interpreter": {
        "hash": "aa11ca274996316222ef16f35c5f6dbeb467b694c0b2154cdf34dcf9271d5fd0"
      }
    },
    "colab": {
      "provenance": []
    }
  },
  "nbformat": 4,
  "nbformat_minor": 0
}
