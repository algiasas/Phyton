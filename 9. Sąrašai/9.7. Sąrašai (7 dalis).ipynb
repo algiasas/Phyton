{
  "cells": [
    {
      "cell_type": "markdown",
      "metadata": {
        "id": "h4UJwzzNDKPK"
      },
      "source": [
        "[![Open In Colab](https://colab.research.google.com/assets/colab-badge.svg)](https://colab.research.google.com/github/blaztoma/pitono-pamokos/blob/main/pamokos/13%20-%20Sarasai/13-07%20-%20S%C4%85ra%C5%A1ai%20lists%207.ipynb)"
      ]
    },
    {
      "cell_type": "markdown",
      "metadata": {
        "id": "SSvmK5KIDKPQ"
      },
      "source": [
        "# Sąrašai (`lists`) (7 dalis)"
      ]
    },
    {
      "cell_type": "markdown",
      "metadata": {
        "id": "gE2XeFyvDKPR"
      },
      "source": [
        "## Pavyzdžiai"
      ]
    },
    {
      "cell_type": "markdown",
      "metadata": {
        "id": "8KAsxzYMDKPR"
      },
      "source": [
        "Rankiniu būdu išvedama visa informacija:"
      ]
    },
    {
      "cell_type": "code",
      "execution_count": null,
      "metadata": {
        "id": "8fOnsiInDKPR",
        "outputId": "e1f4f6eb-bd48-4bed-e5c8-1787abafae97"
      },
      "outputs": [
        {
          "name": "stdout",
          "output_type": "stream",
          "text": [
            "audi\n",
            "bmw\n",
            "volvo\n",
            "mercedes\n"
          ]
        }
      ],
      "source": [
        "automobiliai = ['audi', 'bmw', 'volvo', 'mercedes']\n",
        "\n",
        "print(automobiliai[0])\n",
        "print(automobiliai[1])\n",
        "print(automobiliai[2])\n",
        "print(automobiliai[3])"
      ]
    },
    {
      "cell_type": "markdown",
      "metadata": {
        "id": "cv3Ytd1aDKPT"
      },
      "source": [
        "Su ciklo pagalba išvedama visa informacija:"
      ]
    },
    {
      "cell_type": "code",
      "execution_count": null,
      "metadata": {
        "id": "DbUAHxNVDKPT",
        "outputId": "fd039a53-78d7-4d6a-f0a3-36e601919c86"
      },
      "outputs": [
        {
          "name": "stdout",
          "output_type": "stream",
          "text": [
            "audi\n",
            "bmw\n",
            "volvo\n",
            "mercedes\n"
          ]
        }
      ],
      "source": [
        "automobiliai = ['audi', 'bmw', 'volvo', 'mercedes']\n",
        "\n",
        "for auto in automobiliai:\n",
        "    print(auto)"
      ]
    },
    {
      "cell_type": "code",
      "execution_count": null,
      "metadata": {
        "id": "PKSR68i5DKPT",
        "outputId": "7390cd76-0780-4a24-b8e5-2012618c9229"
      },
      "outputs": [
        {
          "name": "stdout",
          "output_type": "stream",
          "text": [
            "Kaunas\n",
            "Vilnius\n",
            "Klaipėda\n",
            "Šiauliai\n"
          ]
        }
      ],
      "source": [
        "miestai = ['Kaunas', 'Vilnius', 'Klaipėda', 'Šiauliai']\n",
        "\n",
        "for miestas in miestai:\n",
        "    print(miestas)"
      ]
    },
    {
      "cell_type": "markdown",
      "metadata": {
        "id": "YmuRiUsfDKPU"
      },
      "source": [
        "Jeigu reikia indeksų:"
      ]
    },
    {
      "cell_type": "code",
      "execution_count": null,
      "metadata": {
        "id": "QxqdaiJ-DKPU",
        "outputId": "28083f26-674a-4d44-ad27-41ae1b4452be"
      },
      "outputs": [
        {
          "name": "stdout",
          "output_type": "stream",
          "text": [
            "0 Kaunas\n",
            "1 Vilnius\n",
            "2 Klaipėda\n",
            "3 Šiauliai\n"
          ]
        }
      ],
      "source": [
        "miestai = ['Kaunas', 'Vilnius', 'Klaipėda', 'Šiauliai']\n",
        "\n",
        "for indeksas, miestas in enumerate(miestai, start=0): # default yra 0\n",
        "    print(indeksas, miestas)"
      ]
    },
    {
      "cell_type": "code",
      "execution_count": null,
      "metadata": {
        "id": "R2BpH4kvDKPV",
        "outputId": "34d9ba4e-3a32-4ab1-eaca-ceabdd6fc6d4"
      },
      "outputs": [
        {
          "name": "stdout",
          "output_type": "stream",
          "text": [
            "1 Kaunas\n",
            "2 Vilnius\n",
            "3 Klaipėda\n",
            "4 Šiauliai\n"
          ]
        }
      ],
      "source": [
        "miestai = ['Kaunas', 'Vilnius', 'Klaipėda', 'Šiauliai']\n",
        "\n",
        "for indeksas, miestas in enumerate(miestai, start=1): # default yra 0\n",
        "    print(indeksas, miestas)"
      ]
    },
    {
      "cell_type": "code",
      "execution_count": null,
      "metadata": {
        "id": "ErYy5p73DKPV",
        "outputId": "461f4d33-a2b5-4882-c08e-b0ff9d02ba2f"
      },
      "outputs": [
        {
          "name": "stdout",
          "output_type": "stream",
          "text": [
            "0 Kaunas\n",
            "1 Vilnius\n",
            "2 Klaipėda\n",
            "3 Šiauliai\n"
          ]
        }
      ],
      "source": [
        "miestai = ['Kaunas', 'Vilnius', 'Klaipėda', 'Šiauliai']\n",
        "\n",
        "for indeksas in range(len(miestai)):\n",
        "    print(indeksas, miestai[indeksas])"
      ]
    },
    {
      "cell_type": "code",
      "execution_count": null,
      "metadata": {
        "id": "n-Cz_N10DKPV",
        "outputId": "f4007d8a-f86c-49d9-c52a-e0390f2167b9"
      },
      "outputs": [
        {
          "name": "stdout",
          "output_type": "stream",
          "text": [
            "1 Kaunas\n",
            "2 Vilnius\n",
            "3 Klaipėda\n",
            "4 Šiauliai\n"
          ]
        }
      ],
      "source": [
        "miestai = ['Kaunas', 'Vilnius', 'Klaipėda', 'Šiauliai']\n",
        "\n",
        "for indeksas in range(len(miestai)):\n",
        "    print(indeksas + 1, miestai[indeksas])"
      ]
    },
    {
      "cell_type": "code",
      "execution_count": null,
      "metadata": {
        "id": "WNP7BB_pDKPW",
        "outputId": "0dea8499-0dee-473a-a6fa-0382aca85790"
      },
      "outputs": [
        {
          "name": "stdout",
          "output_type": "stream",
          "text": [
            "1-as miestas yra Kaunas\n",
            "2-as miestas yra Vilnius\n",
            "3-as miestas yra Klaipėda\n",
            "4-as miestas yra Šiauliai\n"
          ]
        }
      ],
      "source": [
        "miestai = ['Kaunas', 'Vilnius', 'Klaipėda', 'Šiauliai']\n",
        "\n",
        "for indeksas in range(len(miestai)):\n",
        "    print(f'{indeksas + 1}-as miestas yra {miestai[indeksas]}')"
      ]
    },
    {
      "cell_type": "code",
      "execution_count": null,
      "metadata": {
        "id": "_e7PRVShDKPW",
        "outputId": "a2c148bb-676c-4225-aa44-e6b3989c1d93"
      },
      "outputs": [
        {
          "name": "stdout",
          "output_type": "stream",
          "text": [
            "1-asis miestas: Kaunas\n",
            "2-asis miestas: Vilnius\n",
            "3-asis miestas: Klaipėda\n",
            "4-asis miestas: Šiauliai\n"
          ]
        }
      ],
      "source": [
        "miestai = ['Kaunas', 'Vilnius', 'Klaipėda', 'Šiauliai']\n",
        "\n",
        "indeksas = 0\n",
        "\n",
        "while indeksas < len(miestai):\n",
        "    print(f'{indeksas + 1}-asis miestas: {miestai[indeksas]}')\n",
        "    indeksas += 1"
      ]
    },
    {
      "cell_type": "code",
      "execution_count": null,
      "metadata": {
        "id": "-UOtcbtmDKPW",
        "outputId": "95c88cd6-fe17-45ea-b9a1-443cf8698453"
      },
      "outputs": [
        {
          "name": "stdout",
          "output_type": "stream",
          "text": [
            "0: Petras\n",
            "1: Jonas\n",
            "2: Ona\n",
            "3: Birutė\n"
          ]
        }
      ],
      "source": [
        "zmones = ['Petras', 'Jonas', 'Ona', 'Birutė']\n",
        "\n",
        "i = 0\n",
        "\n",
        "while i < len(zmones):\n",
        "    print(f'{i}: {zmones[i]}')\n",
        "    i += 1"
      ]
    },
    {
      "cell_type": "markdown",
      "metadata": {
        "id": "Tl3SSQXbDKPX"
      },
      "source": [
        "## Užduotys"
      ]
    },
    {
      "cell_type": "markdown",
      "metadata": {
        "id": "P45OYaINDKPX"
      },
      "source": [
        "### Užduotis 1\n",
        "\n",
        "Susikurkite sąrašą projekto komandos narių vardams ir pavardėms saugoti. Išveskite tekstą \"prie projekto dirba šie komandos nariai:\" ir iškart po to kiekvieną komandos narį atskiroje eilutėje."
      ]
    },
    {
      "cell_type": "code",
      "execution_count": null,
      "metadata": {
        "id": "txHNpHLzDKPX"
      },
      "outputs": [],
      "source": [
        "# Kodą rašykite čia..."
      ]
    },
    {
      "cell_type": "markdown",
      "metadata": {
        "id": "H7mOYKh6DKPX"
      },
      "source": [
        "### Užduotis 2\n",
        "\n",
        "Susikurkite sąrašą, kuriame būtų saugomos jau praeitos Python temos. Išveskite tekstą \"mes jau mokėmės:\". Ir iškart po to atskirose eilutėse visas temas, tačiau jas sunumeruokite \"1-a tema:\", \"2-a tema:\" ir t.t. Tai pamėginkite atlikti tiek su `for` ciklu, tiek su `while` ciklu."
      ]
    },
    {
      "cell_type": "code",
      "execution_count": null,
      "metadata": {
        "id": "3SDde7wMDKPY"
      },
      "outputs": [],
      "source": [
        "# Kodą rašykite čia..."
      ]
    },
    {
      "cell_type": "markdown",
      "metadata": {
        "id": "fPj18G-3DKPY"
      },
      "source": [
        "### Užduotis 3\n",
        "\n",
        "Susikurkite sąrašą studijų programų pavadinimams saugoti. Užpildykite šį sąrašą duomenimis. Išveskite kiekvieną studijų programą atskiroje eilutėje."
      ]
    },
    {
      "cell_type": "code",
      "execution_count": null,
      "metadata": {
        "id": "NVQpxk5hDKPY"
      },
      "outputs": [],
      "source": [
        "# Kodą rašykite čia..."
      ]
    },
    {
      "cell_type": "markdown",
      "metadata": {
        "id": "mtMg-JH9DKPY"
      },
      "source": [
        "### Užduotis 4\n",
        "\n",
        "Susikurkite sąrašą šalių pavadinimams saugoti ir jį užpildykite duomenimis. Išveskite šalių pavadinimus atskirose eilutėse, su prierašu \"šalis\" ir tada nurodant šalį iš sąrašo."
      ]
    },
    {
      "cell_type": "code",
      "execution_count": null,
      "metadata": {
        "id": "IvX2PBIeDKPY"
      },
      "outputs": [],
      "source": [
        "# Kodą rašykite čia..."
      ]
    },
    {
      "cell_type": "markdown",
      "metadata": {
        "id": "0RamYyWbDKPY"
      },
      "source": [
        "### Užduotis 5\n",
        "\n",
        "Susikurkite sąrašą prekių krepšeliui saugoti. Išveskite kiek prekių krepšelyje yra narių. Tuomet išveskite visą prekių krepšelio informaciją, nurodant kelinta prekė, pvz \"nr 1 pirkinys:\", \"nr 2 pirkinys:\" ir t.t."
      ]
    },
    {
      "cell_type": "code",
      "execution_count": null,
      "metadata": {
        "id": "3LiHBaIDDKPZ"
      },
      "outputs": [],
      "source": [
        "# Kodą rašykite čia..."
      ]
    },
    {
      "cell_type": "markdown",
      "metadata": {
        "id": "-KQ3y03kDKPZ"
      },
      "source": [
        "### Užduotis 6\n",
        "\n",
        "Susikurkite pažymių sąrašą ir užpildykite jį informacija. Surikiuokite pažymius nuo didžiausio iki mažiausio. Išveskite visus turimus pažymius atskirose eilutėse. Prie kiekvieno pažymio taip pat prirašykite \"puikiai\", jeigu jis yra 10, \"labai gerai\", jeigu jis yra 9 ir t.t."
      ]
    },
    {
      "cell_type": "code",
      "execution_count": null,
      "metadata": {
        "id": "RVQMKwqJDKPZ"
      },
      "outputs": [],
      "source": [
        "# Kodą rašykite čia..."
      ]
    }
  ],
  "metadata": {
    "kernelspec": {
      "display_name": "Python 3",
      "language": "python",
      "name": "python3"
    },
    "language_info": {
      "codemirror_mode": {
        "name": "ipython",
        "version": 3
      },
      "file_extension": ".py",
      "mimetype": "text/x-python",
      "name": "python",
      "nbconvert_exporter": "python",
      "pygments_lexer": "ipython3",
      "version": "3.7.9 (tags/v3.7.9:13c94747c7, Aug 17 2020, 18:58:18) [MSC v.1900 64 bit (AMD64)]"
    },
    "orig_nbformat": 4,
    "vscode": {
      "interpreter": {
        "hash": "aa11ca274996316222ef16f35c5f6dbeb467b694c0b2154cdf34dcf9271d5fd0"
      }
    },
    "colab": {
      "provenance": []
    }
  },
  "nbformat": 4,
  "nbformat_minor": 0
}