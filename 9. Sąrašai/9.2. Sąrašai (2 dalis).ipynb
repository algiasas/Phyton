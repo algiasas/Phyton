{
  "cells": [
    {
      "cell_type": "markdown",
      "metadata": {
        "id": "ormBTVj-CvlG"
      },
      "source": [
        "[![Open In Colab](https://colab.research.google.com/assets/colab-badge.svg)](https://colab.research.google.com/github/blaztoma/pitono-pamokos/blob/main/pamokos/13%20-%20Sarasai/13-02%20-%20S%C4%85ra%C5%A1ai%20lists%202.ipynb)"
      ]
    },
    {
      "cell_type": "markdown",
      "metadata": {
        "id": "llgLTaKxCvlK"
      },
      "source": [
        "# Sąrašai (`lists`) (2 dalis)"
      ]
    },
    {
      "cell_type": "markdown",
      "metadata": {
        "id": "-OzgP20pCvlL"
      },
      "source": [
        "## Pavyzdžiai"
      ]
    },
    {
      "cell_type": "markdown",
      "metadata": {
        "id": "Z_ShiGNJCvlL"
      },
      "source": [
        "Elemento pridėjimas į galą ir pagal nurodytą indeksą."
      ]
    },
    {
      "cell_type": "code",
      "execution_count": null,
      "metadata": {
        "id": "eXClkpZsCvlM"
      },
      "outputs": [],
      "source": [
        "studentai = ['Justė', 'Tomas', 'Giedrius', 'Evelina']\n",
        "\n",
        "# prideda į galą\n",
        "studentai.append('Jonas')\n",
        "\n",
        "print(studentai)\n",
        "\n",
        "# prideda į nurodytą vietą\n",
        "studentai.insert(1, 'Ugnė')\n",
        "\n",
        "print(studentai)"
      ]
    },
    {
      "cell_type": "markdown",
      "metadata": {
        "id": "hVA-33sQCvlN"
      },
      "source": [
        "Elemento išėmimas iš sąrašo galo."
      ]
    },
    {
      "cell_type": "code",
      "execution_count": null,
      "metadata": {
        "id": "IaZzBi-MCvlN"
      },
      "outputs": [],
      "source": [
        "skaiciai = [7, 5, 8, 9, 6]\n",
        "\n",
        "print(skaiciai)\n",
        "\n",
        "# ištrina patį paskutinį narį\n",
        "skaiciai.pop()\n",
        "\n",
        "print(skaiciai)"
      ]
    },
    {
      "cell_type": "markdown",
      "metadata": {
        "id": "MI5QbFOuCvlN"
      },
      "source": []
    },
    {
      "cell_type": "markdown",
      "metadata": {
        "id": "lL6Cbf6TCvlO"
      },
      "source": [
        "Iš sąrašo galo galima išimti ir daugiau elementų."
      ]
    },
    {
      "cell_type": "code",
      "execution_count": null,
      "metadata": {
        "id": "N3wNkaDWCvlO"
      },
      "outputs": [],
      "source": [
        "skaiciai = [7, 5, 8, 9, 6]\n",
        "print(skaiciai)\n",
        "\n",
        "skaiciai.pop()\n",
        "skaiciai.pop()\n",
        "print(skaiciai)"
      ]
    },
    {
      "cell_type": "markdown",
      "metadata": {
        "id": "erjwIil4CvlP"
      },
      "source": [
        "Naudojant metodą `pop` galima išimti elementą iš tam tikros pozicijos."
      ]
    },
    {
      "cell_type": "code",
      "execution_count": null,
      "metadata": {
        "id": "DMzHBE-QCvlP"
      },
      "outputs": [],
      "source": [
        "skaiciai = [7, 5, 8, 9, 6]\n",
        "\n",
        "print(skaiciai)\n",
        "\n",
        "# ištrina iš nurodytos vietos (indekso)\n",
        "skaiciai.pop(0)\n",
        "\n",
        "print(skaiciai)"
      ]
    },
    {
      "cell_type": "markdown",
      "metadata": {
        "id": "o9Ytr6StCvlP"
      },
      "source": [
        "Metodas `clear()` išvalo sąrašą."
      ]
    },
    {
      "cell_type": "code",
      "execution_count": null,
      "metadata": {
        "id": "zLVfrWddCvlP"
      },
      "outputs": [],
      "source": [
        "skaiciai = [7, 5, 8, 9, 6]\n",
        "\n",
        "print(skaiciai)\n",
        "\n",
        "# pilnai išvalo visą sąrašą\n",
        "skaiciai.clear()\n",
        "\n",
        "print(skaiciai)"
      ]
    },
    {
      "cell_type": "markdown",
      "metadata": {
        "id": "eZeXmkw9CvlQ"
      },
      "source": [
        "Metodas `index` suranda pirmą nurodytą elementą ir grąžina jo indeksą."
      ]
    },
    {
      "cell_type": "code",
      "execution_count": null,
      "metadata": {
        "id": "ZFfXErUNCvlQ"
      },
      "outputs": [],
      "source": [
        "skaiciai = [7, 5, 8, 9, 6]\n",
        "\n",
        "# pasako kurioje sąrašo vietoje (kuriame indekse) yra nurodyta reikšmė\n",
        "print(skaiciai.index(9))"
      ]
    },
    {
      "cell_type": "markdown",
      "metadata": {
        "id": "N14s5p-iCvlQ"
      },
      "source": [
        "Taip kaip metodas `index` suranda skaičius, taip gali rasti ir eilutes."
      ]
    },
    {
      "cell_type": "code",
      "execution_count": null,
      "metadata": {
        "id": "gCg8a-_xCvlQ"
      },
      "outputs": [],
      "source": [
        "tekstas = ['mano', 'batai', 'buvo', 'du']\n",
        "\n",
        "# pasako kurioje sąrašo vietoje (kuriame indekse) yra nurodyta reikšmė\n",
        "print(tekstas.index('buvo'))"
      ]
    },
    {
      "cell_type": "markdown",
      "metadata": {
        "id": "qtt6aDHICvlR"
      },
      "source": [
        "Paieškai galime nurodyti paieškos pradžios ir pabaigos indeksus. Šį kartą programa batų neras, nes pradės ieškoti nuo trečio elemento."
      ]
    },
    {
      "cell_type": "code",
      "execution_count": null,
      "metadata": {
        "id": "i7SkEcGYCvlR"
      },
      "outputs": [],
      "source": [
        "tekstas = ['mano', 'batai', 'buvo', 'du']\n",
        "\n",
        "# pasako kurioje sąrašo vietoje (kuriame indekse) yra nurodyta reikšmė,\n",
        "# bet pradeda paiešką ties 2-u indeksu, o baigia ties 3-u\n",
        "print(tekstas.index('batai', 2, 3))"
      ]
    },
    {
      "cell_type": "markdown",
      "metadata": {
        "id": "SvU3A6JOCvlR"
      },
      "source": [
        "Šį kartą programa ras batus, nes pradės ieškoti nuo antro elemento."
      ]
    },
    {
      "cell_type": "code",
      "execution_count": null,
      "metadata": {
        "id": "rE8XOCWBCvlR"
      },
      "outputs": [],
      "source": [
        "tekstas = ['mano', 'batai', 'buvo', 'du']\n",
        "\n",
        "# pasako kurioje sąrašo vietoje (kuriame indekse) yra nurodyta reikšmė,\n",
        "# bet pradeda paiešką ties 1-u indeksu, o baigia ties 3-u\n",
        "print(tekstas.index('batai', 1, 3))"
      ]
    },
    {
      "cell_type": "markdown",
      "metadata": {
        "id": "p8kYa8Y1CvlR"
      },
      "source": [
        "Taip mes galime sužinoti ar tam tikra reikšmė egzistuoja nurodytam sąraše."
      ]
    },
    {
      "cell_type": "code",
      "execution_count": null,
      "metadata": {
        "id": "E5PWh8WQCvlR"
      },
      "outputs": [],
      "source": [
        "zodziai = ['popierius', 'kompiuteris', 'knyga', 'popierius', 'medis']\n",
        "\n",
        "# pasako ar sąraše yra tokia reikšmė\n",
        "print('knyga' in zodziai)"
      ]
    },
    {
      "cell_type": "markdown",
      "metadata": {
        "id": "Bnjf064TCvlS"
      },
      "source": [
        "Šį kartą programa žodžių sąraše neras reikšmės `x`."
      ]
    },
    {
      "cell_type": "code",
      "execution_count": null,
      "metadata": {
        "id": "-F_MiwjRCvlS"
      },
      "outputs": [],
      "source": [
        "zodziai = ['popierius', 'kompiuteris', 'knyga', 'popierius', 'medis']\n",
        "\n",
        "# pasako ar sąraše yra tokia reikšmė\n",
        "print('x' in zodziai)"
      ]
    },
    {
      "cell_type": "markdown",
      "metadata": {
        "id": "fAluy5t1CvlS"
      },
      "source": [
        "Taip galime patikrinti ar raidė (simbolis) yra eilutėje."
      ]
    },
    {
      "cell_type": "code",
      "execution_count": null,
      "metadata": {
        "id": "Y-ltkIoiCvlS"
      },
      "outputs": [],
      "source": [
        "# pasako ar tekste yra tokia reikšmė\n",
        "print('m' in 'labas mano vardas Ieva')"
      ]
    },
    {
      "cell_type": "markdown",
      "metadata": {
        "id": "5JG8eUX8CvlS"
      },
      "source": [
        "Dar vienas pavyzdys su miestų sąrašu."
      ]
    },
    {
      "cell_type": "code",
      "execution_count": null,
      "metadata": {
        "id": "UrxeqMU0CvlS"
      },
      "outputs": [],
      "source": [
        "miestai = ['Vilnius', 'Kaunas', 'Klaipėda', 'Šiauliai']\n",
        "\n",
        "if 'Kaunas' in miestai:\n",
        "    print('Kaunas tarp miestų rastas.')\n",
        "else:\n",
        "    print('Kaunas tarp miestų nerastas.')\n",
        "\n",
        "if 'Biržai' in miestai:\n",
        "    print('Biržai tarp miestų rastas.')\n",
        "else:\n",
        "    print('Biržai tarp miestų nerastas.')"
      ]
    },
    {
      "cell_type": "markdown",
      "metadata": {
        "id": "4roBhQOlCvlT"
      },
      "source": [
        "Naudodami metodą `count()`, galime suskaičiuoti kiek kartų elementas pasikartoja sąraše."
      ]
    },
    {
      "cell_type": "code",
      "execution_count": null,
      "metadata": {
        "id": "PsoXdxUTCvlT"
      },
      "outputs": [],
      "source": [
        "zodziai = ['popierius', 'kompiuteris', 'knyga', 'popierius', 'medis']\n",
        "\n",
        "# pasako kiek kartų šita reikšmė rasta sąraše\n",
        "print(zodziai.count('popierius'))"
      ]
    },
    {
      "cell_type": "markdown",
      "metadata": {
        "id": "MU0miZyBCvlT"
      },
      "source": [
        "## Užduotys"
      ]
    },
    {
      "cell_type": "markdown",
      "metadata": {
        "id": "GFnMByf9CvlT"
      },
      "source": [
        "### Užduotis 1\n",
        "\n",
        "Sukurkite miestų sąrašą. Į šį sąrašą pridėkite duomenų. Leiskite vartotojui papildyti sąrašą. Atspausdinkite tiek pradinį sąrašą, tiek papildytą duomenimis. Papildykite programą taip, kad naudotojas galėtų pasirinkti į kurią sąrašo vietą būtų įrašytas naujas miestas."
      ]
    },
    {
      "cell_type": "code",
      "execution_count": null,
      "metadata": {
        "id": "rqrBwBqQCvlT"
      },
      "outputs": [],
      "source": [
        "# Kodą rašykite čia..."
      ]
    },
    {
      "cell_type": "markdown",
      "metadata": {
        "id": "LXablStxCvlT"
      },
      "source": [
        "### Užduotis 2\n",
        "\n",
        "Sukurkite sąrašą ir užpildykite jį pasirinktais duomenimis. Iš jo pašalinkite kelis įrašus panaudodami `pop()` metodą. Leiskite naudotojui pašalinti iš sąrašo galo nurodomą įrašų kiekį."
      ]
    },
    {
      "cell_type": "code",
      "execution_count": null,
      "metadata": {
        "id": "6Ntt2AhJCvlT"
      },
      "outputs": [],
      "source": [
        "# Kodą rašykite čia..."
      ]
    },
    {
      "cell_type": "markdown",
      "metadata": {
        "id": "fX-KCI5tCvlU"
      },
      "source": [
        "### Užduotis 3\n",
        "\n",
        "Sukurkite sąrašą su pasirinktais duomenimis. Patikrinkite ar sąraše yra daugiau nei 5 įrašai. Jeigu taip - jį išvalykite (naudodami `clear()` metodą)."
      ]
    },
    {
      "cell_type": "code",
      "execution_count": null,
      "metadata": {
        "id": "FhTZIkCKCvlU"
      },
      "outputs": [],
      "source": [
        "# Kodą rašykite čia..."
      ]
    },
    {
      "cell_type": "markdown",
      "metadata": {
        "id": "14_UI1QnCvlU"
      },
      "source": [
        "### Užduotis 4\n",
        "\n",
        "Sukurkite sąrašą, kuriame būtų surašyti bet kokie žodžiai. Leiskite naudotojui atlikti paiešką tame sąraše. Naudotojas turi įvesti ieškomą žodį ir programa turi atspausdinti, ar žodis yra. Jeigu žodis egzistuoja, programa turi atspausdinti jo vietą (indeksą)."
      ]
    },
    {
      "cell_type": "code",
      "execution_count": null,
      "metadata": {
        "id": "eUKafWN4CvlU"
      },
      "outputs": [],
      "source": [
        "# Kodą rašykite čia..."
      ]
    },
    {
      "cell_type": "markdown",
      "metadata": {
        "id": "cmDhjTiBCvlU"
      },
      "source": [
        "### Užduotis 5\n",
        "\n",
        "Sukurkite sąrašą, kuriame būtų surašyti studentų pažymiai. Galite padaryti taip, kad pasirinktą kiekį pažymių galėtų įvesti pats vartotojas. Programa turi dešimtukų kiekį."
      ]
    },
    {
      "cell_type": "code",
      "execution_count": null,
      "metadata": {
        "id": "pNSqV4HqCvlU"
      },
      "outputs": [],
      "source": [
        "# Kodą rašykite čia..."
      ]
    }
  ],
  "metadata": {
    "kernelspec": {
      "display_name": "Python 3",
      "language": "python",
      "name": "python3"
    },
    "language_info": {
      "codemirror_mode": {
        "name": "ipython",
        "version": 3
      },
      "file_extension": ".py",
      "mimetype": "text/x-python",
      "name": "python",
      "nbconvert_exporter": "python",
      "pygments_lexer": "ipython3",
      "version": "3.10.10"
    },
    "orig_nbformat": 4,
    "vscode": {
      "interpreter": {
        "hash": "aa11ca274996316222ef16f35c5f6dbeb467b694c0b2154cdf34dcf9271d5fd0"
      }
    },
    "colab": {
      "provenance": []
    }
  },
  "nbformat": 4,
  "nbformat_minor": 0
}