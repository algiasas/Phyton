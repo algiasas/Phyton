{
  "cells": [
    {
      "cell_type": "markdown",
      "metadata": {
        "id": "NBWYXX84DCCc"
      },
      "source": [
        "[![Open In Colab](https://colab.research.google.com/assets/colab-badge.svg)](https://colab.research.google.com/github/blaztoma/pitono-pamokos/blob/main/pamokos/13%20-%20Sarasai/13-06%20-%20S%C4%85ra%C5%A1ai%20lists%206.ipynb)"
      ]
    },
    {
      "cell_type": "markdown",
      "metadata": {
        "id": "J3hTrCbNDCCg"
      },
      "source": [
        "# Sąrašai (`lists`) (6 dalis)"
      ]
    },
    {
      "cell_type": "markdown",
      "metadata": {
        "id": "gHvTIxk1DCCh"
      },
      "source": [
        "## Sąrašo išpakavimas (`list unpacking`)"
      ]
    },
    {
      "cell_type": "markdown",
      "metadata": {
        "id": "xDBrbtAMDCCh"
      },
      "source": [
        "## Pavyzdžiai"
      ]
    },
    {
      "cell_type": "markdown",
      "metadata": {
        "id": "oDwwCOmdDCCh"
      },
      "source": [
        "Tarkime, turime tokį sąrašą:"
      ]
    },
    {
      "cell_type": "code",
      "execution_count": null,
      "metadata": {
        "id": "zQnzHgRMDCCi"
      },
      "outputs": [],
      "source": [
        "zmogaus_informacija = ['Jonas', 'Jonaitis', 23, 'KTU', 7]\n",
        "print(zmogaus_informacija)"
      ]
    },
    {
      "cell_type": "markdown",
      "metadata": {
        "id": "ZYF6PSv9DCCj"
      },
      "source": [
        "Jį galime **išpakuoti** į atskirus kintamuosius."
      ]
    },
    {
      "cell_type": "code",
      "execution_count": null,
      "metadata": {
        "id": "iagZ2x0WDCCj"
      },
      "outputs": [],
      "source": [
        "vardas, pavarde, amzius, mokykla, vidurkis = ['Jonas', 'Jonaitis', 23, 'KTU', 7]\n",
        "\n",
        "print(vardas)\n",
        "print(pavarde)\n",
        "print(amzius)\n",
        "print(mokykla)\n",
        "print(vidurkis)"
      ]
    },
    {
      "cell_type": "markdown",
      "metadata": {
        "id": "coEycm94DCCk"
      },
      "source": [
        "Štai tokiu būdu išpakuojame studento vardą, pavardę ir jo pažymių sąrašą. Atkreipkite dėmesį, kad sąrašui pažymėti naudojama žvaigždutė (`*`). "
      ]
    },
    {
      "cell_type": "code",
      "execution_count": null,
      "metadata": {
        "id": "cNv1reOXDCCk"
      },
      "outputs": [],
      "source": [
        "vardas, pavarde, *pazymiai = ['Petras', 'Petrauskas', 7, 8, 9, 6, 5]\n",
        "\n",
        "print(vardas)\n",
        "print(pavarde)\n",
        "print(pazymiai)"
      ]
    },
    {
      "cell_type": "markdown",
      "metadata": {
        "id": "yUZfhmR4DCCl"
      },
      "source": [
        "Pitonas atpažins ir tokį aprašymą."
      ]
    },
    {
      "cell_type": "code",
      "execution_count": null,
      "metadata": {
        "id": "Jipvx65cDCCl"
      },
      "outputs": [],
      "source": [
        "vardas, pavarde, *pazymiai, mokykla = ['Ona', 'Onutė', 7, 8, 9, 7, 5, 9, 'KTU']\n",
        "\n",
        "print(vardas)\n",
        "print(pavarde)\n",
        "print(pazymiai)\n",
        "print(mokykla)"
      ]
    },
    {
      "cell_type": "markdown",
      "metadata": {
        "id": "qQUZvWNCDCCl"
      },
      "source": [
        "Eilutę irgi galime išpakuoti į atskirus kintamuosius. Tam pasiverčiam į sąrašą."
      ]
    },
    {
      "cell_type": "code",
      "execution_count": null,
      "metadata": {
        "id": "Q7nTEw0ADCCl"
      },
      "outputs": [],
      "source": [
        "sakinys = 'Jonas;Jonauskas;KTU;7;8;9'\n",
        "informacija = sakinys.split(';')\n",
        "print(informacija)"
      ]
    },
    {
      "cell_type": "markdown",
      "metadata": {
        "id": "2bdI5gKoDCCm"
      },
      "source": [
        "Pasivertus į sąrašą jau galime išpakuoti jo reikšmes."
      ]
    },
    {
      "cell_type": "code",
      "execution_count": null,
      "metadata": {
        "id": "GQycGyOBDCCm"
      },
      "outputs": [],
      "source": [
        "sakinys = 'Jonas;Jonauskas;KTU;7;8;9'\n",
        "vardas, pavarde, mokykla, *pazymiai = sakinys.split(';')\n",
        "\n",
        "print(vardas)\n",
        "print(pavarde)\n",
        "print(mokykla)\n",
        "print(pazymiai)"
      ]
    },
    {
      "cell_type": "markdown",
      "metadata": {
        "id": "4dobJFRADCCm"
      },
      "source": [
        "Tiesa, pažymiai liko kaip eilutės. Todėl mes turime juos pasiversti į int tipo sąrašą."
      ]
    },
    {
      "cell_type": "code",
      "execution_count": null,
      "metadata": {
        "id": "7dNGkrsIDCCm"
      },
      "outputs": [],
      "source": [
        "sakinys = 'Jonas;Jonauskas;23;KTU;7;8;9'\n",
        "vardas, pavarde, metai, mokykla, *pazymiai = sakinys.split(';')\n",
        "metai = int(metai)\n",
        "pazymiai = list( map(int, pazymiai) )\n",
        "\n",
        "print(vardas)\n",
        "print(pavarde)\n",
        "print(metai)\n",
        "print(mokykla)\n",
        "print(pazymiai)"
      ]
    },
    {
      "cell_type": "markdown",
      "metadata": {
        "id": "BeUFp2KNDCCn"
      },
      "source": [
        "## Užduotys"
      ]
    },
    {
      "cell_type": "markdown",
      "metadata": {
        "id": "fvrfIlSuDCCn"
      },
      "source": [
        "### Užduotis 1\n",
        "\n",
        "Jums duotas sąrašas, kurį turite \"išpakuoti\". Duoto sąrašo laukai yra tokie: gamintojas; modelis; rida; metai; darbinis tūris. Atspausdinkite šio sąrašo informaciją."
      ]
    },
    {
      "cell_type": "code",
      "execution_count": null,
      "metadata": {
        "id": "_3uDYaC3DCCn"
      },
      "outputs": [],
      "source": [
        "# .... = ['Audi', 'A4', 12454, 2010, 1.6]\n",
        "\n",
        "# Kodą rašykite čia..."
      ]
    },
    {
      "cell_type": "markdown",
      "metadata": {
        "id": "3wBc5dXADCCn"
      },
      "source": [
        "### Užduotis 2\n",
        "\n",
        "Jums yra duoti du sąrašai, kuriuos turite \"išpakuoti\". Duoto sąrašo laukai yra tokie: savaitė; temperatūrų vidurkiai. Atspausdinkite šių sąrašų informaciją.\n",
        "\n",
        "*Papildomai:*\n",
        "\n",
        "Pamėginkite rasti abiejų savaičių vidurkius. Suraskite kurios savaitės vidurkis didesnis ir per kiek išveskite."
      ]
    },
    {
      "cell_type": "code",
      "execution_count": null,
      "metadata": {
        "id": "f4VmFJwBDCCn"
      },
      "outputs": [],
      "source": [
        "# ... = ['24 savaitė', 14.7, 15.8, 14.4, 16.2]\n",
        "# ... = ['25 savaitė', 15.2, 14.1, 16.5, 17.4]\n",
        "\n",
        "# Kodą rašykite čia..."
      ]
    },
    {
      "cell_type": "markdown",
      "metadata": {
        "id": "0L6SmydFDCCn"
      },
      "source": [
        "### Užduotis 3\n",
        "\n",
        "Jums yra duotas sąrašas, kurį turite \"išpakuoti\". Duoto sąrašo laukai yra tokie: prekės pavadinimas; kaina; savikaina; kiekis sandėlyje. Atspausdinkite sąrašo informaciją. Raskite kiek būtų galima uždirbti pardavus visas prekes (nepamirškite atimti savikainos)."
      ]
    },
    {
      "cell_type": "code",
      "execution_count": null,
      "metadata": {
        "id": "UfcXfluVDCCo"
      },
      "outputs": [],
      "source": [
        "# ... = ['Pieštukas', 2, 1, 74]\n",
        "\n",
        "# Kodą rašykite čia..."
      ]
    }
  ],
  "metadata": {
    "kernelspec": {
      "display_name": "Python 3",
      "language": "python",
      "name": "python3"
    },
    "language_info": {
      "codemirror_mode": {
        "name": "ipython",
        "version": 3
      },
      "file_extension": ".py",
      "mimetype": "text/x-python",
      "name": "python",
      "nbconvert_exporter": "python",
      "pygments_lexer": "ipython3",
      "version": "3.10.10"
    },
    "orig_nbformat": 4,
    "vscode": {
      "interpreter": {
        "hash": "aa11ca274996316222ef16f35c5f6dbeb467b694c0b2154cdf34dcf9271d5fd0"
      }
    },
    "colab": {
      "provenance": []
    }
  },
  "nbformat": 4,
  "nbformat_minor": 0
}