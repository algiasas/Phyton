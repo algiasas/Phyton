{
  "cells": [
    {
      "cell_type": "markdown",
      "metadata": {
        "id": "0JjeiSyrDaBt"
      },
      "source": [
        "[![Open In Colab](https://colab.research.google.com/assets/colab-badge.svg)](https://colab.research.google.com/github/blaztoma/pitono-pamokos/blob/main/pamokos/13%20-%20Sarasai/13-10%20-%20S%C4%85ra%C5%A1ai%20lists%2010.ipynb)"
      ]
    },
    {
      "cell_type": "markdown",
      "metadata": {
        "id": "nXmW6GisDaBx"
      },
      "source": [
        "# Sąrašai (`lists`) (10 dalis)"
      ]
    },
    {
      "cell_type": "markdown",
      "metadata": {
        "id": "cGdv0-KADaBy"
      },
      "source": [
        "## Pavyzdžiai"
      ]
    },
    {
      "cell_type": "code",
      "execution_count": null,
      "metadata": {
        "id": "F-SdtIu8DaBy",
        "outputId": "25a09cee-49ed-4eaa-e9b6-cc4770a21508"
      },
      "outputs": [
        {
          "name": "stdout",
          "output_type": "stream",
          "text": [
            "Visa matrica: [[8, 7, 5, 3], [4, 7, 5, 2], [4, 7, 8, 3], [5, 2, 3, 1]]\n",
            "Antra eilė: [4, 7, 5, 2]\n",
            "Antros eilės trečias: 5\n"
          ]
        }
      ],
      "source": [
        "matrica = [\n",
        "    [8, 7, 5, 3],\n",
        "    [4, 7, 5, 2],\n",
        "    [4, 7, 8, 3],\n",
        "    [5, 2, 3, 1]\n",
        "]\n",
        "\n",
        "print('Visa matrica:', matrica)\n",
        "print('Antra eilė:', matrica[1])\n",
        "print('Antros eilės trečias:', matrica[1][2])"
      ]
    },
    {
      "cell_type": "code",
      "execution_count": null,
      "metadata": {
        "id": "deE1ruEpDaB0",
        "outputId": "4d89386f-222a-401e-ef23-6c9d64743f7d"
      },
      "outputs": [
        {
          "name": "stdout",
          "output_type": "stream",
          "text": [
            "['Jonas', 7, 8, 5, 6, 3]\n",
            "['Petras', 8, 9, 8, 8, 9, 10]\n",
            "['Ona', 7, 8]\n",
            "['Birutė', 9, 9, 10, 10, 7, 8]\n",
            "['Ugnius', 7, 7, 8, 9, 7]\n"
          ]
        }
      ],
      "source": [
        "studentu_pazymiai = [\n",
        "    ['Jonas', 7, 8, 5, 6, 3],\n",
        "    ['Petras', 8, 9, 8, 8, 9, 10],\n",
        "    ['Ona', 7, 8],\n",
        "    ['Birutė', 9, 9, 10, 10, 7, 8],\n",
        "    ['Ugnius', 7, 7, 8, 9, 7]\n",
        "]\n",
        "\n",
        "for studentas in studentu_pazymiai:\n",
        "    print(studentas)"
      ]
    },
    {
      "cell_type": "code",
      "execution_count": null,
      "metadata": {
        "id": "2rZoBftKDaB0",
        "outputId": "0d78712e-5841-445b-e37d-17efbc439279"
      },
      "outputs": [
        {
          "name": "stdout",
          "output_type": "stream",
          "text": [
            "Jonas 7 8 5 6 3 \n",
            "Petras 8 9 8 8 9 10 \n",
            "Ona 7 8 \n",
            "Birutė 9 9 10 10 7 8 \n",
            "Ugnius 7 7 8 9 7 \n"
          ]
        }
      ],
      "source": [
        "studentu_pazymiai = [\n",
        "    ['Jonas', 7, 8, 5, 6, 3],\n",
        "    ['Petras', 8, 9, 8, 8, 9, 10],\n",
        "    ['Ona', 7, 8],\n",
        "    ['Birutė', 9, 9, 10, 10, 7, 8],\n",
        "    ['Ugnius', 7, 7, 8, 9, 7]\n",
        "]\n",
        "\n",
        "for studentas in studentu_pazymiai:\n",
        "    for el in studentas:\n",
        "        print(el, end=' ')\n",
        "    print()"
      ]
    },
    {
      "cell_type": "code",
      "execution_count": null,
      "metadata": {
        "id": "rczTrCBbDaB1",
        "outputId": "0d2b93bf-c827-428d-fc52-42050458ecac"
      },
      "outputs": [
        {
          "name": "stdout",
          "output_type": "stream",
          "text": [
            "studento Jonas pažymiai: 7 8 5 6 3 \n",
            "studento Petras pažymiai: 8 9 8 8 9 10 \n",
            "studento Ona pažymiai: 7 8 \n",
            "studento Birutė pažymiai: 9 9 10 10 7 8 \n",
            "studento Ugnius pažymiai: 7 7 8 9 7 \n"
          ]
        }
      ],
      "source": [
        "studentu_pazymiai = [\n",
        "    ['Jonas', 7, 8, 5, 6, 3],\n",
        "    ['Petras', 8, 9, 8, 8, 9, 10],\n",
        "    ['Ona', 7, 8],\n",
        "    ['Birutė', 9, 9, 10, 10, 7, 8],\n",
        "    ['Ugnius', 7, 7, 8, 9, 7]\n",
        "]\n",
        "\n",
        "for studentas in studentu_pazymiai:\n",
        "    print('studento', studentas[0], 'pažymiai: ', end='')\n",
        "    for i in range(1, len(studentas)):\n",
        "        print(studentas[i], end=' ')\n",
        "    print()"
      ]
    },
    {
      "cell_type": "code",
      "execution_count": null,
      "metadata": {
        "id": "Sl_leipEDaB1",
        "outputId": "d3727f20-1c79-4112-ceed-4ded6129baf5"
      },
      "outputs": [
        {
          "name": "stdout",
          "output_type": "stream",
          "text": [
            "Studentas: Jonas\n",
            "Jos/jo pažymiai: [7, 8, 5, 6, 3]\n",
            "Jos/jo pažymiai: 7, 8, 5, 6, 3\n",
            "\n",
            "Studentas: Petras\n",
            "Jos/jo pažymiai: [8, 9, 8, 8, 9, 10]\n",
            "Jos/jo pažymiai: 8, 9, 8, 8, 9, 10\n",
            "\n",
            "Studentas: Ona\n",
            "Jos/jo pažymiai: [7, 8]\n",
            "Jos/jo pažymiai: 7, 8\n",
            "\n",
            "Studentas: Birutė\n",
            "Jos/jo pažymiai: [9, 9, 10, 10, 7, 8]\n",
            "Jos/jo pažymiai: 9, 9, 10, 10, 7, 8\n",
            "\n",
            "Studentas: Ugnius\n",
            "Jos/jo pažymiai: [7, 7, 8, 9, 7]\n",
            "Jos/jo pažymiai: 7, 7, 8, 9, 7\n",
            "\n"
          ]
        }
      ],
      "source": [
        "studentu_pazymiai = [\n",
        "    ['Jonas', [7, 8, 5, 6, 3]],\n",
        "    ['Petras', [8, 9, 8, 8, 9, 10]],\n",
        "    ['Ona', [7, 8]],\n",
        "    ['Birutė', [9, 9, 10, 10, 7, 8]],\n",
        "    ['Ugnius', [7, 7, 8, 9, 7]]\n",
        "]\n",
        "\n",
        "for studentas in studentu_pazymiai:\n",
        "    print('Studentas:', studentas[0])\n",
        "    print('Jos/jo pažymiai:', studentas[1])\n",
        "    print('Jos/jo pažymiai:', ', '.join( map(str, studentas[1]) ))\n",
        "    print()"
      ]
    },
    {
      "cell_type": "code",
      "execution_count": null,
      "metadata": {
        "id": "tvkQtJAMDaB2",
        "outputId": "7b3ae3de-a089-4380-91bc-ab9e43559e51"
      },
      "outputs": [
        {
          "name": "stdout",
          "output_type": "stream",
          "text": [
            "Visi visų studentų pažymiai:\n",
            "7 8 5 6 3 \n",
            "8 9 8 8 9 10 \n",
            "7 8 \n",
            "9 9 10 10 7 8 \n",
            "7 7 8 9 7 \n"
          ]
        }
      ],
      "source": [
        "studentu_pazymiai = [\n",
        "    ['Jonas', [7, 8, 5, 6, 3]],\n",
        "    ['Petras', [8, 9, 8, 8, 9, 10]],\n",
        "    ['Ona', [7, 8]],\n",
        "    ['Birutė', [9, 9, 10, 10, 7, 8]],\n",
        "    ['Ugnius', [7, 7, 8, 9, 7]]\n",
        "]\n",
        "\n",
        "print('Visi visų studentų pažymiai:')\n",
        "\n",
        "for studentas in studentu_pazymiai:\n",
        "    for pazymys in studentas[1]:\n",
        "        print(pazymys, end=' ')\n",
        "    print()"
      ]
    },
    {
      "cell_type": "code",
      "execution_count": null,
      "metadata": {
        "id": "Ap7OTwXEDaB2",
        "outputId": "88ab610e-94b4-47b6-c08b-ddf2bb6c46dd"
      },
      "outputs": [
        {
          "name": "stdout",
          "output_type": "stream",
          "text": [
            "Kiekvienos eilės suma: [23, 18, 22, 11]\n",
            "Bendra visos matricos suma: 74\n"
          ]
        }
      ],
      "source": [
        "matrica = [\n",
        "    [8, 7, 5, 3],\n",
        "    [4, 7, 5, 2],\n",
        "    [4, 7, 8, 3],\n",
        "    [5, 2, 3, 1]\n",
        "]\n",
        "\n",
        "sumos = [ sum(eile) for eile in matrica ]\n",
        "print('Kiekvienos eilės suma:', sumos)\n",
        "\n",
        "bendra_suma = sum(sumos)\n",
        "print('Bendra visos matricos suma:', bendra_suma)"
      ]
    },
    {
      "cell_type": "markdown",
      "metadata": {
        "id": "b3LveWClDaB3"
      },
      "source": [
        "## Užduotys"
      ]
    },
    {
      "cell_type": "markdown",
      "metadata": {
        "id": "FX2AxxCFDaB3"
      },
      "source": [
        "### Užduotis 1\n",
        "\n",
        "Susikurkite bet kokį sąrašą sąraše. Jį išveskite bent dviem skirtingais būdais."
      ]
    },
    {
      "cell_type": "code",
      "execution_count": null,
      "metadata": {
        "id": "-FBpilFiDaB3"
      },
      "outputs": [],
      "source": [
        "# Kodą rašykite čia..."
      ]
    },
    {
      "cell_type": "markdown",
      "metadata": {
        "id": "0K7gFOhhDaB3"
      },
      "source": [
        "### Užduotis 2\n",
        "\n",
        "Susikurkite sąrašą sąraše, kur visi ar dalis narių būtų skaičiai. Išveskite visus lyginius skaičius."
      ]
    },
    {
      "cell_type": "code",
      "execution_count": null,
      "metadata": {
        "id": "67ldO9RKDaB4"
      },
      "outputs": [],
      "source": [
        "# Kodą rašykite čia..."
      ]
    },
    {
      "cell_type": "markdown",
      "metadata": {
        "id": "_uapm_4zDaB4"
      },
      "source": [
        "### Užduotis 3\n",
        "\n",
        "Susikurkite matricą iš skaičių. Raskite visų skaičių vidurkį."
      ]
    },
    {
      "cell_type": "code",
      "execution_count": null,
      "metadata": {
        "id": "sbitcncBDaB4"
      },
      "outputs": [],
      "source": [
        "# Kodą rašykite čia..."
      ]
    },
    {
      "cell_type": "markdown",
      "metadata": {
        "id": "HwMMljfIDaB4"
      },
      "source": [
        "### Užduotis 4\n",
        "\n",
        "Susikurkite bet kokį norimą sąrašą sąraše (kur būtų ir teksto ir skaičių). Jį išveskite. Raskite ką nors iš skaičių, pvz.: kiekvienos eilės sumą, didžiausią skaičių ar pan."
      ]
    },
    {
      "cell_type": "code",
      "execution_count": null,
      "metadata": {
        "id": "ZhWYez7SDaB4"
      },
      "outputs": [],
      "source": [
        "# Kodą rašykite čia..."
      ]
    },
    {
      "cell_type": "markdown",
      "metadata": {
        "id": "vJeZn5CnDaB4"
      },
      "source": [
        "### Užduotis 5\n",
        "\n",
        "Susikurkite kažką panašaus į pavyzdžiuose matytą `studentu_pazymiai` sąraše sąraše. Į naują sąrašą išsikelkite studentų vardus ar kitą tekstinę informaciją. Į kitą naują sąrašą išsikelkite visus skaičius."
      ]
    },
    {
      "cell_type": "code",
      "execution_count": null,
      "metadata": {
        "id": "BE7vdGxmDaB5"
      },
      "outputs": [],
      "source": [
        "# Kodą rašykite čia..."
      ]
    }
  ],
  "metadata": {
    "kernelspec": {
      "display_name": "Python 3",
      "language": "python",
      "name": "python3"
    },
    "language_info": {
      "codemirror_mode": {
        "name": "ipython",
        "version": 3
      },
      "file_extension": ".py",
      "mimetype": "text/x-python",
      "name": "python",
      "nbconvert_exporter": "python",
      "pygments_lexer": "ipython3",
      "version": "3.7.9 (tags/v3.7.9:13c94747c7, Aug 17 2020, 18:58:18) [MSC v.1900 64 bit (AMD64)]"
    },
    "orig_nbformat": 4,
    "vscode": {
      "interpreter": {
        "hash": "aa11ca274996316222ef16f35c5f6dbeb467b694c0b2154cdf34dcf9271d5fd0"
      }
    },
    "colab": {
      "provenance": []
    }
  },
  "nbformat": 4,
  "nbformat_minor": 0
}