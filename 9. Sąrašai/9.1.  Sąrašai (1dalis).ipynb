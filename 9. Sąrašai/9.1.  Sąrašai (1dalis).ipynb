{
  "cells": [
    {
      "cell_type": "markdown",
      "metadata": {
        "id": "HeNbU0ghCqJW"
      },
      "source": [
        "[![Open In Colab](https://colab.research.google.com/assets/colab-badge.svg)](https://colab.research.google.com/github/blaztoma/pitono-pamokos/blob/main/pamokos/13%20-%20Sarasai/13-01%20-%20S%C4%85ra%C5%A1ai%20lists%201.ipynb)"
      ]
    },
    {
      "cell_type": "markdown",
      "metadata": {
        "id": "KMIwvd34CqJa"
      },
      "source": [
        "# Sąrašai (`lists`) (1 dalis)"
      ]
    },
    {
      "cell_type": "markdown",
      "metadata": {
        "id": "1YJY8Rs1CqJa"
      },
      "source": [
        "## Apie sąrašus\n",
        "\n",
        "Sąrašus galima įsivaizduoti kaip duomenų rinkinį. Galimi pavyzdžiai būtų tokie:\n",
        "\n",
        "- studentų pažymiai;\n",
        "- žodžiai;\n",
        "- prekės;\n",
        "- studentai;\n",
        "- automobiliai;\n",
        "- ..."
      ]
    },
    {
      "cell_type": "markdown",
      "metadata": {
        "id": "ytSlitOQCqJb"
      },
      "source": [
        "## Sąrašo kūrimas\n",
        "\n",
        "Tuščias sąrašas (be duomenų):\n",
        "\n",
        "```\n",
        "saraso_pavadinimas = []\n",
        "```\n",
        "\n",
        "Pavyzdžiui:"
      ]
    },
    {
      "cell_type": "code",
      "execution_count": null,
      "metadata": {
        "id": "Mw2f8tvvCqJb"
      },
      "outputs": [],
      "source": [
        "informacija = []"
      ]
    },
    {
      "cell_type": "markdown",
      "metadata": {
        "id": "Z9WkLCTsCqJc"
      },
      "source": [
        "\n",
        "Sąrašas su duomenimis:\n",
        "\n",
        "```\n",
        "saraso_pavadinimas = [reikšmė, reikšmė, reikšmė, ...]\n",
        "```\n",
        "\n",
        "Pavyzdžiui:"
      ]
    },
    {
      "cell_type": "code",
      "execution_count": null,
      "metadata": {
        "id": "sDYCXiV4CqJc"
      },
      "outputs": [],
      "source": [
        "skaiciai = [7, 4, 5, 8, 3, 1]"
      ]
    },
    {
      "cell_type": "code",
      "execution_count": null,
      "metadata": {
        "id": "i5LGb8L_CqJd"
      },
      "outputs": [],
      "source": [
        "zmones = ['Jonas', 'Petras', 'Ona', 'Birutė']"
      ]
    },
    {
      "cell_type": "markdown",
      "metadata": {
        "id": "5wbttFxtCqJd"
      },
      "source": [
        "## Viso sąrašo atvaizdavimas\n",
        "\n",
        "Jeigu norime atvaizduoti viso sąrašo informaciją, tai galime padaryti taip:"
      ]
    },
    {
      "cell_type": "code",
      "execution_count": null,
      "metadata": {
        "id": "_j-Fwfa1CqJe"
      },
      "outputs": [],
      "source": [
        "skaiciai = [7, 5, 6, 9, 7, 5]\n",
        "print(skaiciai)"
      ]
    },
    {
      "cell_type": "code",
      "execution_count": null,
      "metadata": {
        "id": "qXD4CMT1CqJe"
      },
      "outputs": [],
      "source": [
        "zmones = ['Ona', 'Petras', 'Birutė', 'Jonas']\n",
        "print(zmones)"
      ]
    },
    {
      "cell_type": "markdown",
      "metadata": {
        "id": "aQbAwiCaCqJe"
      },
      "source": [
        "## Sąrašo papildymas\n",
        "\n",
        "Jeigu norima papildyti jau egzistuojantį sąrašą, tam galima naudoti `append()` arba `extend()` metodus.\n",
        "\n",
        "Pavyzdžiui:"
      ]
    },
    {
      "cell_type": "code",
      "execution_count": null,
      "metadata": {
        "id": "wV4LYLvxCqJe"
      },
      "outputs": [],
      "source": [
        "skaiciai = [1, 2, 3, 4]\n",
        "\n",
        "skaiciai.append(5)\n",
        "skaiciai.append(6)\n",
        "print(skaiciai)\n",
        "\n",
        "skaiciai.extend([7, 8, 9])\n",
        "print(skaiciai)"
      ]
    },
    {
      "cell_type": "markdown",
      "metadata": {
        "id": "y4tAa5kECqJf"
      },
      "source": [
        "## Sąrašo elementų kiekis\n",
        "\n",
        "Norėdami išsiaiškinti kiek sąraše yra elementų, mes galima naudoti `len()` funkciją:\n",
        "\n",
        "```\n",
        "len(saraso_pavadinimas)\n",
        "```\n",
        "\n",
        "Pavyzdžiui:"
      ]
    },
    {
      "cell_type": "code",
      "execution_count": null,
      "metadata": {
        "id": "lxVXrcYYCqJf"
      },
      "outputs": [],
      "source": [
        "skaiciai = [5, 2, 3, 5, 4]\n",
        "print( len(skaiciai) )"
      ]
    },
    {
      "cell_type": "markdown",
      "metadata": {
        "id": "_DXCDcSQCqJg"
      },
      "source": [
        "## Indeksavimas\n",
        "\n",
        "Jeigu sąraše yra duomenų, tai kiekvienas elementas tame sąraše turi savo indeksą. Šio indekso pagalba galima tą informaciją pasiekti arba pakeisti.\n",
        "\n",
        "Indeksai yra skaičiuojami pradedant nuo 0.\n",
        "\n",
        "Tarkime, turime tokį sąrašą:\n",
        "\n",
        "```\n",
        "pazymiai = [7, 8, 5, 9, 10, 6]\n",
        "```\n",
        "\n",
        "Kiekvienas sąrašo elementas įgaus tokius indeksus:\n",
        "\n",
        "| Elementas iš sąrašo | 7 | 8 | 5 | 9 | 10 | 6 |\n",
        "|-|-|-|-|-|-|-|\n",
        "| Priskirtas indeksas | 0 | 1 | 2 | 3 | 4 | 5 |\n",
        "\n",
        "Jeigu turime tokį sąrašą:\n",
        "\n",
        "```\n",
        "medziai = ['Gluosnis', 'Ąžuolas', 'Liepa', 'Berželis', 'Obelis']\n",
        "```\n",
        "\n",
        "Kiekvienas sąrašo elementas įgaus tokius indeksus:\n",
        "\n",
        "| Elementas iš sąrašo | 'Gluosnis' | 'Ąžuolas' | 'Liepa' | 'Berželis' | 'Obelis' |\n",
        "|-|-|-|-|-|-|\n",
        "| Priskirtas indeksas | 0 | 1 | 2 | 3 | 4 |\n",
        "\n",
        "Pitonas taip pat leidžia indeksavimą taikyti nuo galo. Šiuo atveju numeracija pradedama nuo -1, pavyzdžiui:\n",
        "\n",
        "| Elementas iš sąrašo | 'Gluosnis' | 'Ąžuolas' | 'Liepa' | 'Berželis' | 'Obelis' |\n",
        "|-|-|-|-|-|-|\n",
        "| Priskirtas indeksas (nuo galo) | -5 | -4 | -3 | -2 | -1 |"
      ]
    },
    {
      "cell_type": "markdown",
      "metadata": {
        "id": "U_1URP5KCqJg"
      },
      "source": [
        "### Indekso naudojimo sintaksė\n",
        "\n",
        "Norint gauti informaciją:\n",
        "\n",
        "```\n",
        "saraso_pavadinimas[indeksas]\n",
        "```\n",
        "\n",
        "Norint atnaujinti informaciją:\n",
        "\n",
        "```\n",
        "saraso_pavadinimas[indeksas] = nauja_reiksme\n",
        "```"
      ]
    },
    {
      "cell_type": "markdown",
      "metadata": {
        "id": "7VMr84R8CqJg"
      },
      "source": [
        "### Užduotis: koks indeksas arba reikšmė?\n",
        "\n",
        "| Reikšmė | 5 | 8 | 9 | 3 | -1 | 7 | -2 | 4 |\n",
        "|-|-|-|-|-|-|-|-|-|\n",
        "| Indesas | 0 | 1 | 2 | 3 | 4 | 5 | 6 | 7 |\n",
        "\n",
        "- skaiciai[???] = 5\n",
        "- skaiciai[3] = ???\n",
        "- skaiciai[6] = ???\n",
        "- skaiciai[???] = 8\n",
        "- skaiciai[???] = 7\n",
        "- skaiciai[4] = ???\n",
        "- skaiciai[???] = 9\n",
        "- skaiciai[???] = 4"
      ]
    },
    {
      "cell_type": "markdown",
      "metadata": {
        "id": "U9eevT-vCqJh"
      },
      "source": [
        "## Pavyzdžiai"
      ]
    },
    {
      "cell_type": "markdown",
      "metadata": {
        "id": "1IWX5plUCqJh"
      },
      "source": [
        "Pasižiūrėkime, kaip pateikiami įvairių tipų sąrašai."
      ]
    },
    {
      "cell_type": "code",
      "execution_count": null,
      "metadata": {
        "id": "FFqbXThBCqJh"
      },
      "outputs": [],
      "source": [
        "list = [1, 2, 3, 4, 5, 6]\n",
        "list_2 = ['a', 'b', 'c']\n",
        "list_3 = [1, 2, 'a', True]\n",
        "\n",
        "print(list)\n",
        "print(list_2)\n",
        "print(list_3)"
      ]
    },
    {
      "cell_type": "markdown",
      "metadata": {
        "id": "PXDywmklCqJh"
      },
      "source": [
        "Pasižiūrėkite į programą ir mintyse įvardinkite išvedamas reikšmės. Paleiskite programą ir pasitikrinkite."
      ]
    },
    {
      "cell_type": "code",
      "execution_count": null,
      "metadata": {
        "id": "bq-erzm2CqJh"
      },
      "outputs": [],
      "source": [
        "skaiciai = [78, 65, 95, 21, 23, 14, 74, 147]\n",
        "\n",
        "print(skaiciai[0])\n",
        "print(skaiciai[2])\n",
        "print(skaiciai[4])\n",
        "print(skaiciai[5])"
      ]
    },
    {
      "cell_type": "markdown",
      "metadata": {
        "id": "Nio2RjrYCqJh"
      },
      "source": [
        "Čia parodytos įvairios manipuliacijos indeksais. "
      ]
    },
    {
      "cell_type": "code",
      "execution_count": null,
      "metadata": {
        "id": "UsLLfU0lCqJi"
      },
      "outputs": [],
      "source": [
        "skaiciai = [47, 54, 25, 36, 87]\n",
        "\n",
        "print('Sąrašas:', skaiciai)\n",
        "print('Pirmas sąrašo skaičius:', skaiciai[0])\n",
        "print('Narių kiekis sąraše:', len(skaiciai))\n",
        "print('Paskutinis sąrašo skaičius:', skaiciai[-1])\n",
        "print('Paskutinis sąrašo skaičius:', skaiciai[len(skaiciai) - 1])"
      ]
    },
    {
      "cell_type": "markdown",
      "metadata": {
        "id": "6PmDQe69CqJi"
      },
      "source": [
        "Pažiūrėkite, kaip galime papildyti sąrašus."
      ]
    },
    {
      "cell_type": "code",
      "execution_count": null,
      "metadata": {
        "id": "O2rw_P2aCqJi"
      },
      "outputs": [],
      "source": [
        "skaiciai = []\n",
        "\n",
        "print(skaiciai)\n",
        "\n",
        "# sąrašo papildymas nurodyta reikšme, pridedama į galą\n",
        "skaiciai.append(87)\n",
        "skaiciai.append(95)\n",
        "\n",
        "print(skaiciai)\n",
        "\n",
        "# sąrašo papildymas keliomis nurodytomis reikšmėmis, pridedama į galą\n",
        "skaiciai.extend([147, 258, 399])\n",
        "\n",
        "print(skaiciai)"
      ]
    },
    {
      "cell_type": "markdown",
      "metadata": {
        "id": "4K7mMJuYCqJi"
      },
      "source": [
        "Paprastas sąrašo elementų vidurkio skaičiavimas. Pagalvokite, kaip tai galima padaryti ciklo pagalba."
      ]
    },
    {
      "cell_type": "code",
      "execution_count": null,
      "metadata": {
        "id": "Nw4D3VHyCqJi"
      },
      "outputs": [],
      "source": [
        "pazymiai = [8, 7, 9, 9, 8]\n",
        "\n",
        "print('Studento pažymiai:', pazymiai)\n",
        "\n",
        "suma = pazymiai[0] + pazymiai[1] + pazymiai[2] + pazymiai[3] + pazymiai[4]\n",
        "vidurkis = suma / len(pazymiai)\n",
        "\n",
        "print('Gauta suma:', suma)\n",
        "print('Pažymių vidurkis:', vidurkis)"
      ]
    },
    {
      "cell_type": "markdown",
      "metadata": {
        "id": "9v10FNJ-CqJi"
      },
      "source": [
        "Sąrašo elementų pakeitimo pavyzdys."
      ]
    },
    {
      "cell_type": "code",
      "execution_count": null,
      "metadata": {
        "id": "Ehs-TGwvCqJi"
      },
      "outputs": [],
      "source": [
        "vardai = ['Agnė', 'Tomas', 'Gintarė', 'Petras']\n",
        "\n",
        "print(vardai)\n",
        "\n",
        "vardai[0] = 'Paulina'\n",
        "vardai[3] = 'Justas'\n",
        "\n",
        "print(vardai)"
      ]
    },
    {
      "cell_type": "markdown",
      "metadata": {
        "id": "3S3Zmk9bCqJj"
      },
      "source": [
        "Pavyzdžiuose esančias operacijas galime atlikti ne tik su skaičiais, bet ir su eilutėmis ir kitais elementais."
      ]
    },
    {
      "cell_type": "code",
      "execution_count": null,
      "metadata": {
        "id": "GGArSaFZCqJj"
      },
      "outputs": [],
      "source": [
        "failai = [\n",
        "    'naujienos/pirma.txt',\n",
        "    'naujienos/antra.txt',\n",
        "    'naujienos/trecia.txt',\n",
        "    'naujienos/ketvirta.txt',\n",
        "    'naujienos/penkta.txt'\n",
        "]\n",
        "\n",
        "print('Naujienų failai:', failai)\n",
        "print('Naujienų kiekis:', len(failai))\n",
        "print()\n",
        "\n",
        "dar_viena = 'naujienos/sesta.txt'\n",
        "failai.append(dar_viena)\n",
        "\n",
        "print('Papildomai pridėta naujiena:', dar_viena)\n",
        "print('Naujienų failai:', failai)\n",
        "print('Naujienų kiekis:', len(failai))"
      ]
    },
    {
      "cell_type": "markdown",
      "metadata": {
        "id": "PUg9MJijCqJj"
      },
      "source": [
        "Kai naudojam `range()`, tai gauname `range` objektą. Norėdami gauti skaičių eilutę, turime `range` objektą paversti į sąrašą."
      ]
    },
    {
      "cell_type": "code",
      "execution_count": null,
      "metadata": {
        "id": "kIg229ugCqJj"
      },
      "outputs": [],
      "source": [
        "print(range(1, 100))\n",
        "print(list(range(1, 100)))"
      ]
    },
    {
      "cell_type": "markdown",
      "metadata": {
        "id": "l22v1rkmCqJj"
      },
      "source": [
        "Čia parodytas sąrašo formavimas iš atsitiktinių skaičių."
      ]
    },
    {
      "cell_type": "code",
      "execution_count": null,
      "metadata": {
        "id": "FbQJS6qTCqJj"
      },
      "outputs": [],
      "source": [
        "from random import randint\n",
        "\n",
        "skaiciai = []\n",
        "print(skaiciai)\n",
        "\n",
        "naujas_sk = randint(1, 10)\n",
        "naujas_sk2 = randint(1, 15)\n",
        "\n",
        "skaiciai.append(naujas_sk)\n",
        "skaiciai.append(naujas_sk2)\n",
        "\n",
        "print(skaiciai)"
      ]
    },
    {
      "cell_type": "markdown",
      "metadata": {
        "id": "kfbjItTWCqJk"
      },
      "source": [
        "Sąrašo išplėtimas keliom atsitiktinėm reikšmėm."
      ]
    },
    {
      "cell_type": "code",
      "execution_count": null,
      "metadata": {
        "id": "CRX6b1PlCqJk"
      },
      "outputs": [],
      "source": [
        "# Ši eilutė bus veiksni jeigu būsite įvykdę ankstesnį langelį.\n",
        "# from random import randint\n",
        "\n",
        "skaiciai = []\n",
        "print(skaiciai)\n",
        "\n",
        "skaiciai.extend([ randint(1, 10), randint(1, 10), randint(1, 10) ])\n",
        "print(skaiciai)"
      ]
    },
    {
      "cell_type": "markdown",
      "metadata": {
        "id": "i9aEMzR7CqJk"
      },
      "source": [
        "## Užduotys"
      ]
    },
    {
      "cell_type": "markdown",
      "metadata": {
        "id": "N3nqD43sCqJk"
      },
      "source": [
        "### Užduotis 1\n",
        "\n",
        "Sukurkite sąrašą vardams saugoti ir užpildykite jį informacija. Atspausdinkite šį sąrašą, kiekvieną vardą spausdindami atskiroje eilutėje."
      ]
    },
    {
      "cell_type": "code",
      "execution_count": null,
      "metadata": {
        "id": "0b6VAhiPCqJk"
      },
      "outputs": [],
      "source": [
        "# Kodą rašykite čia..."
      ]
    },
    {
      "cell_type": "markdown",
      "metadata": {
        "id": "JsdtAoM0CqJk"
      },
      "source": [
        "### Užduotis 2\n",
        "\n",
        "Sukurkite sąrašą, kuriame būtų prekių pavadinimai (pvz.: obuoliai, kriaušės, morkos, svogūnai, ...). Atspausdinkite šį sąrašą. Pakeiskite trijų pasirinktų narių reikšmes į kitas. Atspausdinkite pakeisto sąrašo informaciją."
      ]
    },
    {
      "cell_type": "code",
      "execution_count": null,
      "metadata": {
        "id": "kR4UZaQWCqJk"
      },
      "outputs": [],
      "source": [
        "# Kodą rašykite čia..."
      ]
    },
    {
      "cell_type": "markdown",
      "metadata": {
        "id": "ZsbcZQ2PCqJk"
      },
      "source": [
        "### Užduotis 3\n",
        "\n",
        "Sukurkite sąrašą žmonių ūgiams saugoti ir užpildykite jį. Atpsausdinkite šio sąrašo kiekį ir duomenis."
      ]
    },
    {
      "cell_type": "code",
      "execution_count": null,
      "metadata": {
        "id": "ZWj6qT9BCqJk"
      },
      "outputs": [],
      "source": [
        "# Kodą rašykite čia..."
      ]
    },
    {
      "cell_type": "markdown",
      "metadata": {
        "id": "iWj6oJF6CqJl"
      },
      "source": [
        "### Užduotis 4\n",
        "\n",
        "Sukurkite sąrašą, kuriame būtų saugomas miestų pavadinimai. Į šį sąrašą įdėkite kelis miestus. Sąrašą atspausdinkite. Taip pat, atspausdinkite miestų kiekį. Šį sąrašą papildykite naudojant `append` ir/arba `extend` metodą. Dar kartą atspausdinkite miestus ir jų kiekį.\n",
        "\n",
        "*Papildomai:*\n",
        "\n",
        "Sugalvokite kaip galėtumėte vartotojui parodyti kiek naujų miestų buvo įrašyta į sąrašą. Pvz.: jeigu sąraše buvo Kaunas ir Vilnius, o naudojant `append` / `extend` buvo pridėta dar Klaipėda, Šiauliai ir Biržai, tai atspausdinkite, kad buvo pridėti 3 nauji miestai. Pasinaudokite `len` funkcija."
      ]
    },
    {
      "cell_type": "code",
      "execution_count": null,
      "metadata": {
        "id": "6DFfyXLgCqJl"
      },
      "outputs": [],
      "source": [
        "# Kodą rašykite čia..."
      ]
    },
    {
      "cell_type": "markdown",
      "metadata": {
        "id": "uBTVZMxoCqJl"
      },
      "source": [
        "### Užduotis 5\n",
        "\n",
        "Sukurkite sąrašą pažymiams saugoti. Sukurkite programą, kuri leistų naudotojui įvesti norimą kiekį naujų duomenų. Atspausdinkite visus pažymius ir jų kiekį."
      ]
    },
    {
      "cell_type": "code",
      "execution_count": null,
      "metadata": {
        "id": "THG2vth1CqJl"
      },
      "outputs": [],
      "source": [
        "# Kodą rašykite čia..."
      ]
    },
    {
      "cell_type": "markdown",
      "metadata": {
        "id": "CD4EcazmCqJl"
      },
      "source": [
        "### Užduotis 6\n",
        "\n",
        "Sukurkite tuščią sąrašą. Užpildykite šį sąrašą keliais atsitiktinais skaičiais. Atspausdinkite šį sąrašą. Raskite skaičių sumą ir vidurkį."
      ]
    },
    {
      "cell_type": "code",
      "execution_count": null,
      "metadata": {
        "id": "2niDa-6sCqJl"
      },
      "outputs": [],
      "source": [
        "# Kodą rašykite čia..."
      ]
    },
    {
      "cell_type": "markdown",
      "metadata": {
        "id": "xU6cUVr4CqJl"
      },
      "source": [
        "### Užduotis 7\n",
        "\n",
        "Sukurkite du sąrašus, skirtus saugoti dviejų studentų pažymiams. Įveskite po 3-5 pažymius kiekvienam studentui. Suskaičiuokite ir atspausdinkite jų vidurkius. Išsiaiškinkite, kurio studento vidurkis didesnis ir kiek. Atspausdinkite rezultatą."
      ]
    },
    {
      "cell_type": "code",
      "execution_count": null,
      "metadata": {
        "id": "RtFjMH4ACqJl"
      },
      "outputs": [],
      "source": [
        "# Kodą rašykite čia..."
      ]
    }
  ],
  "metadata": {
    "kernelspec": {
      "display_name": "Python 3",
      "language": "python",
      "name": "python3"
    },
    "language_info": {
      "codemirror_mode": {
        "name": "ipython",
        "version": 3
      },
      "file_extension": ".py",
      "mimetype": "text/x-python",
      "name": "python",
      "nbconvert_exporter": "python",
      "pygments_lexer": "ipython3",
      "version": "3.7.9 (tags/v3.7.9:13c94747c7, Aug 17 2020, 18:58:18) [MSC v.1900 64 bit (AMD64)]"
    },
    "orig_nbformat": 4,
    "vscode": {
      "interpreter": {
        "hash": "aa11ca274996316222ef16f35c5f6dbeb467b694c0b2154cdf34dcf9271d5fd0"
      }
    },
    "colab": {
      "provenance": []
    }
  },
  "nbformat": 4,
  "nbformat_minor": 0
}