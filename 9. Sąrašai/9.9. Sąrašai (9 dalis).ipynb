{
  "cells": [
    {
      "cell_type": "markdown",
      "metadata": {
        "id": "-kHOTrAnDVL3"
      },
      "source": [
        "[![Open In Colab](https://colab.research.google.com/assets/colab-badge.svg)](https://colab.research.google.com/github/blaztoma/pitono-pamokos/blob/main/pamokos/13%20-%20Sarasai/13-09%20-%20S%C4%85ra%C5%A1ai%20lists%209.ipynb)"
      ]
    },
    {
      "cell_type": "markdown",
      "metadata": {
        "id": "Lgr2cEwwDVL9"
      },
      "source": [
        "# Sąrašai (`lists`) (9 dalis)"
      ]
    },
    {
      "cell_type": "markdown",
      "metadata": {
        "id": "IDDRjPXQDVL-"
      },
      "source": [
        "## Sąrašo perdarymas (`list comprehension`)"
      ]
    },
    {
      "cell_type": "markdown",
      "metadata": {
        "id": "6EL0MpfKDVL-"
      },
      "source": [
        "## Pavyzdžiai"
      ]
    },
    {
      "cell_type": "code",
      "execution_count": null,
      "metadata": {
        "id": "GknT7Hs1DVL-",
        "outputId": "c6a8901c-8654-461a-a6af-750efd96154e"
      },
      "outputs": [
        {
          "name": "stdout",
          "output_type": "stream",
          "text": [
            "[1, 2, 3, 4, 5, 6]\n",
            "[1, 2, 3, 4, 5, 6]\n"
          ]
        }
      ],
      "source": [
        "pradiniai = [1, 2, 3, 4, 5, 6]\n",
        "nauji = []\n",
        "\n",
        "for el in pradiniai:\n",
        "    nauji.append(el)\n",
        "\n",
        "print(pradiniai)\n",
        "print(nauji)"
      ]
    },
    {
      "cell_type": "code",
      "execution_count": null,
      "metadata": {
        "id": "KwTcp_wCDVMA",
        "outputId": "7c860add-8dc4-4f80-d2d7-5007f110bc5e"
      },
      "outputs": [
        {
          "name": "stdout",
          "output_type": "stream",
          "text": [
            "[1, 2, 3, 4, 5, 6]\n",
            "[1, 2, 3, 4, 5, 6]\n"
          ]
        }
      ],
      "source": [
        "pradiniai = [1, 2, 3, 4, 5, 6]\n",
        "\n",
        "nauji = [ el for el in pradiniai ]\n",
        "\n",
        "print(pradiniai)\n",
        "print(nauji)"
      ]
    },
    {
      "cell_type": "code",
      "execution_count": null,
      "metadata": {
        "id": "GGFZLc1nDVMA",
        "outputId": "bf6ee7f8-d51c-4587-ff10-00b1d8a1222c"
      },
      "outputs": [
        {
          "name": "stdout",
          "output_type": "stream",
          "text": [
            "[1, 2, 3, 4, 5, 6]\n",
            "[2, 4, 6, 8, 10, 12]\n"
          ]
        }
      ],
      "source": [
        "pradiniai = [1, 2, 3, 4, 5, 6]\n",
        "pakeisti = []\n",
        "\n",
        "for el in pradiniai:\n",
        "    pakeisti.append( el * 2 )\n",
        "\n",
        "print(pradiniai)\n",
        "print(pakeisti)"
      ]
    },
    {
      "cell_type": "code",
      "execution_count": null,
      "metadata": {
        "id": "9brlgPx7DVMB",
        "outputId": "06cfd70d-cd18-4d04-d6af-98d0b48f36ad"
      },
      "outputs": [
        {
          "name": "stdout",
          "output_type": "stream",
          "text": [
            "[1, 2, 3, 4, 5, 6]\n",
            "[2, 4, 6, 8, 10, 12]\n"
          ]
        }
      ],
      "source": [
        "pradiniai = [1, 2, 3, 4, 5, 6]\n",
        "\n",
        "pakeisti = [ el * 2 for el in pradiniai ]\n",
        "\n",
        "print(pradiniai)\n",
        "print(pakeisti)"
      ]
    },
    {
      "cell_type": "code",
      "execution_count": null,
      "metadata": {
        "id": "Et4AkDZ_DVMB",
        "outputId": "85290c3e-b2e8-4ab2-eb09-6664d9720730"
      },
      "outputs": [
        {
          "name": "stdout",
          "output_type": "stream",
          "text": [
            "['a', 'b', 'c']\n",
            "['aaaaa', 'bbbbb', 'ccccc']\n"
          ]
        }
      ],
      "source": [
        "raides = ['a', 'b', 'c']\n",
        "pakeisti = [ raide * 5 for raide in raides ]\n",
        "print(raides)\n",
        "print(pakeisti)"
      ]
    },
    {
      "cell_type": "code",
      "execution_count": null,
      "metadata": {
        "id": "DqkGWMlmDVMC",
        "outputId": "e2b44a02-feac-4802-c61a-abd3781fc222"
      },
      "outputs": [
        {
          "name": "stdout",
          "output_type": "stream",
          "text": [
            "[5, 6, 7, 8, 2, 9]\n",
            "[25, 36, 49, 64, 4, 81]\n"
          ]
        }
      ],
      "source": [
        "skaiciai = [5, 6, 7, 8, 2, 9]\n",
        "print(skaiciai)\n",
        "kvadratai = [ sk * sk for sk in skaiciai ]\n",
        "print(kvadratai)"
      ]
    },
    {
      "cell_type": "code",
      "execution_count": null,
      "metadata": {
        "id": "oZacehYJDVMC",
        "outputId": "4fd09940-22f3-4fac-fa77-e21150937250"
      },
      "outputs": [
        {
          "name": "stdout",
          "output_type": "stream",
          "text": [
            "žodžiai: ['paukštis', 'obelis', 'knyga', 'parduotuvė']\n",
            "raidžių kiekiai: [8, 6, 5, 10]\n",
            "viso raidžių: 29\n"
          ]
        }
      ],
      "source": [
        "zodziai = ['paukštis', 'obelis', 'knyga', 'parduotuvė']\n",
        "print('žodžiai:', zodziai)\n",
        "raidziu_kiekiai = [ len(zodis) for zodis in zodziai ]\n",
        "print('raidžių kiekiai:', raidziu_kiekiai)\n",
        "print('viso raidžių:', sum(raidziu_kiekiai))"
      ]
    },
    {
      "cell_type": "code",
      "execution_count": null,
      "metadata": {
        "id": "MIvICW5uDVMC",
        "outputId": "98dd87d6-5651-4bda-f75e-6e574a6aa033"
      },
      "outputs": [
        {
          "name": "stdout",
          "output_type": "stream",
          "text": [
            "pradiniai: [2, 1, 7, -2, -6, 7, -2, -5, 5, 6]\n",
            "atrinkti teigiami: [2, 1, 7, 7, 5, 6]\n"
          ]
        }
      ],
      "source": [
        "pradiniai = [2, 1, 7, -2, -6, 7, -2, -5, 5, 6]\n",
        "print('pradiniai:', pradiniai)\n",
        "\n",
        "teigiami = []\n",
        "\n",
        "for sk in pradiniai:\n",
        "    if sk > 0:\n",
        "        teigiami.append(sk)\n",
        "\n",
        "print('atrinkti teigiami:', teigiami)"
      ]
    },
    {
      "cell_type": "code",
      "execution_count": null,
      "metadata": {
        "id": "-ce55wecDVMD",
        "outputId": "938eae84-77fe-4c8a-f123-cb6fd3c8f517"
      },
      "outputs": [
        {
          "name": "stdout",
          "output_type": "stream",
          "text": [
            "pradiniai: [2, 1, 7, -2, -6, 7, -2, -5, 5, 6]\n",
            "atrinkti teigiami: [2, 1, 7, 7, 5, 6]\n",
            "atrinkti neigiami: [-2, -6, -2, -5]\n"
          ]
        }
      ],
      "source": [
        "pradiniai = [2, 1, 7, -2, -6, 7, -2, -5, 5, 6]\n",
        "print('pradiniai:', pradiniai)\n",
        "\n",
        "teigiami = [ sk for sk in pradiniai if sk > 0 ]\n",
        "print('atrinkti teigiami:', teigiami)\n",
        "\n",
        "neigiami = [ sk for sk in pradiniai if sk < 0 ]\n",
        "print('atrinkti neigiami:', neigiami)"
      ]
    },
    {
      "cell_type": "code",
      "execution_count": null,
      "metadata": {
        "id": "l2tVGkEkDVMD",
        "outputId": "6a213db8-2c56-4310-e6ad-188387820571"
      },
      "outputs": [
        {
          "name": "stdout",
          "output_type": "stream",
          "text": [
            "['Jonas', 'Ugnė', 'Petras', 'Ona', 'Gintarė', 'Povilas']\n",
            "['Petras', 'Gintarė', 'Povilas']\n"
          ]
        }
      ],
      "source": [
        "pradiniai = ['Jonas', 'Ugnė', 'Petras', 'Ona', 'Gintarė', 'Povilas']\n",
        "print(pradiniai)\n",
        "atrinkti = [ vardas for vardas in pradiniai if len(vardas) > 5 ]\n",
        "print(atrinkti)"
      ]
    },
    {
      "cell_type": "code",
      "execution_count": null,
      "metadata": {
        "id": "__iIa7ZbDVMD",
        "outputId": "9e1efe7d-ebf8-4352-8ce7-50341281f1fa"
      },
      "outputs": [
        {
          "name": "stdout",
          "output_type": "stream",
          "text": [
            "[3, 4, 8, 9, 2]\n",
            "['nelyginis', 'lyginis', 'lyginis', 'nelyginis', 'lyginis']\n"
          ]
        }
      ],
      "source": [
        "skaiciai = [3, 4, 8, 9, 2]\n",
        "pakeisti = [ 'lyginis' if sk % 2 == 0 else 'nelyginis' for sk in skaiciai ]\n",
        "print(skaiciai)\n",
        "print(pakeisti)"
      ]
    },
    {
      "cell_type": "code",
      "execution_count": null,
      "metadata": {
        "id": "ApJ5ba0_DVME",
        "outputId": "8351139e-5aad-46a8-8463-d4b31ad45da7"
      },
      "outputs": [
        {
          "name": "stdout",
          "output_type": "stream",
          "text": [
            "['Jonas', 'Petras', 'Ugnė', 'Paulina']\n",
            "['J', 'P', 'U', 'P']\n",
            "['Jonas', 'Petras', 'Ugnė', 'Paulina']\n"
          ]
        }
      ],
      "source": [
        "vardai = ['Jonas', 'Petras', 'Ugnė', 'Paulina']\n",
        "print(vardai)\n",
        "\n",
        "nauji = [ vardas[0].upper() for vardas in vardai ]\n",
        "print(nauji)\n",
        "\n",
        "nauji = [ vardas[0].upper() + vardas[1:] for vardas in vardai ]\n",
        "print(nauji)"
      ]
    },
    {
      "cell_type": "code",
      "execution_count": null,
      "metadata": {
        "id": "tAJlsmXWDVME",
        "outputId": "95b82821-0214-45ae-faa5-c3097ce73f2e"
      },
      "outputs": [
        {
          "name": "stdout",
          "output_type": "stream",
          "text": [
            "['Jonas', 'Petras', 'Ugnė', 'Paulina']\n",
            "['---', 'Petras', '---', 'Paulina']\n"
          ]
        }
      ],
      "source": [
        "vardai = ['Jonas', 'Petras', 'Ugnė', 'Paulina']\n",
        "print(vardai)\n",
        "nauji = [ vardas if vardas.startswith('P') else '---' for vardas in vardai ]\n",
        "print(nauji)"
      ]
    },
    {
      "cell_type": "code",
      "execution_count": null,
      "metadata": {
        "id": "P4k992dTDVME",
        "outputId": "ac98dcf2-a0f1-4273-f6ac-5369f2823173"
      },
      "outputs": [
        {
          "name": "stdout",
          "output_type": "stream",
          "text": [
            "['Jonas', 'Petras', None, 'Paulina', None]\n",
            "['Jonas', 'Petras', '', 'Paulina', '']\n",
            "['Jonas', 'Petras', '', 'Paulina', '']\n"
          ]
        }
      ],
      "source": [
        "vardai = ['Jonas', 'Petras', None, 'Paulina', None]\n",
        "print(vardai)\n",
        "\n",
        "nauji = [ vardas if vardas != None else '' for vardas in vardai ]\n",
        "print(nauji)\n",
        "\n",
        "nauji = [ vardas if vardas is not None else '' for vardas in vardai ]\n",
        "print(nauji)"
      ]
    },
    {
      "cell_type": "code",
      "execution_count": null,
      "metadata": {
        "id": "uofrw9M8DVME",
        "outputId": "fecb4c2f-ec4e-4183-9ef5-30ea1878aaaa"
      },
      "outputs": [
        {
          "name": "stdout",
          "output_type": "stream",
          "text": [
            "['Jonas', 'Petras', None, 'Paulina', None]\n",
            "['Jonas', 'Petras', 'Paulina']\n"
          ]
        }
      ],
      "source": [
        "vardai = ['Jonas', 'Petras', None, 'Paulina', None]\n",
        "print(vardai)\n",
        "nauji = [ vardas for vardas in vardai if vardas is not None ]\n",
        "print(nauji)"
      ]
    },
    {
      "cell_type": "markdown",
      "metadata": {
        "id": "2tyl_L25DVMF"
      },
      "source": [
        "## Užduotys"
      ]
    },
    {
      "cell_type": "markdown",
      "metadata": {
        "id": "cdS8wwGGDVMF"
      },
      "source": [
        "### Užduotis 1\n",
        "\n",
        "Susikurkite studentų pažymių sąrašą ir surašykite pažymių į šį sąrašą. Paverskite visus šio sąrašo pažymius taip, kad ties kiekvienu parodytų kiek trūksta iki 10, pvz, jeigu pažymys yra 8, tai jam iki 10 trūksta 2, arba jeigu pažymys yra 7, tai jam iki 10 trūksta 3, arba jeigu yra 10, tai jam trūksta 0."
      ]
    },
    {
      "cell_type": "code",
      "execution_count": null,
      "metadata": {
        "id": "VrOe4uYmDVMF"
      },
      "outputs": [],
      "source": [
        "# Kodą rašykite čia..."
      ]
    },
    {
      "cell_type": "markdown",
      "metadata": {
        "id": "A0fu5DUdDVMF"
      },
      "source": [
        "### Užduotis 2\n",
        "\n",
        "Susikurkite žodžių sąrašą ir užpildykite jį duomenimis. Paverskite visus šio sąrašo žodžius, kad jie visi būtų iš didžiųjų raidžių."
      ]
    },
    {
      "cell_type": "code",
      "execution_count": null,
      "metadata": {
        "id": "_kByBb0gDVMF"
      },
      "outputs": [],
      "source": [
        "# Kodą rašykite čia..."
      ]
    },
    {
      "cell_type": "markdown",
      "metadata": {
        "id": "NS8FiMKcDVMG"
      },
      "source": [
        "### Užduotis 3\n",
        "\n",
        "Susikurkite žmonių vardų sąrašą ir užpildykite jį duomenimis. Į naują sąrašą paimkite kiekvieno vardo pirmąją raidę. Jeigu bus kažkuris vardas ne iš didžiosios raidės, tai jį paverskite iš didžiosios raidės. Surikiuokite pagal abėcėlę."
      ]
    },
    {
      "cell_type": "code",
      "execution_count": null,
      "metadata": {
        "id": "92TgG4u6DVMG"
      },
      "outputs": [],
      "source": [
        "# Kodą rašykite čia..."
      ]
    },
    {
      "cell_type": "markdown",
      "metadata": {
        "id": "CMrRTMolDVMG"
      },
      "source": [
        "### Užduotis 4\n",
        "\n",
        "Susikurkite skaičių sąrašą ir jį užpildykite duomenimis. Susikurkite naują sąrašą, kuriame būtų pradinių skaičių kvadratai. Susikurkite naują sąrašą, kuriame būtų pradinių skaičių kūbai (trečias laipsnis)."
      ]
    },
    {
      "cell_type": "code",
      "execution_count": null,
      "metadata": {
        "id": "yV7Laa9BDVMG"
      },
      "outputs": [],
      "source": [
        "# Kodą rašykite čia..."
      ]
    },
    {
      "cell_type": "markdown",
      "metadata": {
        "id": "SYvMzjBuDVMG"
      },
      "source": [
        "### Užduotis 5\n",
        "\n",
        "Susikurkite miestų pavadinimų sąrašą, jį užpildykite duomenimis. Šiame sąraše nesilaikykite taisyklingo vardinimo, t.y. miestai gali būti tiek iš didžių raidžių tiek iš mažųjų, gali būti miesto viduryje didžiųjų raidžių ir pan. Sukurkite naują sąrašą šio pagrindu, kur viskas būtų sutvarkyta, t.y. pirma raidė padaryta didžioji, o visos kitos - mažosios."
      ]
    },
    {
      "cell_type": "code",
      "execution_count": null,
      "metadata": {
        "id": "VfnlJjreDVMG"
      },
      "outputs": [],
      "source": [
        "# Kodą rašykite čia..."
      ]
    },
    {
      "cell_type": "markdown",
      "metadata": {
        "id": "j0wI_cF9DVMG"
      },
      "source": [
        "### Užduotis 6\n",
        "\n",
        "Susikurkite skaičių sąrašą su duomenimis. Į naują sąrašą atrinkite tik tuos skaičius, kurie didesni nei kažkoks pasirinktas skaičius (pvz: 5)."
      ]
    },
    {
      "cell_type": "code",
      "execution_count": null,
      "metadata": {
        "id": "y_06eZNdDVMG"
      },
      "outputs": [],
      "source": [
        "# Kodą rašykite čia..."
      ]
    },
    {
      "cell_type": "markdown",
      "metadata": {
        "id": "_X6yJXo8DVMH"
      },
      "source": [
        "### Užduotis 7\n",
        "\n",
        "Susikurkite skaičių sąrašą su duomenimis. Į naują sąrašą atrinkite tik tuos skaičius, kurie yra didesni arba lygūs vidurkiui (prieš tai teks susirasti vidurkį). Taip pat, į naują sąrašą atrinkite tik tuos skaičius, kurie yra mažesni nei vidurkis."
      ]
    },
    {
      "cell_type": "code",
      "execution_count": null,
      "metadata": {
        "id": "VMXF39psDVMH"
      },
      "outputs": [],
      "source": [
        "# Kodą rašykite čia..."
      ]
    },
    {
      "cell_type": "markdown",
      "metadata": {
        "id": "DQTIroHKDVMH"
      },
      "source": [
        "### Užduotis 8\n",
        "\n",
        "Susikurkite skaičių sąrašą su duomenimis. Į naują sąrašą atrinkite tik tuos skaičius, kurie yra lyginiai ir kurie yra didesni nei vidurkis."
      ]
    },
    {
      "cell_type": "code",
      "execution_count": null,
      "metadata": {
        "id": "K9866o1dDVMH"
      },
      "outputs": [],
      "source": [
        "# Kodą rašykite čia..."
      ]
    },
    {
      "cell_type": "markdown",
      "metadata": {
        "id": "jG5ZaKEADVMH"
      },
      "source": [
        "### Užduotis 9\n",
        "\n",
        "Susikurkite pažymių sąrašą su duomenimis. Į naują sąrašą atrinkite visus neigiamus pažymius (4 ir mažiau). Raskite kiek buvo neigiamų pažymių."
      ]
    },
    {
      "cell_type": "code",
      "execution_count": null,
      "metadata": {
        "id": "rkvBeaoJDVMH"
      },
      "outputs": [],
      "source": [
        "# Kodą rašykite čia..."
      ]
    },
    {
      "cell_type": "markdown",
      "metadata": {
        "id": "plirlEdmDVMH"
      },
      "source": [
        "### Užduotis 10\n",
        "\n",
        "Susikurkite pažymių sąrašą su duomenimis. Į naują sąrašą sudėkite visus teigiamus pažymius, o vietoje neigiamų (4 ir mažiau) turėtų rašytis žodis \"Neigiamas\". Pvz.: jeigu turite sąrašą `[7, 4, 8, 3, 9]`, tai naujas sąrašas turėtų būti toks: `[7, 'Neigiamas', 8, 'Neigiamas', 9]`."
      ]
    },
    {
      "cell_type": "code",
      "execution_count": null,
      "metadata": {
        "id": "u4LQSvqrDVMI"
      },
      "outputs": [],
      "source": [
        "# Kodą rašykite čia..."
      ]
    },
    {
      "cell_type": "markdown",
      "metadata": {
        "id": "0i6BtWp8DVMI"
      },
      "source": [
        "### Užduotis 11\n",
        "\n",
        "Susikurkite skaičių sąrašą su duomenimis. Kai kurie elementai sąraše turėtų būti `None` reikšmės. Pvz.: `[7, 8, 5, None, 3, 6, None, 4]`. Sukurkite naują sąrašą, kur skaičiai persikeltų, o vietoj `None` reikšmės įsidėtų skaičius 0 (atkreipkite dėmesį, kad turi būti įrašytas kaip `int`, o ne `str`). Raskite visų skaičių sumą."
      ]
    },
    {
      "cell_type": "code",
      "execution_count": null,
      "metadata": {
        "id": "as2G3J80DVMI"
      },
      "outputs": [],
      "source": [
        "# Kodą rašykite čia..."
      ]
    }
  ],
  "metadata": {
    "kernelspec": {
      "display_name": "Python 3",
      "language": "python",
      "name": "python3"
    },
    "language_info": {
      "codemirror_mode": {
        "name": "ipython",
        "version": 3
      },
      "file_extension": ".py",
      "mimetype": "text/x-python",
      "name": "python",
      "nbconvert_exporter": "python",
      "pygments_lexer": "ipython3",
      "version": "3.7.9 (tags/v3.7.9:13c94747c7, Aug 17 2020, 18:58:18) [MSC v.1900 64 bit (AMD64)]"
    },
    "orig_nbformat": 4,
    "vscode": {
      "interpreter": {
        "hash": "aa11ca274996316222ef16f35c5f6dbeb467b694c0b2154cdf34dcf9271d5fd0"
      }
    },
    "colab": {
      "provenance": []
    }
  },
  "nbformat": 4,
  "nbformat_minor": 0
}