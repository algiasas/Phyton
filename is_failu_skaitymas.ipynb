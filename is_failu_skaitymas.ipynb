{
  "nbformat": 4,
  "nbformat_minor": 0,
  "metadata": {
    "colab": {
      "provenance": [],
      "include_colab_link": true
    },
    "kernelspec": {
      "name": "python3",
      "display_name": "Python 3"
    },
    "language_info": {
      "name": "python"
    }
  },
  "cells": [
    {
      "cell_type": "markdown",
      "metadata": {
        "id": "view-in-github",
        "colab_type": "text"
      },
      "source": [
        "<a href=\"https://colab.research.google.com/github/algiasas/Phyton/blob/main/is_failu_skaitymas.ipynb\" target=\"_parent\"><img src=\"https://colab.research.google.com/assets/colab-badge.svg\" alt=\"Open In Colab\"/></a>"
      ]
    },
    {
      "cell_type": "code",
      "execution_count": null,
      "metadata": {
        "id": "qVNC7ENr0PJc"
      },
      "outputs": [],
      "source": [
        "failas=open('tekstinis.txt', encoding='utf8')"
      ]
    },
    {
      "cell_type": "code",
      "source": [
        "failas.read()"
      ],
      "metadata": {
        "colab": {
          "base_uri": "https://localhost:8080/",
          "height": 36
        },
        "id": "QJKFMKyo3cen",
        "outputId": "801c662b-d4b3-4646-ba0b-2f5dd779c41c"
      },
      "execution_count": null,
      "outputs": [
        {
          "output_type": "execute_result",
          "data": {
            "text/plain": [
              "'pirma eilutė\\nantra eilutė\\ndar kažkokia eilutė\\npaskutinė eilutė'"
            ],
            "application/vnd.google.colaboratory.intrinsic+json": {
              "type": "string"
            }
          },
          "metadata": {},
          "execution_count": 8
        }
      ]
    },
    {
      "cell_type": "code",
      "source": [
        "failas.seek(0)\n",
        "failas.readline()"
      ],
      "metadata": {
        "colab": {
          "base_uri": "https://localhost:8080/",
          "height": 36
        },
        "id": "yQsFy3R139wt",
        "outputId": "d65ddd2a-af17-4439-f7b4-af62869fb76f"
      },
      "execution_count": null,
      "outputs": [
        {
          "output_type": "execute_result",
          "data": {
            "text/plain": [
              "'pirma eilutė\\n'"
            ],
            "application/vnd.google.colaboratory.intrinsic+json": {
              "type": "string"
            }
          },
          "metadata": {},
          "execution_count": 11
        }
      ]
    },
    {
      "cell_type": "markdown",
      "source": [
        "failo atidarymas - open()\n",
        "failo u=darymas - close()\n",
        "per6okimas 5 ka=kuri1 pozicij1 - seek()\n",
        "read() - visas tekstas\n",
        "readline() - viena eilutė (str)\n",
        "readlines() - visos eilutės (sąrašas) list[]"
      ],
      "metadata": {
        "id": "fPhCur2G4rHm"
      }
    },
    {
      "cell_type": "code",
      "source": [
        "failas.seek(0)\n",
        "visastekstas =failas.read()\n",
        "print (visastekstas)"
      ],
      "metadata": {
        "colab": {
          "base_uri": "https://localhost:8080/"
        },
        "id": "tA4iGgnU5Od9",
        "outputId": "2e5f33b8-8d1d-4bdf-bec1-9f441353f8f1"
      },
      "execution_count": null,
      "outputs": [
        {
          "output_type": "stream",
          "name": "stdout",
          "text": [
            "pirma eilutė\n",
            "antra eilutė\n",
            "dar kažkokia eilutė\n",
            "paskutinė eilutė\n"
          ]
        }
      ]
    },
    {
      "cell_type": "code",
      "source": [
        "eilutes = visastekstas.splitlines()\n",
        "print('visas tekstas', eilutes)\n",
        "print('eiluciu kiekis:', len(eilutes))"
      ],
      "metadata": {
        "colab": {
          "base_uri": "https://localhost:8080/"
        },
        "id": "X0UaowUW5m90",
        "outputId": "7b378b1c-4161-41b2-9628-7a3ff0a010a6"
      },
      "execution_count": null,
      "outputs": [
        {
          "output_type": "stream",
          "name": "stdout",
          "text": [
            "visas tekstas ['pirma eilutė', 'antra eilutė', 'dar kažkokia eilutė', 'paskutinė eilutė']\n",
            "eiluciu kiekis: 4\n"
          ]
        }
      ]
    },
    {
      "cell_type": "code",
      "source": [
        "visastekstas.replace('\\n', ' ').split(\" \")"
      ],
      "metadata": {
        "colab": {
          "base_uri": "https://localhost:8080/"
        },
        "id": "3b22TXKD6Ut8",
        "outputId": "6374eae9-a592-4891-f3c0-6247f0d21386"
      },
      "execution_count": null,
      "outputs": [
        {
          "output_type": "execute_result",
          "data": {
            "text/plain": [
              "['pirma',\n",
              " 'eilutė',\n",
              " 'antra',\n",
              " 'eilutė',\n",
              " 'dar',\n",
              " 'kažkokia',\n",
              " 'eilutė',\n",
              " 'paskutinė',\n",
              " 'eilutė']"
            ]
          },
          "metadata": {},
          "execution_count": 18
        }
      ]
    },
    {
      "cell_type": "code",
      "source": [
        "import re\n",
        "zodziai2 = re.split('\\n| ', visastekstas)#simboliai atskiriami |\n",
        "print ('turimi zodziai:', zodziai2)"
      ],
      "metadata": {
        "colab": {
          "base_uri": "https://localhost:8080/"
        },
        "id": "3BVGMriS6_dU",
        "outputId": "8f746e4c-f5fe-46f7-e695-112d171b12ea"
      },
      "execution_count": null,
      "outputs": [
        {
          "output_type": "stream",
          "name": "stdout",
          "text": [
            "turimi zodziai: ['pirma', 'eilutė', 'antra', 'eilutė', 'dar', 'kažkokia', 'eilutė', 'paskutinė', 'eilutė']\n"
          ]
        }
      ]
    },
    {
      "cell_type": "code",
      "source": [
        "failas.seek(0)"
      ],
      "metadata": {
        "colab": {
          "base_uri": "https://localhost:8080/"
        },
        "id": "mWp9xjSn7pKT",
        "outputId": "0f2786f4-7e47-4b4d-ca73-e311bfdb44b4"
      },
      "execution_count": null,
      "outputs": [
        {
          "output_type": "execute_result",
          "data": {
            "text/plain": [
              "0"
            ]
          },
          "metadata": {},
          "execution_count": 23
        }
      ]
    },
    {
      "cell_type": "code",
      "source": [
        "failas.readlines()\n"
      ],
      "metadata": {
        "colab": {
          "base_uri": "https://localhost:8080/"
        },
        "id": "gVILCpLJ7sGj",
        "outputId": "22afc5f5-953e-406a-b3ab-b01b55bc7d3f"
      },
      "execution_count": null,
      "outputs": [
        {
          "output_type": "execute_result",
          "data": {
            "text/plain": [
              "['pirma eilutė\\n',\n",
              " 'antra eilutė\\n',\n",
              " 'dar kažkokia eilutė\\n',\n",
              " 'paskutinė eilutė']"
            ]
          },
          "metadata": {},
          "execution_count": 24
        }
      ]
    },
    {
      "cell_type": "code",
      "source": [
        "eilutes = [eilute.strip() for eilute in eilutes]"
      ],
      "metadata": {
        "id": "CG5ZVdYc75WM"
      },
      "execution_count": null,
      "outputs": []
    },
    {
      "cell_type": "code",
      "source": [
        "eilutes"
      ],
      "metadata": {
        "colab": {
          "base_uri": "https://localhost:8080/"
        },
        "id": "fYeKmKay8S_z",
        "outputId": "2cf7444d-e3bc-48a6-c4b7-b0942364f948"
      },
      "execution_count": null,
      "outputs": [
        {
          "output_type": "execute_result",
          "data": {
            "text/plain": [
              "['pirma eilutė', 'antra eilutė', 'dar kažkokia eilutė', 'paskutinė eilutė']"
            ]
          },
          "metadata": {},
          "execution_count": 27
        }
      ]
    },
    {
      "cell_type": "code",
      "source": [
        "failas.closed"
      ],
      "metadata": {
        "colab": {
          "base_uri": "https://localhost:8080/"
        },
        "id": "4GVVMfQk8cFT",
        "outputId": "8bf5a45d-4276-42d1-c897-068f5a6e47d2"
      },
      "execution_count": null,
      "outputs": [
        {
          "output_type": "execute_result",
          "data": {
            "text/plain": [
              "False"
            ]
          },
          "metadata": {},
          "execution_count": 28
        }
      ]
    },
    {
      "cell_type": "code",
      "source": [
        "failas.close()"
      ],
      "metadata": {
        "id": "YinA6LEW8kfT"
      },
      "execution_count": null,
      "outputs": []
    },
    {
      "cell_type": "code",
      "source": [
        "failas.closed"
      ],
      "metadata": {
        "colab": {
          "base_uri": "https://localhost:8080/"
        },
        "id": "1ExSbimp8nmW",
        "outputId": "71af73ce-bf87-4855-9515-76ba89114164"
      },
      "execution_count": null,
      "outputs": [
        {
          "output_type": "execute_result",
          "data": {
            "text/plain": [
              "True"
            ]
          },
          "metadata": {},
          "execution_count": 30
        }
      ]
    },
    {
      "cell_type": "code",
      "source": [
        "#kita sintakse failo skaitymui\n",
        "with open('tekstinis.txt', encoding='utf8') as failas:\n",
        "   duomenys = failas.read().splitlines()\n",
        "   print('ar failas uzdarytas', failas.closed)\n",
        "print(duomenys)\n",
        "print('ar failas uzdarytas', failas.closed)"
      ],
      "metadata": {
        "colab": {
          "base_uri": "https://localhost:8080/"
        },
        "id": "-8x3m4N49Avk",
        "outputId": "cdd5664c-3de4-49ef-c33d-a2cc7d794133"
      },
      "execution_count": null,
      "outputs": [
        {
          "output_type": "stream",
          "name": "stdout",
          "text": [
            "ar failas uzdarytas False\n",
            "['pirma eilutė', 'antra eilutė', 'dar kažkokia eilutė', 'paskutinė eilutė']\n",
            "ar failas uzdarytas True\n"
          ]
        }
      ]
    },
    {
      "cell_type": "code",
      "source": [],
      "metadata": {
        "id": "QT-CrVw0_AaL"
      },
      "execution_count": null,
      "outputs": []
    },
    {
      "cell_type": "code",
      "source": [
        "studentai = []\n",
        "with open('pazymiai.txt', encoding = 'utf8') as failas:\n",
        "    for eilute in failas:\n",
        "      #print(eilute)\n",
        "      vardas, *pazymiai = eilute.strip().split()\n",
        "      pazymiai = list(map(int, pazymiai))\n",
        "      # print ('vardas:', vardas)\n",
        "      # print ('pazymiai:', pazymiai)\n",
        "      studentai.append([vardas, pazymiai])\n",
        "      print(studentai)\n"
      ],
      "metadata": {
        "colab": {
          "base_uri": "https://localhost:8080/"
        },
        "id": "JdGagOyH_JRM",
        "outputId": "ed1e8c34-ff7a-47ac-bb9a-74570f025a5c"
      },
      "execution_count": null,
      "outputs": [
        {
          "output_type": "stream",
          "name": "stdout",
          "text": [
            "[['Jonas', [10, 8, 9]]]\n",
            "[['Jonas', [10, 8, 9]], ['Petras', [9, 9, 10, 10]]]\n",
            "[['Jonas', [10, 8, 9]], ['Petras', [9, 9, 10, 10]], ['Paulina', [9, 8]]]\n",
            "[['Jonas', [10, 8, 9]], ['Petras', [9, 9, 10, 10]], ['Paulina', [9, 8]], ['Inga', [10, 7, 10]]]\n"
          ]
        }
      ]
    },
    {
      "cell_type": "code",
      "source": [
        "studentai = []\n",
        "\n",
        "with open('pazymiai.txt', encoding='utf8') as failas:\n",
        "    for eilute in failas:\n",
        "      vardas, *pazymiai = eilute.strip().split()\n",
        "      pazymiai = list(map(int, pazymiai))\n",
        "      studentas = {\n",
        "          'vardas': vardas,\n",
        "          'pazymiai': pazymiai\n",
        "      }\n",
        "      studentai.append(studentas)\n",
        "\n",
        "print(studentai)"
      ],
      "metadata": {
        "colab": {
          "base_uri": "https://localhost:8080/"
        },
        "id": "4LDsm_D_DEmd",
        "outputId": "3b4872c6-f0b8-41cd-a6be-52a30895985b"
      },
      "execution_count": null,
      "outputs": [
        {
          "output_type": "stream",
          "name": "stdout",
          "text": [
            "[{'vardas': 'Jonas', 'pazymiai': [10, 8, 9]}, {'vardas': 'Petras', 'pazymiai': [9, 9, 10, 10]}, {'vardas': 'Paulina', 'pazymiai': [9, 8]}, {'vardas': 'Inga', 'pazymiai': [10, 7, 10]}]\n"
          ]
        }
      ]
    },
    {
      "cell_type": "code",
      "source": [],
      "metadata": {
        "id": "6YC-EU7UDO7r"
      },
      "execution_count": null,
      "outputs": []
    },
    {
      "cell_type": "code",
      "source": [
        "studentai = []\n",
        "with open('pazymiai2.txt', encoding = 'utf8') as failas:\n",
        "    kiek = int(failas.readline())\n",
        "    # for kelintas in range (kiek):\n",
        "    #   failas.readliene()\n",
        "    for eilute in failas:\n",
        "      #print(eilute)\n",
        "      vardas = eilute[:20]\n",
        "      print(vardas)\n",
        "      skaiciai = eilute[20:]\n",
        "      kiek, *pazymiai = list(map(int, skaiciai.split()))\n",
        "      studentas = {\n",
        "          'vardas': vardas,\n",
        "          'kiek': kiek,\n",
        "          \"pazymiai\": pazymiai\n",
        "      }\n",
        "      studentai.append(studentas)\n",
        "      print(studentai)\n"
      ],
      "metadata": {
        "colab": {
          "base_uri": "https://localhost:8080/"
        },
        "id": "a9IGuvujESP7",
        "outputId": "9b151b52-6045-41ab-a840-0aaa4906de50"
      },
      "execution_count": null,
      "outputs": [
        {
          "output_type": "stream",
          "name": "stdout",
          "text": [
            "Jonas petraitis     \n",
            "[{'vardas': 'Jonas petraitis     ', 'kiek': 3, 'pazymiai': [10, 8, 9]}]\n",
            "Petras jonaitis     \n",
            "[{'vardas': 'Jonas petraitis     ', 'kiek': 3, 'pazymiai': [10, 8, 9]}, {'vardas': 'Petras jonaitis     ', 'kiek': 4, 'pazymiai': [9, 9, 10, 10]}]\n",
            "Paulina             \n",
            "[{'vardas': 'Jonas petraitis     ', 'kiek': 3, 'pazymiai': [10, 8, 9]}, {'vardas': 'Petras jonaitis     ', 'kiek': 4, 'pazymiai': [9, 9, 10, 10]}, {'vardas': 'Paulina             ', 'kiek': 2, 'pazymiai': [9, 8]}]\n",
            "Inga                \n",
            "[{'vardas': 'Jonas petraitis     ', 'kiek': 3, 'pazymiai': [10, 8, 9]}, {'vardas': 'Petras jonaitis     ', 'kiek': 4, 'pazymiai': [9, 9, 10, 10]}, {'vardas': 'Paulina             ', 'kiek': 2, 'pazymiai': [9, 8]}, {'vardas': 'Inga                ', 'kiek': 3, 'pazymiai': [10, 7, 10]}]\n"
          ]
        }
      ]
    },
    {
      "cell_type": "code",
      "source": [
        "kiekiai = [studentas['kiek'] for studentas in studentai]\n",
        "print(kiekiai)\n",
        "print(sum(kiekiai))"
      ],
      "metadata": {
        "colab": {
          "base_uri": "https://localhost:8080/"
        },
        "id": "Aitk6kVMHOnO",
        "outputId": "52a221e0-3a98-4d07-dfeb-91ad3f655f74"
      },
      "execution_count": null,
      "outputs": [
        {
          "output_type": "stream",
          "name": "stdout",
          "text": [
            "[3, 4, 2, 3]\n",
            "12\n"
          ]
        }
      ]
    },
    {
      "cell_type": "code",
      "source": [
        "#kitas variantas bendru pazymiu\n",
        "suma = 0\n",
        "\n",
        "for studentas in studentai:\n",
        "    # print(studentas)\n",
        "    # print(studentas['kiek'])\n",
        "    suma += studentas['kiek']\n",
        "\n",
        "print(suma)"
      ],
      "metadata": {
        "colab": {
          "base_uri": "https://localhost:8080/"
        },
        "id": "t3YSvuwUH8CL",
        "outputId": "a658b438-ea81-4f7b-a27f-b6fa24597026"
      },
      "execution_count": null,
      "outputs": [
        {
          "output_type": "stream",
          "name": "stdout",
          "text": [
            "12\n"
          ]
        }
      ]
    }
  ]
}