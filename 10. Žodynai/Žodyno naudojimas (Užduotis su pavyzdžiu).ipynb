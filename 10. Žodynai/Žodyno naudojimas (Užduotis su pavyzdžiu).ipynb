{
  "nbformat": 4,
  "nbformat_minor": 0,
  "metadata": {
    "colab": {
      "provenance": [],
      "authorship_tag": "ABX9TyNSBSYfMZ+qpRcvLUOLtKtq",
      "include_colab_link": true
    },
    "kernelspec": {
      "name": "python3",
      "display_name": "Python 3"
    },
    "language_info": {
      "name": "python"
    }
  },
  "cells": [
    {
      "cell_type": "markdown",
      "metadata": {
        "id": "view-in-github",
        "colab_type": "text"
      },
      "source": [
        "<a href=\"https://colab.research.google.com/github/algiasas/Phyton/blob/main/10.%20%C5%BDodynai/%C5%BDodyno%20naudojimas%20(U%C5%BEduotis%20su%20pavyzd%C5%BEiu).ipynb\" target=\"_parent\"><img src=\"https://colab.research.google.com/assets/colab-badge.svg\" alt=\"Open In Colab\"/></a>"
      ]
    },
    {
      "cell_type": "markdown",
      "source": [],
      "metadata": {
        "id": "I5FXS3ycL0Iv"
      }
    },
    {
      "cell_type": "markdown",
      "source": [
        "# Žodyno naudojimas"
      ],
      "metadata": {
        "id": "Bt5a011hL4vv"
      }
    },
    {
      "cell_type": "markdown",
      "source": [
        "Duomenų faile duom.txt surašyti mokinių duomenys: vardas ir pažymiai. Parašykite programą, kuri išvestų į ekraną mokinių vardus bei apskaičiuotus jų pažymių vidurkius."
      ],
      "metadata": {
        "id": "R820dq_hL-70"
      }
    },
    {
      "cell_type": "code",
      "execution_count": 4,
      "metadata": {
        "colab": {
          "base_uri": "https://localhost:8080/"
        },
        "id": "Du9l5aB-Lpw9",
        "outputId": "98bb9924-ffb8-4f79-a3cb-3dd6c534aa75"
      },
      "outputs": [
        {
          "output_type": "stream",
          "name": "stdout",
          "text": [
            " mokinys (-e) Jonas turi vidurki 3.67\n",
            " mokinys (-e) Petras turi vidurki 2.50\n",
            " mokinys (-e) Morta turi vidurki 2.50\n",
            " mokinys (-e) Agota turi vidurki 5.00\n"
          ]
        }
      ],
      "source": [
        "with open (\"duom.txt\", 'r') as duomenys:\n",
        "    eilutes = duomenys.readlines()\n",
        "\n",
        "mokiniai = {}\n",
        "for eilute in eilutes:\n",
        "    atskirai = eilute.strip().split()\n",
        "    vardas = atskirai[0]\n",
        "    pazymiai = list(map(int,atskirai[1:]))\n",
        "    vidurkis = sum(pazymiai)/len(pazymiai)\n",
        "    mokiniai[vardas] = vidurkis\n",
        "\n",
        "for vardas, vidurkis in mokiniai.items():\n",
        "    print(f\" mokinys (-e) {vardas} turi vidurki {vidurkis:.2f}\")"
      ]
    },
    {
      "cell_type": "markdown",
      "source": [
        "**Užduotis**"
      ],
      "metadata": {
        "id": "qfTfhkpkM5OG"
      }
    },
    {
      "cell_type": "markdown",
      "source": [
        "Duomenų faile duom.txt surašyti mokinių (merginų ir vaikinų) duomenys: vardas, ūgis (vaikinų ūgis neigiamas skaičius), amžius.\n",
        "Parašykite programą, kuri apskaičiuotų atskirai merginų ir vaikinų ūgių bei amžių vidurkius. Į ekraną turėtų būti išvedamas atskiras merginų sąrašas, po jo - vidutinis merginų ūgis bei vidutinis amžius. Analogiškai išvedama ir informacija apie vaikinus. Galiausiai išvedamas bendras visų mokinių vidurkis."
      ],
      "metadata": {
        "id": "0oC7C-zEM8nt"
      }
    }
  ]
}