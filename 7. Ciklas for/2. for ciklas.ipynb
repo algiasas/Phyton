{
  "cells": [
    {
      "cell_type": "markdown",
      "metadata": {
        "id": "view-in-github",
        "colab_type": "text"
      },
      "source": [
        "<a href=\"https://colab.research.google.com/github/algiasas/Phyton/blob/main/7.%20Ciklas%20for/2.%20for%20ciklas.ipynb\" target=\"_parent\"><img src=\"https://colab.research.google.com/assets/colab-badge.svg\" alt=\"Open In Colab\"/></a>"
      ]
    },
    {
      "cell_type": "markdown",
      "metadata": {
        "id": "8zQgZwewAPph"
      },
      "source": [
        "[![Open In Colab](https://colab.research.google.com/assets/colab-badge.svg)](https://colab.research.google.com/github/blaztoma/pitono-pamokos/blob/main/pamokos/12%20-%20Ciklai/12-02%20-%20for%20ciklas%20(2%20dalis).ipynb)"
      ]
    },
    {
      "cell_type": "markdown",
      "metadata": {
        "id": "e48jQynfAPpk"
      },
      "source": [
        "# `for` ciklas (2 dalis)"
      ]
    },
    {
      "cell_type": "markdown",
      "metadata": {
        "id": "wcYyoAhHAPpl"
      },
      "source": [
        "## Sintaksė\n",
        "\n",
        "```\n",
        "for elementas in iteruojamas_objektas:\n",
        "\t# vykdomas kodas\n",
        "```\n",
        "\n",
        "- **iteruojamas_objektas** - duomenų rinkinys kurį reikia apdoroti.\n",
        "- **elementas** - vienas elementas, viena dalis, iš `iteruojamas_objektas`."
      ]
    },
    {
      "cell_type": "markdown",
      "metadata": {
        "id": "5EBBAwZMAPpl"
      },
      "source": [
        "**iteruojamas_objektas** gali būti:\n",
        "\n",
        "```\n",
        "[40, 32, 73]\n",
        "\"labas\"\n",
        "range(1, 10)\n",
        "...\n",
        "```"
      ]
    },
    {
      "cell_type": "markdown",
      "metadata": {
        "id": "6JaK5kpnAPpm"
      },
      "source": [
        "## Pavyzdžiai"
      ]
    },
    {
      "cell_type": "markdown",
      "metadata": {
        "id": "QXrBNBHzAPpm"
      },
      "source": [
        "Perrinksime ir atspausdinsime kiekvieną teksto raidę."
      ]
    },
    {
      "cell_type": "code",
      "execution_count": null,
      "metadata": {
        "id": "lvRgwE4CAPpn"
      },
      "outputs": [],
      "source": [
        "for raide in \"mano tekstas\":\n",
        "    print(raide)"
      ]
    },
    {
      "cell_type": "markdown",
      "metadata": {
        "id": "s4engFSlAPpo"
      },
      "source": [
        "Prisiminkime, kaip atspausdinti simbolį arba eilutę tam tikrą kiekį kartų."
      ]
    },
    {
      "cell_type": "code",
      "execution_count": null,
      "metadata": {
        "id": "uyYQIBMzAPpo"
      },
      "outputs": [],
      "source": [
        "simbolis = 'a'\n",
        "print(simbolis * 10)"
      ]
    },
    {
      "cell_type": "markdown",
      "metadata": {
        "id": "4tODOI8BAPpo"
      },
      "source": [
        "Šiame pavyzdyje perrinksime kiekvieną žodžio raidę ir atspausdinsime ją 10 kartų."
      ]
    },
    {
      "cell_type": "code",
      "execution_count": null,
      "metadata": {
        "id": "Joq82dVDAPpp"
      },
      "outputs": [],
      "source": [
        "tekstas = 'obelis'\n",
        "\n",
        "for raide in tekstas:\n",
        "    print(raide * 10)"
      ]
    },
    {
      "cell_type": "markdown",
      "metadata": {
        "id": "X4WkV20EAPpp"
      },
      "source": [
        "Taip kaip perrinkome raides, taip galime perrinkti ir skaičius."
      ]
    },
    {
      "cell_type": "code",
      "execution_count": null,
      "metadata": {
        "id": "wEMcdt_wAPpp"
      },
      "outputs": [],
      "source": [
        "for el in [7, 4, 5, 32, 14, 78]:\n",
        "    print(el)"
      ]
    },
    {
      "cell_type": "markdown",
      "metadata": {
        "id": "hwG7FLMdAPpp"
      },
      "source": [
        "Šiame pavyzdyje, mes perrenkame skaičius ir atspausdiname, kuris iš jų lyginis, o kuris - ne."
      ]
    },
    {
      "cell_type": "code",
      "execution_count": null,
      "metadata": {
        "id": "64UI1XzAAPpq"
      },
      "outputs": [],
      "source": [
        "for skaicius in [6, 7, 1, 5, 9, 7, 3]:\n",
        "    if skaicius % 2 == 0:\n",
        "        print(f'Skaičius {skaicius} yra lyginis.')\n",
        "    else:\n",
        "        print(f'Skaičius {skaicius} yra nelyginis.')"
      ]
    },
    {
      "cell_type": "markdown",
      "metadata": {
        "id": "xb2iqJ1WAPpq"
      },
      "source": [
        "Perrenkant duomenų rinkinį (raides, skaičius ir kitus duomenis), mes galime sustabdyti ciklą naudodami raktažodį `break`."
      ]
    },
    {
      "cell_type": "code",
      "execution_count": null,
      "metadata": {
        "id": "dAnQ_ndqAPpq"
      },
      "outputs": [],
      "source": [
        "print(\"pradžia\")\n",
        "\n",
        "for raide in \"ąžuolas\":\n",
        "    if raide == \"l\":\n",
        "        break\n",
        "    print(raide)\n",
        "\n",
        "print(\"pabaiga\")"
      ]
    },
    {
      "cell_type": "markdown",
      "metadata": {
        "id": "LVhYITt_APpq"
      },
      "source": [
        "Taip kaip galime sustabdyti ciklą, taip galime ir jį pratęsti, ignoruodami toliau einančias operacijas. Tam naudojame žodį `continue`."
      ]
    },
    {
      "cell_type": "code",
      "execution_count": null,
      "metadata": {
        "id": "st8UCys1APpq"
      },
      "outputs": [],
      "source": [
        "print(\"pradžia\")\n",
        "\n",
        "for raide in \"ąžuolas\":\n",
        "    if raide == \"l\":\n",
        "        continue\n",
        "    print(raide)\n",
        "\n",
        "print(\"pabaiga\")"
      ]
    },
    {
      "cell_type": "markdown",
      "metadata": {
        "id": "N4lgY-xsAPpr"
      },
      "source": [
        "Pavyzdys, kai perrenkame skaičius iki pirmo neigiamo. Tuomet nutraukiame ciklą panaudodami `break`. Jei ciklas nebūtų nutrauktas, tuomet `visi_teigiami` kintamasis liktų `True`."
      ]
    },
    {
      "cell_type": "code",
      "execution_count": null,
      "metadata": {
        "id": "W0J_4xPsAPpr"
      },
      "outputs": [],
      "source": [
        "visi_teigiami = True\n",
        "\n",
        "for skaicius in [6, 1, -7, 5, -1, 4, 5]:\n",
        "    if skaicius < 0:\n",
        "        visi_teigiami = False\n",
        "        break\n",
        "\n",
        "print('Visi teigiami:', visi_teigiami)"
      ]
    },
    {
      "cell_type": "markdown",
      "metadata": {
        "id": "JvC_8cl-APpr"
      },
      "source": [
        "Nedidelis aukščiau esančios programos papildymas. Atspausdiname ar visi skaičiai teigiami, ar yra bent vienas neigiamas skaičius. Tam panaudojam `if` ... `else` sąlygos sakinį."
      ]
    },
    {
      "cell_type": "code",
      "execution_count": null,
      "metadata": {
        "id": "Sbk0C7ISAPpr"
      },
      "outputs": [],
      "source": [
        "visi_teigiami = True\n",
        "\n",
        "for skaicius in [6, 1, -7, 5, -1, 4, 5]:\n",
        "    if skaicius < 0:\n",
        "        visi_teigiami = False\n",
        "        break\n",
        "\n",
        "if visi_teigiami:\n",
        "    print('Visi skaičiai teigiami.')\n",
        "else:\n",
        "    print('Yra bent vienas neigiamas skaičius.')"
      ]
    },
    {
      "cell_type": "markdown",
      "metadata": {
        "id": "oeFgQZVlAPpr"
      },
      "source": [
        "Toliau pamatysite, kaip organizuojamas ciklas cikle. Vidinis ciklas, kurio ciklinis kintamasis yra `j` yra įvykdomas keturis kartus. Tai yra tiek, kiek yra vykdomas išorinis ciklas, kurio ciklinis kintamasis yra `i`."
      ]
    },
    {
      "cell_type": "code",
      "execution_count": null,
      "metadata": {
        "id": "aT0V6oi5APps"
      },
      "outputs": [],
      "source": [
        "for i in range(1, 4):\n",
        "\n",
        "    print('Pirmo ciklo pradžia, i =', i)\n",
        "\n",
        "    for j in range(1, 4):\n",
        "        print('Antras ciklas, j =', j)\n",
        "\n",
        "    print('Pirmo ciklo iteracijos pabaiga.')"
      ]
    },
    {
      "cell_type": "markdown",
      "metadata": {
        "id": "l1ExvBuDAPps"
      },
      "source": [
        "Čia parodytas praktinis ciklo cikle pavyzdys. Tiesa, realiu atveju, studentų ir jų pažymių rinkiniai būtų sąrašai. Šiuo atveju, paprastumo dėlei, naudojame `range()`."
      ]
    },
    {
      "cell_type": "code",
      "execution_count": null,
      "metadata": {
        "id": "2M9RN7raAPps"
      },
      "outputs": [],
      "source": [
        "for studentas in range(1, 5):\n",
        "    print(f'Studento nr. {studentas} pažymiai: ', end='')\n",
        "    for pazymys in range(1, 6):\n",
        "        print(pazymys, end=' ')\n",
        "    print()"
      ]
    },
    {
      "cell_type": "markdown",
      "metadata": {
        "id": "b_D_YUGvAPps"
      },
      "source": [
        "## Užduotys"
      ]
    },
    {
      "cell_type": "markdown",
      "metadata": {
        "id": "4Bc82uBGAPps"
      },
      "source": [
        "### Užduotis 1\n",
        "\n",
        "Leiskite vartotojui įvesti savo vardą. Ciklą `for` vykdykite tiek kartų, kiek tame varde yra raidžių. Visais atvejais išveskite tą patį pasisveikinimą, pavyzdžiui \"Labas, Ieva\" (ši eilutė kartotųsi 4 kartus, kadangi varde \"Ieva\" yra 4 raidės)."
      ]
    },
    {
      "cell_type": "code",
      "execution_count": null,
      "metadata": {
        "id": "RX9FMl_FAPps"
      },
      "outputs": [],
      "source": [
        "# Kodą rašykite čia..."
      ]
    },
    {
      "cell_type": "markdown",
      "metadata": {
        "id": "pcR4f3v8APpt"
      },
      "source": [
        "### Užduotis 2\n",
        "\n",
        "Suprogramuokite tokį ciklą: `for elementas in [88, 65, 21, 26, 47]`\n",
        "\n",
        "Iš duotų skaičių išveskite visus skaičius, kurie yra lyginiai."
      ]
    },
    {
      "cell_type": "code",
      "execution_count": null,
      "metadata": {
        "id": "QSAMWV8CAPpt"
      },
      "outputs": [],
      "source": [
        "# Kodą rašykite čia..."
      ]
    },
    {
      "cell_type": "markdown",
      "metadata": {
        "id": "jhiINZ9RAPpt"
      },
      "source": [
        "### Užduotis 3\n",
        "\n",
        "Leiskite vartotojui nurodyti rėžių pradžią, pabaigą, žingsnį. Taip pat, kokius skaičius jis nori matyti (lyginius ar nelyginius). Patikrinkite ar rėžiai tinkami, jei taip vykdykite ciklą, kuris eitų per nurodytą intervalą, darant atitinkamą žingsnį. Išveskite tik tokius skaičius kokius vartotojas pasirinko (lyginius arba nelyginius)."
      ]
    },
    {
      "cell_type": "code",
      "execution_count": null,
      "metadata": {
        "id": "A0zcWBUsAPpt"
      },
      "outputs": [],
      "source": [
        "# Kodą rašykite čia..."
      ]
    },
    {
      "cell_type": "markdown",
      "metadata": {
        "id": "WllR91gTAPpt"
      },
      "source": [
        "### Užduotis 4\n",
        "\n",
        "Su `for` ciklo pagalba, pamėginkite išvesti tokią eglutę:\n",
        "\n",
        "```\n",
        "*\n",
        "**\n",
        "***\n",
        "****\n",
        "*****\n",
        "```\n",
        "\n",
        "Papildykite programą, kuri leistų vartotojui pasirinkti, kokio dydžio eglutė turėtų būti išvesta."
      ]
    },
    {
      "cell_type": "code",
      "execution_count": null,
      "metadata": {
        "id": "qGZH0ldEAPpt"
      },
      "outputs": [],
      "source": [
        "# Kodą rašykite čia..."
      ]
    },
    {
      "cell_type": "markdown",
      "metadata": {
        "id": "PRQx7jcjAPpt"
      },
      "source": [
        "### Užduotis 5\n",
        "\n",
        "Leiskite vartotojui įvesti bet kokį žodį bei pasirinkti po kiek kartų turėtų būti pakartojama kiekviena raidė. Ciklo pagalba išveskite kiekvieną raidę iš žodžio atskiroje eilutėje, taip pat, tą raidę eilutėje kartokite tiek kartų kiek pasirinko naudotojas."
      ]
    },
    {
      "cell_type": "code",
      "execution_count": null,
      "metadata": {
        "id": "Y4jPes7LAPpu"
      },
      "outputs": [],
      "source": [
        "# Kaip pagrindą galite naudoti šį ciklą ir jį pakeisti:\n",
        "# for raide in \"mano tekstas\":\n",
        "#     print(raide)\n",
        "\n",
        "# Kodą rašykite čia..."
      ]
    },
    {
      "cell_type": "markdown",
      "metadata": {
        "id": "122HCSzzAPpu"
      },
      "source": [
        "### Užduotis 6\n",
        "\n",
        "Nenaudodami daugybos veiksmo programoje, sudauginkite du skaičius. Tam panaudokite sudėties operaciją."
      ]
    },
    {
      "cell_type": "code",
      "execution_count": null,
      "metadata": {
        "id": "vO8Nd5HIAPpu"
      },
      "outputs": [],
      "source": [
        "# Kodą rašykite čia..."
      ]
    },
    {
      "cell_type": "markdown",
      "metadata": {
        "id": "e_4J7BRTAPpu"
      },
      "source": [
        "### Užduotis 7\n",
        "\n",
        "Leiskite naudotojui įvesti skaičių. Patikrinkite ar šis skaičius yra pirminis."
      ]
    },
    {
      "cell_type": "code",
      "execution_count": null,
      "metadata": {
        "id": "Z196b-fKAPpv"
      },
      "outputs": [],
      "source": [
        "# Kodą rašykite čia..."
      ]
    }
  ],
  "metadata": {
    "kernelspec": {
      "display_name": "Python 3",
      "language": "python",
      "name": "python3"
    },
    "language_info": {
      "codemirror_mode": {
        "name": "ipython",
        "version": 3
      },
      "file_extension": ".py",
      "mimetype": "text/x-python",
      "name": "python",
      "nbconvert_exporter": "python",
      "pygments_lexer": "ipython3",
      "version": "3.10.10"
    },
    "orig_nbformat": 4,
    "vscode": {
      "interpreter": {
        "hash": "aa11ca274996316222ef16f35c5f6dbeb467b694c0b2154cdf34dcf9271d5fd0"
      }
    },
    "colab": {
      "provenance": [],
      "include_colab_link": true
    }
  },
  "nbformat": 4,
  "nbformat_minor": 0
}