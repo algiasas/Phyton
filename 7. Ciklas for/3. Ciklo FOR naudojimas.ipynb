{
  "nbformat": 4,
  "nbformat_minor": 0,
  "metadata": {
    "colab": {
      "provenance": [],
      "authorship_tag": "ABX9TyORPiIcEp5HxlgfM2M7GsVI",
      "include_colab_link": true
    },
    "kernelspec": {
      "name": "python3",
      "display_name": "Python 3"
    },
    "language_info": {
      "name": "python"
    }
  },
  "cells": [
    {
      "cell_type": "markdown",
      "metadata": {
        "id": "view-in-github",
        "colab_type": "text"
      },
      "source": [
        "<a href=\"https://colab.research.google.com/github/algiasas/Phyton/blob/main/3.%20Ciklo%20FOR%20naudojimas.ipynb\" target=\"_parent\"><img src=\"https://colab.research.google.com/assets/colab-badge.svg\" alt=\"Open In Colab\"/></a>"
      ]
    },
    {
      "cell_type": "markdown",
      "source": [
        "# **Ciklo FOR naudojimas**"
      ],
      "metadata": {
        "id": "p_SldkXM501C"
      }
    },
    {
      "cell_type": "markdown",
      "source": [
        "Parašykite programą, kuri nustatytų, koks yra duotas natūralusis skaičius n - pirminis ar sudėtinis.\n"
      ],
      "metadata": {
        "id": "WsRwS61t5-3B"
      }
    },
    {
      "cell_type": "code",
      "execution_count": null,
      "metadata": {
        "id": "sDMZYkMD5y_j"
      },
      "outputs": [],
      "source": []
    },
    {
      "cell_type": "markdown",
      "source": [
        "Duoti du natūralieji skaičiai a ir b. Parašykite programą, kuri apskaičiuotų, kuris skaičius turi daugiau daliklių."
      ],
      "metadata": {
        "id": "IFcsAevD6GwQ"
      }
    },
    {
      "cell_type": "code",
      "source": [],
      "metadata": {
        "id": "2-zZ-Jss6Lab"
      },
      "execution_count": null,
      "outputs": []
    },
    {
      "cell_type": "markdown",
      "source": [
        "Draugiškaisiais skaičiais vadinami du natūralieji skaičiai, kurių kiekvienas lygus antrojo skaičiaus visų natūraliųjų daliklių, išskyrus patį skaičių, sumai. Pavyzdžiui, 220 ir 284 yra draugiškieji, nes skaičiaus 220 daliklių suma yra 1+2+4+5+10+11+20+22+44+55+110=284, o skaičiaus 284 daliklių suma yra 1+2+4+71+142=220. Parašykite programą, kuri patikrintų, ar du duotieji skaičiai yra draugiškieji."
      ],
      "metadata": {
        "id": "3zYGx0n26MGX"
      }
    },
    {
      "cell_type": "code",
      "source": [],
      "metadata": {
        "id": "ve0MNENB6RY_"
      },
      "execution_count": null,
      "outputs": []
    },
    {
      "cell_type": "markdown",
      "source": [
        "Parašykite programą, kuri rastų dviejų natūralių skaičių didžiausią bendrą daliklį."
      ],
      "metadata": {
        "id": "gs6PyBmC6SPn"
      }
    },
    {
      "cell_type": "code",
      "source": [],
      "metadata": {
        "id": "4Hluc25p6YrH"
      },
      "execution_count": null,
      "outputs": []
    },
    {
      "cell_type": "markdown",
      "source": [
        "Parašykite programą, kuri rastų (atspausdintų) visus dviejų skaičių bendrus kartotinius, neviršijančius tų skaičių sandaugos."
      ],
      "metadata": {
        "id": "OGNb3AHZ6ZqQ"
      }
    },
    {
      "cell_type": "code",
      "source": [],
      "metadata": {
        "id": "AW0vNRGe6gK-"
      },
      "execution_count": null,
      "outputs": []
    },
    {
      "cell_type": "markdown",
      "source": [
        "Parašykite programą, kuri duotą skaičių x pakeltų n-tuoju laipsniu (n – sveikasis skaičius)."
      ],
      "metadata": {
        "id": "x_j-sJhZ6gs_"
      }
    },
    {
      "cell_type": "code",
      "source": [],
      "metadata": {
        "id": "WWXZhhAg6iO4"
      },
      "execution_count": null,
      "outputs": []
    }
  ]
}
