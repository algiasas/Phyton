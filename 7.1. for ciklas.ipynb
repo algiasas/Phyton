{
  "cells": [
    {
      "cell_type": "markdown",
      "metadata": {
        "id": "U0_BOnrZAIIE"
      },
      "source": [
        "[![Open In Colab](https://colab.research.google.com/assets/colab-badge.svg)](https://colab.research.google.com/github/blaztoma/pitono-pamokos/blob/main/pamokos/12%20-%20Ciklai/12-01%20-%20for%20ciklas%20(1%20dalis).ipynb)"
      ]
    },
    {
      "cell_type": "markdown",
      "metadata": {
        "id": "jTFoUqDgAIIH"
      },
      "source": [
        "# Ciklai\n",
        "\n",
        "Ciklai naudojami norint kartoti tuos pačius veiksmus.\n",
        "Yra du ciklų tipai:\n",
        "  - `for`\n",
        "  - `while`\n",
        "\n",
        "Kiekvienas ciklas pasižymi tam tikromis savybėmis, todėl kiekvienu atveju reikia patiems nuspręsti, kuris ciklas tuo konkrečiu atveju yra tinkamesnis naudoti."
      ]
    },
    {
      "cell_type": "markdown",
      "metadata": {
        "id": "xzPrlk6gAIII"
      },
      "source": [
        "# `for` ciklas (1 dalis)"
      ]
    },
    {
      "cell_type": "markdown",
      "metadata": {
        "id": "vWFQ2tgKAIII"
      },
      "source": []
    },
    {
      "cell_type": "markdown",
      "metadata": {
        "id": "TtwmPnleAIIJ"
      },
      "source": [
        "## Apie `for` ciklą\n",
        "\n",
        "Šis ciklas dažniausiai naudojamas kai yra žinoma, kiek kartų jis turi būti vykdomas, arba kai yra iteruojamas duomenų rinkinys (skaičių sąrašas, elementų rinkinys, …)."
      ]
    },
    {
      "cell_type": "markdown",
      "metadata": {
        "id": "jKkrjy56AIIJ"
      },
      "source": [
        "## Sintaksė\n",
        "\n",
        "```\n",
        "for elementas in iteruojamas_objektas:\n",
        "\t# vykdomas kodas\n",
        "```\n",
        "\n",
        "- **iteruojamas_objektas** - duomenų rinkinys kurį reikia apdoroti.\n",
        "- **elementas** - vienas elementas, viena dalis, iš `iteruojamas_objektas`."
      ]
    },
    {
      "cell_type": "markdown",
      "metadata": {
        "id": "BEyFORZUAIIJ"
      },
      "source": [
        "**iteruojamas_objektas** gali būti:\n",
        "\n",
        "```\n",
        "[40, 32, 73]\n",
        "\"labas\"\n",
        "range(1, 10)\n",
        "...\n",
        "```"
      ]
    },
    {
      "cell_type": "markdown",
      "metadata": {
        "id": "pSwGmJh0AIIK"
      },
      "source": [
        "## Pavyzdžiai"
      ]
    },
    {
      "cell_type": "markdown",
      "metadata": {
        "id": "aJlagPENAIIK"
      },
      "source": [
        "Kodas, kuris išveda 5 skaičius nenaudojant ciklo."
      ]
    },
    {
      "cell_type": "code",
      "execution_count": null,
      "metadata": {
        "id": "8y3bpp2sAIIL"
      },
      "outputs": [],
      "source": [
        "print(0)\n",
        "print(1)\n",
        "print(2)\n",
        "print(3)\n",
        "print(4)"
      ]
    },
    {
      "cell_type": "markdown",
      "metadata": {
        "id": "qxA1YVLDAIIM"
      },
      "source": [
        "Ciklo pagalba tai galime padaryti trumpiau."
      ]
    },
    {
      "cell_type": "code",
      "execution_count": null,
      "metadata": {
        "id": "NZArVN8EAIIM"
      },
      "outputs": [],
      "source": [
        "for i in range(5):\n",
        "    print(i)"
      ]
    },
    {
      "cell_type": "markdown",
      "metadata": {
        "id": "rG196dz_AIIM"
      },
      "source": [
        "Ciklui galime nurodyti konkretų intervalą (nuo 0 iki 5)."
      ]
    },
    {
      "cell_type": "code",
      "execution_count": null,
      "metadata": {
        "id": "Ad2CUnkZAIIM"
      },
      "outputs": [],
      "source": [
        "for i in range(0, 5):\n",
        "    print(i)"
      ]
    },
    {
      "cell_type": "markdown",
      "metadata": {
        "id": "ms2uEs5XAIIN"
      },
      "source": [
        "Turime galimybę keisti tą intervalą pagal poreikį (nuo 1 iki 6)."
      ]
    },
    {
      "cell_type": "code",
      "execution_count": null,
      "metadata": {
        "id": "gTXpeB2lAIIN"
      },
      "outputs": [],
      "source": [
        "for i in range(1, 6):\n",
        "    print(i)"
      ]
    },
    {
      "cell_type": "markdown",
      "metadata": {
        "id": "Z9NMMVEiAIIN"
      },
      "source": [
        "Kai turime tokią ciklo formą, ciklinis kintamasis prasided nuo 0, tačiau ciklo viduje šį kintamąjį galime naudoti pagal poreikį (šiuo atveju bus išvedami skaičiai pradedant nuo 1)."
      ]
    },
    {
      "cell_type": "code",
      "execution_count": null,
      "metadata": {
        "id": "estNKXm7AIIN"
      },
      "outputs": [],
      "source": [
        "for i in range(5):\n",
        "    print(i+1)"
      ]
    },
    {
      "cell_type": "markdown",
      "metadata": {
        "id": "UU9M1xsDAIIN"
      },
      "source": [
        "Ciklo pagalba patogiai galime išvesti ne tik skaičius (taip būtų nenaudojant ciklo)."
      ]
    },
    {
      "cell_type": "code",
      "execution_count": null,
      "metadata": {
        "id": "YljraKlCAIIO"
      },
      "outputs": [],
      "source": [
        "print('labas')\n",
        "print('labas')\n",
        "print('labas')"
      ]
    },
    {
      "cell_type": "markdown",
      "metadata": {
        "id": "_sPybXs_AIIO"
      },
      "source": [
        "Naudojant ciklą, kodas sutrumpėja."
      ]
    },
    {
      "cell_type": "code",
      "execution_count": null,
      "metadata": {
        "id": "wwMqYS1wAIIO"
      },
      "outputs": [],
      "source": [
        "for _ in range(3):\n",
        "    print('labas')"
      ]
    },
    {
      "cell_type": "markdown",
      "metadata": {
        "id": "kNN8Y7XqAIIO"
      },
      "source": [
        "Dar vienas pavyzdys su eilutės formatavimu. Nenaudojant ciklo galėtume taip formatuoti eilutes."
      ]
    },
    {
      "cell_type": "code",
      "execution_count": null,
      "metadata": {
        "id": "BfRbU376AIIO"
      },
      "outputs": [],
      "source": [
        "print('eilutė nr. 1')\n",
        "print('eilutė nr. 2')\n",
        "print('eilutė nr. 3')\n",
        "print('eilutė nr. 4')"
      ]
    },
    {
      "cell_type": "markdown",
      "metadata": {
        "id": "PYnfeib0AIIO"
      },
      "source": [
        "Naudojant ciklą tai galime padaryti paprasčiau."
      ]
    },
    {
      "cell_type": "code",
      "execution_count": null,
      "metadata": {
        "id": "YdYVkP91AIIP"
      },
      "outputs": [],
      "source": [
        "for i in range(1, 5):\n",
        "    print(f'eilutė nr. {i}')"
      ]
    },
    {
      "cell_type": "markdown",
      "metadata": {
        "id": "kXBQVBgyAIIP"
      },
      "source": [
        "Dar pora pavyzdžių su skaičiais. Skaičių išvedimas intervale [5, 10]."
      ]
    },
    {
      "cell_type": "code",
      "execution_count": null,
      "metadata": {
        "id": "p8d5wqbHAIIP"
      },
      "outputs": [],
      "source": [
        "for sk in range(5, 11):\n",
        "    print(f'skaičius: {sk}')"
      ]
    },
    {
      "cell_type": "markdown",
      "metadata": {
        "id": "CHKNKRprAIIP"
      },
      "source": [
        "Ir... skaičių išvedimas intervale [5, 15]."
      ]
    },
    {
      "cell_type": "code",
      "execution_count": null,
      "metadata": {
        "id": "l58atEtqAIIP"
      },
      "outputs": [],
      "source": [
        "for i in range(5, 16):\n",
        "    print(f'skaičius i = {i}')"
      ]
    },
    {
      "cell_type": "markdown",
      "metadata": {
        "id": "Jd5FHT-yAIIP"
      },
      "source": [
        "Pavyzdys, kai išrenkame lyginius intervale [2, 10]."
      ]
    },
    {
      "cell_type": "code",
      "execution_count": null,
      "metadata": {
        "id": "8TIzkJPBAIIP"
      },
      "outputs": [],
      "source": [
        "for skaicius in range(2, 11):\n",
        "    if skaicius % 2 == 0:\n",
        "        print(f'skaičius {skaicius} yra lyginis')"
      ]
    },
    {
      "cell_type": "markdown",
      "metadata": {
        "id": "EnJstkW_AIIQ"
      },
      "source": [
        "Išrinkti lyginius galime paprasčiau - nurodydami žingsnį 2."
      ]
    },
    {
      "cell_type": "code",
      "execution_count": null,
      "metadata": {
        "id": "tw4S55RlAIIQ"
      },
      "outputs": [],
      "source": [
        "for skaicius in range(2, 11, 2):\n",
        "    print(f'skaičius {skaicius} yra lyginis')"
      ]
    },
    {
      "cell_type": "markdown",
      "metadata": {
        "id": "PGlI5tSsAIIQ"
      },
      "source": [
        "Truputį sudėtingesnis išrinkimas, kai atrenkame skaičius, kurie dalinasi iš 2 arba 5."
      ]
    },
    {
      "cell_type": "code",
      "execution_count": null,
      "metadata": {
        "id": "5kCdatgwAIIQ"
      },
      "outputs": [],
      "source": [
        "for sk in range(1, 13):\n",
        "    if sk % 2 == 0 or sk % 5 == 0:\n",
        "        print(f'skaičius {sk} dalinasi iš 2 arba 5')"
      ]
    },
    {
      "cell_type": "markdown",
      "metadata": {
        "id": "3eVXXMYYAIIQ"
      },
      "source": [
        "Nurodydami rėžius, galime naudoti ne tik skaičius, bet ir kintamuosius."
      ]
    },
    {
      "cell_type": "code",
      "execution_count": null,
      "metadata": {
        "id": "ioqppSZZAIIQ"
      },
      "outputs": [],
      "source": [
        "kiek = 5\n",
        "\n",
        "for i in range(kiek):\n",
        "    print(i)"
      ]
    },
    {
      "cell_type": "markdown",
      "metadata": {
        "id": "WXUjvsk5AIIR"
      },
      "source": [
        "Dar daugiau kintamųjų nurodant rėžius."
      ]
    },
    {
      "cell_type": "code",
      "execution_count": null,
      "metadata": {
        "id": "BP27vh-DAIIR"
      },
      "outputs": [],
      "source": [
        "pradzia = 7\n",
        "pabaiga = 10\n",
        "\n",
        "for i in range(pradzia, pabaiga + 1):\n",
        "    print(f'skaičius {i}')"
      ]
    },
    {
      "cell_type": "markdown",
      "metadata": {
        "id": "0r-EoJZRAIIS"
      },
      "source": [
        "Kitoks kintamųjų užrašymas ir jų naudojimas cikle."
      ]
    },
    {
      "cell_type": "code",
      "execution_count": null,
      "metadata": {
        "id": "m2k_rVfcAIIS"
      },
      "outputs": [],
      "source": [
        "pradzia, pabaiga = 7, 10\n",
        "\n",
        "for i in range(pradzia, pabaiga + 1):\n",
        "    print(f'skaičius {i}')"
      ]
    },
    {
      "cell_type": "markdown",
      "metadata": {
        "id": "rCD59Eg9AIIS"
      },
      "source": [
        "Kintamųjų naudojimas cikle."
      ]
    },
    {
      "cell_type": "code",
      "execution_count": null,
      "metadata": {
        "id": "lV-qHQY8AIIS"
      },
      "outputs": [],
      "source": [
        "vardas = input('Įveskite savo vardą: ')\n",
        "kiek = int( input('Įveskite kiek kartų norite kartoti: ') )\n",
        "\n",
        "for i in range(kiek):\n",
        "    print(vardas)"
      ]
    },
    {
      "cell_type": "markdown",
      "metadata": {
        "id": "Yat6x9pWAIIT"
      },
      "source": [
        "## Užduotys"
      ]
    },
    {
      "cell_type": "markdown",
      "metadata": {
        "id": "JqMYtqUNAIIT"
      },
      "source": [
        "### Užduotis 1\n",
        "\n",
        "Parašyti `for` ciklą, kuris išvestų kiekvieną skaičių pradedant nuo 0 ir baigiant 10 (pvz: `0, 1, 2, 3, 4, 5, 6, 7, 8, 9, 10`)."
      ]
    },
    {
      "cell_type": "code",
      "execution_count": null,
      "metadata": {
        "id": "PaWVZRGgAIIT"
      },
      "outputs": [],
      "source": [
        "# Kodą rašykite čia...\n"
      ]
    },
    {
      "cell_type": "markdown",
      "metadata": {
        "id": "OQnGJg2sAIIT"
      },
      "source": [
        "### Užduotis 2\n",
        "\n",
        "Parašyti `for` ciklą, kuris išvestų kas antrą skaičių pradedant 0 ir baigiant 15 (pvz: `0, 2, 4, 6, 8, 10, 12, 14`)."
      ]
    },
    {
      "cell_type": "code",
      "execution_count": null,
      "metadata": {
        "id": "YC9-okBcAIIU"
      },
      "outputs": [],
      "source": [
        "# Kodą rašykite čia...\n"
      ]
    },
    {
      "cell_type": "markdown",
      "metadata": {
        "id": "BLcl6x_6AIIU"
      },
      "source": [
        "### Užduotis 3\n",
        "\n",
        "Parašyti `for` ciklą, kuris išvestų kas trečią skaičių, pradedant 1 ir baigiant 20. Kiekvieną skaičių apskliausti laužtiniais skliaustais. Pvz.: `[1][4][7]`..."
      ]
    },
    {
      "cell_type": "code",
      "execution_count": null,
      "metadata": {
        "id": "mWAqq6FwAIIU"
      },
      "outputs": [],
      "source": [
        "# Kodą rašykite čia...\n"
      ]
    },
    {
      "cell_type": "markdown",
      "metadata": {
        "id": "WT5Hpz4qAIIU"
      },
      "source": [
        "### Užduotis 4\n",
        "\n",
        "`for` ciklo pagalba penkis kartus išveskite savo vardą."
      ]
    },
    {
      "cell_type": "code",
      "execution_count": null,
      "metadata": {
        "id": "r04DVLyIAIIU"
      },
      "outputs": [],
      "source": [
        "# Kodą rašykite čia...\n"
      ]
    },
    {
      "cell_type": "markdown",
      "metadata": {
        "id": "nbp0KJslAIIU"
      },
      "source": [
        "### Užduotis 5\n",
        "\n",
        "Parašyti `for` ciklą, kuris eitų pro kiekvieną skaičių nuo 1 iki 20. Jame apsirašyti `if` sąlygą, kuri patikrintų ar dabartinis skaičius dalinasi iš 4. Jei taip tai šį skaičių išvesti."
      ]
    },
    {
      "cell_type": "code",
      "execution_count": null,
      "metadata": {
        "id": "TARrH3naAIIU"
      },
      "outputs": [],
      "source": [
        "# Kodą rašykite čia...\n"
      ]
    },
    {
      "cell_type": "markdown",
      "metadata": {
        "id": "W0KYwKtbAIIU"
      },
      "source": [
        "### Užduotis 6\n",
        "\n",
        "Išveskite visus skaičius nuo 1 iki 15, prie kiekvieno jų nurodant tai lyginis ar nelyginis skaičius. Pvz:\n",
        "\n",
        "```\n",
        "1 - nelyginis\n",
        "2 - lyginis\n",
        "3 - nelyginis\n",
        "...\n",
        "```"
      ]
    },
    {
      "cell_type": "code",
      "execution_count": null,
      "metadata": {
        "id": "1JfQFsb7AIIU"
      },
      "outputs": [],
      "source": [
        "# Kodą rašykite čia...\n"
      ]
    },
    {
      "cell_type": "markdown",
      "metadata": {
        "id": "_PdwAqukAIIV"
      },
      "source": [
        "### Užduotis 7\n",
        "\n",
        "Apibrėžkite kintamuosius rėžių pradžiai ir pabaigai. Patikrinkite, kad tai būtų validu (pradžia turi būti mažesnė nei pabaiga). Jei rėžiai tinkami, tuomet vykdyti `for` ciklą, kuris atskirose eilutėse išvestų kiekvieną skaičių. Po kiekvieno skaičiaus padėti tarpą ir išvesti to skaičiaus kvadratą."
      ]
    },
    {
      "cell_type": "code",
      "execution_count": null,
      "metadata": {
        "id": "a1tBLD5aAIIV"
      },
      "outputs": [],
      "source": [
        "# Kodą rašykite čia...\n"
      ]
    },
    {
      "cell_type": "markdown",
      "metadata": {
        "id": "l8npMoJDAIIV"
      },
      "source": [
        "### Užduotis 8\n",
        "\n",
        "Apibrėžkite kintamuosius rėžių pradžiai ir pabaigai. Patikrinkite, kad tai būtų validu (pradžia turi būti mažesnė nei pabaiga). Jei rėžiai tinkami, tuomet vykdyti `for` ciklą, kuris išvestų visus nelyginius skaičius arba tuos, kurie dalinasi iš 8."
      ]
    },
    {
      "cell_type": "code",
      "execution_count": null,
      "metadata": {
        "id": "LTVW0wBpAIIV"
      },
      "outputs": [],
      "source": [
        "# Kodą rašykite čia...\n"
      ]
    }
  ],
  "metadata": {
    "kernelspec": {
      "display_name": "Python 3",
      "language": "python",
      "name": "python3"
    },
    "language_info": {
      "codemirror_mode": {
        "name": "ipython",
        "version": 3
      },
      "file_extension": ".py",
      "mimetype": "text/x-python",
      "name": "python",
      "nbconvert_exporter": "python",
      "pygments_lexer": "ipython3",
      "version": "3.10.10"
    },
    "orig_nbformat": 4,
    "vscode": {
      "interpreter": {
        "hash": "aa11ca274996316222ef16f35c5f6dbeb467b694c0b2154cdf34dcf9271d5fd0"
      }
    },
    "colab": {
      "provenance": []
    }
  },
  "nbformat": 4,
  "nbformat_minor": 0
}