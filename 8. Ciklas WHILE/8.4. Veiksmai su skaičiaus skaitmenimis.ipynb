{
  "nbformat": 4,
  "nbformat_minor": 0,
  "metadata": {
    "colab": {
      "provenance": [],
      "authorship_tag": "ABX9TyNRCQTx0eFi0RpruQ3oaYZ4",
      "include_colab_link": true
    },
    "kernelspec": {
      "name": "python3",
      "display_name": "Python 3"
    },
    "language_info": {
      "name": "python"
    }
  },
  "cells": [
    {
      "cell_type": "markdown",
      "metadata": {
        "id": "view-in-github",
        "colab_type": "text"
      },
      "source": [
        "<a href=\"https://colab.research.google.com/github/algiasas/Phyton/blob/main/8.%20Ciklas%20WHILE/8.4.%20Veiksmai%20su%20skai%C4%8Diaus%20skaitmenimis.ipynb\" target=\"_parent\"><img src=\"https://colab.research.google.com/assets/colab-badge.svg\" alt=\"Open In Colab\"/></a>"
      ]
    },
    {
      "cell_type": "markdown",
      "source": [
        "# **Skaičių skaitmenys**"
      ],
      "metadata": {
        "id": "pqibCxmL8m--"
      }
    },
    {
      "cell_type": "markdown",
      "source": [
        "Duotą skaičių n parašykite atbulai."
      ],
      "metadata": {
        "id": "BRdCj9Jz8v4U"
      }
    },
    {
      "cell_type": "code",
      "execution_count": null,
      "metadata": {
        "id": "5k1qidzR8kcm"
      },
      "outputs": [],
      "source": [
        "n = int(input(\"Įveskite sveikajį skaičių: \"))\n",
        "atb = 0\n",
        "while n > 0:\n",
        "  p = n % 10\n",
        "  atb = atb * 10 + p\n",
        "  n = n // 10\n",
        "print(f'Atbulas skaičius yra {atb}')"
      ]
    },
    {
      "cell_type": "markdown",
      "source": [
        "Skaičiaus skaitmenis galime sudėti į sąrašą, kurį vėliau galėsime rikiuoti, ieškoti didžiausio ar mažiausio jo elementų ar jų vietų. Žemiau pateikiamas skaitmenų sudėjimo į sąrašą pavyzdys."
      ],
      "metadata": {
        "id": "wiJLQ1Tz93Sd"
      }
    },
    {
      "cell_type": "code",
      "source": [
        "n = int(input('Įveskite sveikąjį skaičių: '))\n",
        "skaitmenys = [] #tuščias sąrašas\n",
        "while n > 0:\n",
        "  p = n % 10\n",
        "  skaitmenys.append(p) #pridedame skaitmenį į sąrašą\n",
        "  n //= 10\n",
        "print(skaitmenys)"
      ],
      "metadata": {
        "id": "eOKh58Xz-UV9"
      },
      "execution_count": null,
      "outputs": []
    },
    {
      "cell_type": "markdown",
      "source": [
        "Papildykime prieš tai buvusią programą sąraše esančių skaitmenų rikiavimui mažėjimo (didėjimo) tvarka."
      ],
      "metadata": {
        "id": "LhzDbGVJ_I79"
      }
    },
    {
      "cell_type": "code",
      "source": [
        "n = int(input('Įveskite sveikąjį skaičių: '))\n",
        "skaitmenys = [] #tuščias sąrašas\n",
        "while n > 0:\n",
        "  p = n % 10\n",
        "  skaitmenys.append(p) #pridedame skaitmenį į sąrašą\n",
        "  n //= 10\n",
        "print(f'Pradinis gautas sąrašas {skaitmenys}')\n",
        "skaitmenys.sort() #didėjimo tvarka\n",
        "print(f'Surikiuotas sąrašas (didėjimo tvarka) {skaitmenys}')\n",
        "skaitmenys.sort(reverse=True) #mažėjimo tvarka\n",
        "print(f'Surikiuotas sąrašas (mažėjimo tvarka) {skaitmenys}')"
      ],
      "metadata": {
        "id": "Ao9ivGSN_g1k"
      },
      "execution_count": null,
      "outputs": []
    },
    {
      "cell_type": "markdown",
      "source": [
        "Duotas sveikasis skaičius n. Iš šio skaičiaus visų skaitmenų sudarykite didžiausią galimą skaičių. Pvz., jei n = 4127, tai ats = 7421."
      ],
      "metadata": {
        "id": "b6SH06FLCr8M"
      }
    },
    {
      "cell_type": "code",
      "source": [
        "n = int(input('Įveskite sveikąjį skaičių: '))\n",
        "skaitmenys = [] #tuščias sąrašas\n",
        "while n > 0:\n",
        "  p = n % 10\n",
        "  skaitmenys.append(p) #pridedame skaitmenį į sąrašą\n",
        "  n //= 10\n",
        "skaitmenys.sort(reverse=True) #mažėjimo tvarka\n",
        "naujas_skaicius = 0\n",
        "for i in range (0,len(skaitmenys)):\n",
        "  naujas_skaicius = naujas_skaicius * 10 + skaitmenys[i]\n",
        "print(f'Didžiausias gautas skaičius yra {naujas_skaicius}')"
      ],
      "metadata": {
        "id": "8_lySXzQDG0E"
      },
      "execution_count": null,
      "outputs": []
    },
    {
      "cell_type": "markdown",
      "source": [
        "Labai lengva rasti sąraše didžiausią ar mažiausią jo elementus bei jų vietas. Tam naudojamos funkcijos max ir min, o vietoms rasti - metodas index.\n",
        "Tarkime, kad reikia rasti duoto skaičiaus didžiausią ir mažiausią skaitmenis, bei jų vietas skaičiuje. Progrogramos kodo pavyzdys pateikiamas žemiau."
      ],
      "metadata": {
        "id": "sZpCNzfxEfrk"
      }
    },
    {
      "cell_type": "code",
      "source": [
        "n = int(input('Įveskite sveikąjį skaičių: '))\n",
        "n1 = n #atsimenamas pradinis skaičius\n",
        "skaitmenys = [] #tuščias sąrašas\n",
        "while n > 0:\n",
        "  p = n % 10\n",
        "  skaitmenys.append(p) #pridedame skaitmenį į sąrašą\n",
        "  n //= 10\n",
        "kiek = len(skaitmenys)\n",
        "didziausias = max(skaitmenys)\n",
        "didziausio_vieta = skaitmenys.index(didziausias)\n",
        "maziausias = min(skaitmenys)\n",
        "maziausio_vieta = skaitmenys.index(maziausias)\n",
        "print(f'skaičiaus {n1} didžiausias skaitmuo yra {didziausias}, o jo vieta yra {kiek-didziausio_vieta}')\n",
        "print(f'skaičiaus {n1} mažiausias skaitmuo yra {maziausias}, o jo vieta yra {kiek-maziausio_vieta}')"
      ],
      "metadata": {
        "colab": {
          "base_uri": "https://localhost:8080/"
        },
        "id": "wZ--knvLGVUM",
        "outputId": "d07b6768-3bfa-4e6b-d362-4e573c054d01"
      },
      "execution_count": 20,
      "outputs": [
        {
          "output_type": "stream",
          "name": "stdout",
          "text": [
            "Įveskite sveikąjį skaičių: 5173\n",
            "skaičiaus 5173 didžiausias skaitmuo yra 7, o jo vieta yra 3\n",
            "skaičiaus 5173 mažiausias skaitmuo yra 1, o jo vieta yra 2\n"
          ]
        }
      ]
    },
    {
      "cell_type": "markdown",
      "source": [
        "# **Užduotys**"
      ],
      "metadata": {
        "id": "aY6yNCUKKv2r"
      }
    },
    {
      "cell_type": "markdown",
      "source": [
        "1. Duotas sveikasis skaičius **n**. Ar skaičius yra palindromas?"
      ],
      "metadata": {
        "id": "GgEcHzdEK1s7"
      }
    },
    {
      "cell_type": "code",
      "source": [],
      "metadata": {
        "id": "5HugPbgGMXc7"
      },
      "execution_count": null,
      "outputs": []
    },
    {
      "cell_type": "markdown",
      "source": [
        "2. Duoti du sveikieji skaičiai n ir m. Nustatykite:\n",
        "a) kurio skaičiaus didžiausias skaitmuo didesnis;\n",
        "b) kuris skaičius turi daugiau skaitmenų;\n",
        "c) kuriame skaičiuje daugiau lyginių skaitmenų."
      ],
      "metadata": {
        "id": "cBd9RjW4MYlv"
      }
    },
    {
      "cell_type": "code",
      "source": [],
      "metadata": {
        "id": "KPPrCTKWQ48D"
      },
      "execution_count": null,
      "outputs": []
    },
    {
      "cell_type": "markdown",
      "source": [
        "3. Duotas sveikasis skaičius n ir skaitmuo k. Nustatykite, ar duotame skaičiuje yra skaitmuo k. Jei taip, tai kiek kartų."
      ],
      "metadata": {
        "id": "vq7IQsEEQ8K_"
      }
    },
    {
      "cell_type": "code",
      "source": [],
      "metadata": {
        "id": "DTSn9VinRNIi"
      },
      "execution_count": null,
      "outputs": []
    },
    {
      "cell_type": "markdown",
      "source": [
        "4. Duotas sveikasis skaičius n. Sukeiskite vietomis didžiausią skaičiaus skaitmenį su mažiausiu."
      ],
      "metadata": {
        "id": "0LTtsxzbRNyi"
      }
    },
    {
      "cell_type": "code",
      "source": [],
      "metadata": {
        "id": "WmcyFfTRRe7i"
      },
      "execution_count": null,
      "outputs": []
    }
  ]
}