{
  "cells": [
    {
      "cell_type": "markdown",
      "metadata": {
        "id": "ShJNx6Fq3VAL"
      },
      "source": [
        "[![Open In Colab](https://colab.research.google.com/assets/colab-badge.svg)](https://colab.research.google.com/github/blaztoma/pitono-pamokos/blob/main/pamokos/06%20-%20Skaiciai%20ir%20matematika%20-%202%20dalis/Dar_skaiciu_ir_matematikos.ipynb)"
      ]
    },
    {
      "cell_type": "markdown",
      "metadata": {
        "id": "vQyNbZ4ZQzvZ"
      },
      "source": [
        "# Kitos matematinės operacijos"
      ]
    },
    {
      "cell_type": "markdown",
      "metadata": {
        "id": "YMPVuhOnQ91l"
      },
      "source": [
        "Mes jau žinome šiuos matematinius operatorius:\n",
        "\n",
        "Operatorius\t| Pavadinimas |\tPavyzdys | Paaiškinimas\n",
        "------------|-------------|----------|-------------\n",
        "`+` | Sudėtis | `5 + 3` | Sudeda `5` ir `3`\n",
        "`-` | Atimtis | `5 - 3` | Atima `3` iš `5`\n",
        "`*` | Daugyba | `5 * 3` | Sudaugina `5` iš `3`\n",
        "`/` | Dalyba | `5 / 3` | Padalina `5` iš `3`\n",
        "`**` | Laipsnis | `5 ** 3` | Pakelia `5` laipsniu `3`\n",
        "`%` | Liekana | `5 % 3` | Liekana (ats. 2)\n",
        "`//` | Dalyba | `5 // 3` | Sveiko skaičiaus dalyba (ats. 1)  "
      ]
    },
    {
      "cell_type": "markdown",
      "metadata": {
        "id": "iVk319FqRETx"
      },
      "source": [
        "Ir žinome pagrindinę priskyrimo kintamiesiems formą:\n",
        "```\n",
        "kintamasis = reikšmė\n",
        "```\n",
        "\n"
      ]
    },
    {
      "cell_type": "markdown",
      "metadata": {
        "id": "6ESXyeToRhwd"
      },
      "source": [
        "Dažnai pasitaiko tokia situacija, kai kintamąjį reikia pakeisti. Pavyzdžiui jį padidinant, pamažinant ar kitaip pakeičiant jo reikšmę. Pavyzdžiui, norint padidinti pradinę kintamojo `kintamasis` reikšmę 5-iais, reikia daryti taip:"
      ]
    },
    {
      "cell_type": "code",
      "execution_count": null,
      "metadata": {
        "colab": {
          "base_uri": "https://localhost:8080/"
        },
        "id": "7u_QfX8IQrv_",
        "outputId": "25615354-223c-472e-86a3-71bf2a8d5549"
      },
      "outputs": [
        {
          "name": "stdout",
          "output_type": "stream",
          "text": [
            "10\n"
          ]
        }
      ],
      "source": [
        "kintamasis = 5\n",
        "kintamasis = kintamasis + 5\n",
        "print(kintamasis)"
      ]
    },
    {
      "cell_type": "markdown",
      "metadata": {
        "id": "iU0-mvKHSlty"
      },
      "source": [
        "Pitone, kaip ir įvairiose kitose programavimo kalbose, tai galima padaryti efektyviau:"
      ]
    },
    {
      "cell_type": "code",
      "execution_count": null,
      "metadata": {
        "colab": {
          "base_uri": "https://localhost:8080/"
        },
        "id": "iUCFSPLvS1vo",
        "outputId": "39232cf9-0820-43ec-bb70-6d631d64ee0b"
      },
      "outputs": [
        {
          "name": "stdout",
          "output_type": "stream",
          "text": [
            "10\n"
          ]
        }
      ],
      "source": [
        "kintamasis = 5\n",
        "kintamasis += 5\n",
        "print(kintamasis)"
      ]
    },
    {
      "cell_type": "markdown",
      "metadata": {
        "id": "OLObCchRS9tl"
      },
      "source": [
        "Ar pastebėjote skirtumą? Kaip matote, skirtumas yra `+=` operacija."
      ]
    },
    {
      "cell_type": "markdown",
      "metadata": {
        "id": "9xBFar1sTKVZ"
      },
      "source": [
        "## Kiti reikšmės pakeitimo operatoriai"
      ]
    },
    {
      "cell_type": "markdown",
      "metadata": {
        "id": "nz0CnfyjTfoq"
      },
      "source": [
        "`+=` yra ne vienintelis toks reikšmės pakeitimo (šiuo atveju - padidinimo) operatorius. Yra ir eilė kitų:\n",
        "\n",
        "Priskyrimas | Atitikmuo | Paaiškinimas\n",
        "------------|-----------|----------\n",
        "`x += y` | `x = x + y` | Kintamasis `x` padidinamas `y` skaičiumi\n",
        "`x -= y` | `x = x - y` | Kintamasis `x` sumažinamas `y` skaičiumi\n",
        "`x *= y` | `x = x * y` | Kintamasis `x` padauginamas iš `y` \n",
        "`x /= y` | `x = x / y` | Kintamasis `x` padalinamas iš `y` \n",
        "`x %= y` | `x = x % y` | Kintamasis `x` padalinamas iš `y` ir paimama liekana\n",
        "`x **= y` | `x = x * x * x` | Kintamasis `x` pakeliamas `y` laipsniu\n",
        "\n"
      ]
    },
    {
      "cell_type": "markdown",
      "metadata": {
        "id": "SIhriuTCWf68"
      },
      "source": [
        "Panagrinėkite žemiau esantį pavyzdį ir jei kas buvo neaišku - paaiškės 😀"
      ]
    },
    {
      "cell_type": "code",
      "execution_count": null,
      "metadata": {
        "colab": {
          "base_uri": "https://localhost:8080/"
        },
        "id": "A6TCHzv_WfKk",
        "outputId": "16ea7a7e-a7b0-4b08-c93b-e083a3d1438d"
      },
      "outputs": [
        {
          "name": "stdout",
          "output_type": "stream",
          "text": [
            "= 0: 0\n",
            "+= 10: 10\n",
            "-= 5: 5\n",
            "*= 2: 10\n",
            "/= 4: 2.5\n"
          ]
        }
      ],
      "source": [
        "skaicius = 0\n",
        "print('= 0:', skaicius)\n",
        "\n",
        "skaicius += 10\n",
        "print('+= 10:', skaicius)\n",
        "\n",
        "skaicius -= 5\n",
        "print('-= 5:', skaicius)\n",
        "\n",
        "skaicius *= 2\n",
        "print('*= 2:', skaicius)\n",
        "\n",
        "skaicius /= 4\n",
        "print('/= 4:', skaicius)"
      ]
    },
    {
      "cell_type": "markdown",
      "metadata": {
        "id": "v7aTNWPxVyGg"
      },
      "source": [
        "Čia matėte operacijas su skaičiais. Kita vertus, ši operacija galioja ir kitiems tipams, pavyzdžiui eilutėms:"
      ]
    },
    {
      "cell_type": "code",
      "execution_count": null,
      "metadata": {
        "colab": {
          "base_uri": "https://localhost:8080/"
        },
        "id": "WBhqUQpnV7AX",
        "outputId": "a650e2be-93cb-4307-9793-ba3ed885d421"
      },
      "outputs": [
        {
          "name": "stdout",
          "output_type": "stream",
          "text": [
            "Čia yra pirma eilutė sujungta su kita eilute.\n"
          ]
        }
      ],
      "source": [
        "eilute = \"Čia yra pirma eilutė \"\n",
        "eilute += \"sujungta su kita eilute.\"\n",
        "print(eilute)"
      ]
    },
    {
      "cell_type": "markdown",
      "metadata": {
        "id": "QedOr-Jc3VAU"
      },
      "source": [
        "# Daugiau pavyzdžių"
      ]
    },
    {
      "cell_type": "code",
      "execution_count": null,
      "metadata": {
        "id": "FDFBxvcB3VAU",
        "outputId": "3007a962-f6f6-41b1-f0a8-c6db0e8da127"
      },
      "outputs": [
        {
          "name": "stdout",
          "output_type": "stream",
          "text": [
            "11\n",
            "-35\n"
          ]
        }
      ],
      "source": [
        "print(5 + 3 * 2)\n",
        "print(10 - 5 * (7 + 2))"
      ]
    },
    {
      "cell_type": "code",
      "execution_count": null,
      "metadata": {
        "id": "GgTuIxAp3VAV",
        "outputId": "2f94d8f2-661b-4e5b-b101-f2c95b87443a"
      },
      "outputs": [
        {
          "name": "stdout",
          "output_type": "stream",
          "text": [
            "20\n"
          ]
        }
      ],
      "source": [
        "atsakymas = 8 * 2 + 4\n",
        "print(atsakymas)"
      ]
    },
    {
      "cell_type": "code",
      "execution_count": null,
      "metadata": {
        "id": "JyJqCjKW3VAV",
        "outputId": "21f56893-13c5-4693-a40b-3936187c0bf6"
      },
      "outputs": [
        {
          "name": "stdout",
          "output_type": "stream",
          "text": [
            "13\n",
            "7\n",
            "30\n",
            "3.3333333333333335\n",
            "\n",
            "1\n",
            "1000\n",
            "3\n"
          ]
        }
      ],
      "source": [
        "x = 10\n",
        "y = 3\n",
        "\n",
        "print(x + y)\n",
        "print(x - y)\n",
        "print(x * y)\n",
        "print(x / y)\n",
        "print()\n",
        "\n",
        "print(x % y)\n",
        "print(x ** y)\n",
        "print(x // y)"
      ]
    },
    {
      "cell_type": "code",
      "execution_count": null,
      "metadata": {
        "id": "QyDGkxbp3VAV",
        "outputId": "d0ac64a1-35cb-46b3-b730-4c21b890ab7e"
      },
      "outputs": [
        {
          "name": "stdout",
          "output_type": "stream",
          "text": [
            "a: 5\n",
            "b: 4\n",
            "suma: 9\n",
            "skirtumas: 1\n",
            "sandauga: 20\n",
            "dalmuo: 1.25\n"
          ]
        }
      ],
      "source": [
        "a = 5\n",
        "b = 4\n",
        "\n",
        "suma = a + b\n",
        "skirtumas = a - b\n",
        "sandauga = a * b\n",
        "dalmuo = a / b\n",
        "\n",
        "print('a:', a)\n",
        "print('b:', b)\n",
        "\n",
        "print('suma:', suma)\n",
        "print('skirtumas:', skirtumas)\n",
        "print('sandauga:', sandauga)\n",
        "print('dalmuo:', dalmuo)"
      ]
    },
    {
      "cell_type": "code",
      "execution_count": null,
      "metadata": {
        "id": "vcALQlEz3VAW",
        "outputId": "637af297-c18e-4e62-b411-29e829232ba3"
      },
      "outputs": [
        {
          "name": "stdout",
          "output_type": "stream",
          "text": [
            "5 + 4 = 9\n",
            "5 - 4 = 1\n",
            "5 * 4 = 20\n",
            "5 / 4 = 1.25\n"
          ]
        }
      ],
      "source": [
        "a = 5\n",
        "b = 4\n",
        "\n",
        "suma = a + b\n",
        "skirtumas = a - b\n",
        "sandauga = a * b\n",
        "dalmuo = a / b\n",
        "\n",
        "print(f'{a} + {b} = {suma}')\n",
        "print(f'{a} - {b} = {skirtumas}')\n",
        "print(f'{a} * {b} = {sandauga}')\n",
        "print(f'{a} / {b} = {dalmuo}')"
      ]
    },
    {
      "cell_type": "code",
      "execution_count": null,
      "metadata": {
        "id": "jYHTjtNd3VAW",
        "outputId": "96c607a3-ea9a-4d2e-9fe3-6951eb25bb3f"
      },
      "outputs": [
        {
          "name": "stdout",
          "output_type": "stream",
          "text": [
            "5 + 4 = 9\n",
            "5 - 4 = 1\n",
            "5 * 4 = 20\n",
            "5 / 4 = 1.25\n"
          ]
        }
      ],
      "source": [
        "a = 5\n",
        "b = 4\n",
        "\n",
        "print(f'{a} + {b} = {a + b}')\n",
        "print(f'{a} - {b} = {a - b}')\n",
        "print(f'{a} * {b} = {a * b}')\n",
        "print(f'{a} / {b} = {a / b}')"
      ]
    },
    {
      "cell_type": "code",
      "execution_count": null,
      "metadata": {
        "id": "Y0JSW0G83VAW",
        "outputId": "44f6748d-156e-4be2-d00d-5239720d2144"
      },
      "outputs": [
        {
          "name": "stdout",
          "output_type": "stream",
          "text": [
            "1.5714285714285714\n",
            "4\n"
          ]
        }
      ],
      "source": [
        "sk1 = 11\n",
        "sk2 = 7\n",
        "\n",
        "print(sk1 / sk2)\n",
        "print(sk1 % sk2)"
      ]
    },
    {
      "cell_type": "code",
      "execution_count": null,
      "metadata": {
        "id": "MrT3dDgz3VAW",
        "outputId": "9f7a7f53-61c1-4482-ebfe-ac552a46a189"
      },
      "outputs": [
        {
          "name": "stdout",
          "output_type": "stream",
          "text": [
            "5\n",
            "7\n",
            "19\n",
            "24\n"
          ]
        }
      ],
      "source": [
        "a = 5\n",
        "b = 7\n",
        "\n",
        "c = a + b * 2\n",
        "d = a + c\n",
        "\n",
        "print(a)\n",
        "print(b)\n",
        "print(c)\n",
        "print(d)"
      ]
    },
    {
      "cell_type": "code",
      "execution_count": null,
      "metadata": {
        "id": "CV-pxIjz3VAX",
        "outputId": "e9115d75-aa0d-4df4-f9cf-690161a903d7"
      },
      "outputs": [
        {
          "name": "stdout",
          "output_type": "stream",
          "text": [
            "15\n",
            "1\n",
            "3\n",
            "0\n",
            "5\n"
          ]
        }
      ],
      "source": [
        "skaicius = 15\n",
        "print(skaicius)\n",
        "\n",
        "skaicius = 1\n",
        "print(skaicius)\n",
        "\n",
        "skaicius = skaicius + 2\n",
        "print(skaicius)\n",
        "\n",
        "skaicius = 0\n",
        "print(skaicius)\n",
        "\n",
        "skaicius += 5\n",
        "print(skaicius)"
      ]
    },
    {
      "cell_type": "code",
      "execution_count": null,
      "metadata": {
        "id": "83HRipS23VAX",
        "outputId": "da723726-0f85-458f-8671-f5e127a6aa39"
      },
      "outputs": [
        {
          "name": "stdout",
          "output_type": "stream",
          "text": [
            "5\n",
            "2\n",
            "15\n"
          ]
        }
      ],
      "source": [
        "pirmas = 5\n",
        "antras = 2\n",
        "\n",
        "print(pirmas)\n",
        "print(antras)\n",
        "\n",
        "pirmas += 5 * antras\n",
        "\n",
        "print(pirmas)"
      ]
    },
    {
      "cell_type": "markdown",
      "metadata": {
        "id": "SzDBjd_LdNgD"
      },
      "source": [
        "# Užduotys"
      ]
    },
    {
      "cell_type": "markdown",
      "metadata": {
        "id": "hcO7u0vidQzN"
      },
      "source": [
        "## Užduotis 1"
      ]
    },
    {
      "cell_type": "markdown",
      "metadata": {
        "id": "FloWp3HidVWh"
      },
      "source": [
        "Duotas pradinis kodas. Pakeiskite `?` taip, kad rezultatas būtų `125`."
      ]
    },
    {
      "cell_type": "code",
      "execution_count": null,
      "metadata": {
        "colab": {
          "base_uri": "https://localhost:8080/"
        },
        "id": "vdSiSWtJdtLu",
        "outputId": "25a369d4-bd9a-4ced-ebea-f15920a6e6d6"
      },
      "outputs": [
        {
          "name": "stdout",
          "output_type": "stream",
          "text": [
            "125\n"
          ]
        }
      ],
      "source": [
        "rezultatas = 5\n",
        "rezultatas ?= 2\n",
        "rezultatas ?= 5\n",
        "rezultatas ?= 3\n",
        "print(rezultatas)"
      ]
    },
    {
      "cell_type": "markdown",
      "metadata": {
        "id": "i0AliX2c3VAY"
      },
      "source": [
        "## Užduotis 2\n",
        "\n",
        "Susikurkite du kintamuosius skaičiams saugoti. Į juos įrašykite norimus skaičius. Susikurkite trečiąjį kintamąjį, kurio reikšmė būtų pirmų dviejų kintamųjų suma. Visus kintamuosius išveskite."
      ]
    },
    {
      "cell_type": "code",
      "execution_count": null,
      "metadata": {
        "id": "kLJRuQaF3VAY"
      },
      "outputs": [],
      "source": [
        "# Kodą rašykite čia..."
      ]
    },
    {
      "cell_type": "markdown",
      "metadata": {
        "id": "zQB6Wj9R3VAY"
      },
      "source": [
        "## Užduotis 3\n",
        "\n",
        "Susikurkite tris kintamuosius skaičiams saugoti. Į juos įrašykite norimus skaičius. Raskite šių skaičių suma, skirtumą, sandaugą ir dalmenį. Atsakymus išveskite kartu su atliekamu veiksmu (pvz 8 + 2 + 4 = 14)."
      ]
    },
    {
      "cell_type": "code",
      "execution_count": null,
      "metadata": {
        "id": "qlc07t1d3VAZ"
      },
      "outputs": [],
      "source": [
        "# Kodą rašykite čia..."
      ]
    },
    {
      "cell_type": "markdown",
      "metadata": {
        "id": "MgLP3TY83VAZ"
      },
      "source": [
        "## Užduotis 4\n",
        "\n",
        "Susikurkite du kintamuosius skaičiams saugoti. Į juos įrašykite norimus skaičius. Pirmąjį kintamąjį padidinkite 5-iais. Antrajį padidinkite 2 kartus. Išveskite visus atsakymus (pradines reikšmes ir pakeistas reikšmes)."
      ]
    },
    {
      "cell_type": "code",
      "execution_count": null,
      "metadata": {
        "id": "hb3Gs3p-3VAZ"
      },
      "outputs": [],
      "source": [
        "# Kodą rašykite čia..."
      ]
    }
  ],
  "metadata": {
    "colab": {
      "provenance": []
    },
    "kernelspec": {
      "display_name": "Python 3",
      "language": "python",
      "name": "python3"
    },
    "language_info": {
      "codemirror_mode": {
        "name": "ipython",
        "version": 3
      },
      "file_extension": ".py",
      "mimetype": "text/x-python",
      "name": "python",
      "nbconvert_exporter": "python",
      "pygments_lexer": "ipython3",
      "version": "3.7.9"
    },
    "vscode": {
      "interpreter": {
        "hash": "aa11ca274996316222ef16f35c5f6dbeb467b694c0b2154cdf34dcf9271d5fd0"
      }
    }
  },
  "nbformat": 4,
  "nbformat_minor": 0
}
