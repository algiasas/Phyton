{
  "nbformat": 4,
  "nbformat_minor": 0,
  "metadata": {
    "colab": {
      "provenance": [],
      "authorship_tag": "ABX9TyP4bQxWlqwcjZgS4HI8Ovs0",
      "include_colab_link": true
    },
    "kernelspec": {
      "name": "python3",
      "display_name": "Python 3"
    },
    "language_info": {
      "name": "python"
    }
  },
  "cells": [
    {
      "cell_type": "markdown",
      "metadata": {
        "id": "view-in-github",
        "colab_type": "text"
      },
      "source": [
        "<a href=\"https://colab.research.google.com/github/algiasas/Phyton/blob/main/3.%20Skai%C4%8Diai%20ir%20matematika/Tiesiniai_algoritmai_(u%C5%BEduotys).ipynb\" target=\"_parent\"><img src=\"https://colab.research.google.com/assets/colab-badge.svg\" alt=\"Open In Colab\"/></a>"
      ]
    },
    {
      "cell_type": "markdown",
      "source": [
        "# **Tiesiniai algoritmai (užduočių atlikimas)**"
      ],
      "metadata": {
        "id": "QYo0fagp8_-D"
      }
    },
    {
      "cell_type": "markdown",
      "source": [
        "**Atlikite žemiau pateiktas užduotis.**"
      ],
      "metadata": {
        "id": "JbIj74tL9MvD"
      }
    },
    {
      "cell_type": "markdown",
      "source": [
        "1. Laivynas iš **k** laivų, kurių kiekvienas plukdė po **n** maišų prieskonių, pakliuvo į audrą, kurioje **m** laivų\n",
        "nuskendo, o kiti sėkmingai pasiekė kelionės tikslą. Kiek maišų prieskonių pavyko parvežti?\n",
        "\n",
        "**Pasitikrinkite. Kai k = 15, n = 8000, m = 3, tai pavyko parvežti 96000 maišų prieskonių.**"
      ],
      "metadata": {
        "id": "yw3Fae9h9RTs"
      }
    },
    {
      "cell_type": "code",
      "execution_count": null,
      "metadata": {
        "id": "B8qohiDt84Ua"
      },
      "outputs": [],
      "source": []
    },
    {
      "cell_type": "markdown",
      "source": [
        " 2. Laikrodis rodo **x** valandų ir **y** minučių. Parašykite programą, kuri apskaičiuotų, kiek minučių **min** ir kiek sekundžių **s** prabėgo nuo vidurnakčio.\n",
        "\n",
        "**Pasitikrinkite. Įvedę x = 3 ir y = 5, turėtumėte gauti: min = 185, s = 11100.**"
      ],
      "metadata": {
        "id": "xFNmDzY6-HYY"
      }
    },
    {
      "cell_type": "code",
      "source": [],
      "metadata": {
        "id": "NxhjQuqk_P61"
      },
      "execution_count": null,
      "outputs": []
    },
    {
      "cell_type": "markdown",
      "source": [
        "3. Vienas centimetras metalinio strypo sveria **x** gramų. Kiek kilogramų ir gramų sveria **m** metrų ir **c**\n",
        "centimetrų tokio strypo?\n",
        "\n",
        "**Pasitikrinkite. Kai x = 3, n = 123, c = 60, tai turi būti išvesta 37 kg ir 80 g.**\n"
      ],
      "metadata": {
        "id": "A_6i_xa2ACbR"
      }
    },
    {
      "cell_type": "code",
      "source": [],
      "metadata": {
        "id": "EJirrg31AxZD"
      },
      "execution_count": null,
      "outputs": []
    },
    {
      "cell_type": "markdown",
      "source": [
        "4. Lėktuvas, kurio ilgis **x** metrų, rieda pakilimo taku, kurio plotis lygus trims lėktuvo ilgiams, o ilgis - **y** kartų didesnis už plotį. Koks pakilimo tako plotas ir koks jį juosiančios tvoros ilgis?\n",
        "\n",
        "**Pasitikrinkite. Kai x = 20, y = 3, tai plotas = 10800, o ilgis = 480.**\n"
      ],
      "metadata": {
        "id": "qoRzWNAhBjZv"
      }
    },
    {
      "cell_type": "code",
      "source": [],
      "metadata": {
        "id": "h8-lO2KlCXQq"
      },
      "execution_count": null,
      "outputs": []
    },
    {
      "cell_type": "markdown",
      "source": [
        "5. Taupyklėje guli **n1** vieno cento vertės monetų, **n2** - dviejų centų, **n5** - penkių centų ir **n1O** - dešimties\n",
        "centų vertės monetų. Kokia suma guli taupyklėje?\n",
        "\n",
        "**Pasitikrinkite. Kai nl = 3, n2 = 8, n5 = 6, n10 = 10, tai taupyklėje yra 149 ct.**"
      ],
      "metadata": {
        "id": "Aen268m1CX-Z"
      }
    },
    {
      "cell_type": "code",
      "source": [],
      "metadata": {
        "id": "25cmav1ODFDm"
      },
      "execution_count": null,
      "outputs": []
    },
    {
      "cell_type": "markdown",
      "source": [
        "6. Akvariumo žuvytė kainuoja **x** Eur, o sraigė - **y** Eur. Kokią sumą reikia sumokėti už **n** sraigių, dukart tiek žuvyčių, dar dvi žuvytes ir dar vieną sraigę?\n",
        "\n",
        "**Pasitikrinkite. Kai x = 2, y = 3, n =10, tai visas pirkinys kainuos 77 Eur.**\n"
      ],
      "metadata": {
        "id": "hkVWF-G_D205"
      }
    },
    {
      "cell_type": "code",
      "source": [],
      "metadata": {
        "id": "4va4RRFcEsHC"
      },
      "execution_count": null,
      "outputs": []
    }
  ]
}
