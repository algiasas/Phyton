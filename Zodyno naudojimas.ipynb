{
  "nbformat": 4,
  "nbformat_minor": 0,
  "metadata": {
    "colab": {
      "provenance": []
    },
    "kernelspec": {
      "name": "python3",
      "display_name": "Python 3"
    },
    "language_info": {
      "name": "python"
    }
  },
  "cells": [
    {
      "cell_type": "markdown",
      "source": [
        "# Žodynų (Dictionary) taikymas\n",
        "Į žodyno struktūrą galima žiūrėti ne tik kaip į klasikinį žodyną, kur vieniems žodžiams atitinka kiti žodžiai.<br>\n",
        "Jei žodyne saugosime poras *(žodis, skaičius)*, tai galėsime skaičiuoti žodžių pasikartojimą."
      ],
      "metadata": {
        "id": "LOQAlmgYUYUY"
      }
    },
    {
      "cell_type": "code",
      "execution_count": 3,
      "metadata": {
        "colab": {
          "base_uri": "https://localhost:8080/"
        },
        "id": "F1-1tInJETBr",
        "outputId": "1615200c-fb0a-4db1-fbe0-557bed4e5d49"
      },
      "outputs": [
        {
          "output_type": "stream",
          "name": "stdout",
          "text": [
            "{'Jonas': 2, 'Rimas': 3, 'Algis': 1}\n",
            "Jonas 2\n",
            "Rimas 3\n",
            "Algis 1\n",
            "{'Simas': 1, 'Rimas': 3, 'Algis': 2, 'Jonas': 3}\n",
            "Simas 1\n",
            "Rimas 3\n",
            "Algis 2\n",
            "Jonas 3\n"
          ]
        }
      ],
      "source": [
        "txt1 = \"Jonas Rimas Algis Rimas Jonas Rimas\"\n",
        "txt2 = \"Simas Rimas Algis Jonas Rimas Jonas Rimas Algis Jonas\"\n",
        "# pora key = vardas, value = int skaitliukas\n",
        "def žodžių_kiekiai(tekstas):\n",
        "  vardai = {}\n",
        "  for v in tekstas.split():\n",
        "    if v not in vardai:\n",
        "      vardai[v] = 0\n",
        "    vardai[v] += 1\n",
        "  print(vardai)\n",
        "  for vardas, kiekis in vardai.items():\n",
        "    print (vardas, kiekis)\n",
        "\n",
        "žodžių_kiekiai(txt1)\n",
        "žodžių_kiekiai(txt2)"
      ]
    },
    {
      "cell_type": "markdown",
      "source": [
        "Tai yra dažnai pasitaikantis fragmentas, todėl yra sukurta speciali struktūra **defaultdict**,<br>\n",
        "kuriai naudojant **lambda** yra nurodoma funkcija - ką daryti, kai rakto nėra."
      ],
      "metadata": {
        "id": "Gs0AMYT1WCiV"
      }
    },
    {
      "cell_type": "code",
      "source": [
        "from collections import defaultdict\n",
        "def žodžių_kiekiai2(tekstas):\n",
        "    vardai = defaultdict(lambda: 0) # vietoj 5,6 eiluciu\n",
        "    for v in tekstas.split():\n",
        "        # if v not in vardai:\n",
        "        #     vardai[v] = 0\n",
        "        vardai[v] += 1\n",
        "    print(vardai.items())\n",
        "žodžių_kiekiai2(txt1)\n",
        "žodžių_kiekiai2(txt2)"
      ],
      "metadata": {
        "colab": {
          "base_uri": "https://localhost:8080/"
        },
        "id": "Pt4o4B8fOeAp",
        "outputId": "fbf0f44f-33c9-4a1d-e7a0-68ef04626b44"
      },
      "execution_count": 4,
      "outputs": [
        {
          "output_type": "stream",
          "name": "stdout",
          "text": [
            "dict_items([('Jonas', 2), ('Rimas', 3), ('Algis', 1)])\n",
            "dict_items([('Simas', 1), ('Rimas', 3), ('Algis', 2), ('Jonas', 3)])\n"
          ]
        }
      ]
    },
    {
      "cell_type": "markdown",
      "source": [
        "# Žodynas su sąrašais\n",
        "Dažnai reikia skaičiuoti ne tik elementarų pasikartojimą, bet sumuoti įvairias charakteristikas, ieškoti didžiausių ar mažiausių reikšmių. Tada žodyno poroje raktui atitinka sąrašas su reikiamomis charakteristikomis."
      ],
      "metadata": {
        "id": "faCzjBFCUUb3"
      }
    },
    {
      "cell_type": "code",
      "source": [
        "varžybos1 = \"\"\"# BAUDŲ METIMŲ VARŽYBOS\n",
        "# Žaidėjas gali mesti kelis kartus\n",
        "# dalyvio rezultatus kaupsime sąraše\n",
        "Romas  4 \n",
        "Ignas  5\n",
        "Justė  8  geras rezultatas - daugiau nemeta   \n",
        "Darius 10\n",
        "Ignas  4  antras Igno bandymas\n",
        "Romas  7  antras Romo bandymas\n",
        "Ignas  3  trečias Igno bandymas\n",
        "\"\"\".splitlines()"
      ],
      "metadata": {
        "id": "A-rKAB88YNnj"
      },
      "execution_count": 5,
      "outputs": []
    },
    {
      "cell_type": "markdown",
      "source": [
        "Pradžioje pateiksime sprendimą be žodyno duomenų struktūros, tiesiog formuodami paprastą sąrašą."
      ],
      "metadata": {
        "id": "_q9FZnjTnJ0a"
      }
    },
    {
      "cell_type": "code",
      "source": [
        "# formuosime (vardas, taškai) -> (ident, t_sąrašas)\n",
        "def taškų_varžybos(duomenys):\n",
        "  dalyviai = [] # poros (ident, t_sąrašas)   \n",
        "  for eil in duomenys:\n",
        "    if eil[0]=='#': continue\n",
        "    vardas, taškai = eil.split()[:2] #nuo pradzios imami du elementai, kiti nesvarbu\n",
        "    # ieškome ar vardas jau buvo\n",
        "    for ident, t_sąrašas in dalyviai:\n",
        "      if ident == vardas: break\n",
        "    else: #else priklauso for, o ne IF\n",
        "      t_sąrašas = []\n",
        "      dalyviai.append((vardas, t_sąrašas))\n",
        "    t_sąrašas.append(int(taškai))\n",
        "  return dalyviai\n",
        "\n",
        "dalyviai1 = taškų_varžybos(varžybos1)\n",
        "print(dalyviai1)"
      ],
      "metadata": {
        "colab": {
          "base_uri": "https://localhost:8080/"
        },
        "id": "7_mDB7QxYmCk",
        "outputId": "4046cc74-3322-4802-ebaf-8744e2f33565"
      },
      "execution_count": 6,
      "outputs": [
        {
          "output_type": "stream",
          "name": "stdout",
          "text": [
            "[('Romas', [4, 7]), ('Ignas', [5, 4, 3]), ('Justė', [8]), ('Darius', [10])]\n"
          ]
        }
      ]
    },
    {
      "cell_type": "markdown",
      "source": [
        "Sprendimas su žodyno duomenų struktūra"
      ],
      "metadata": {
        "id": "AII1BFlLnm46"
      }
    },
    {
      "cell_type": "code",
      "source": [
        "def taškų_varžybos2(duomenys):\n",
        "  dalyviai = defaultdict(lambda: []) \n",
        "  for eil in duomenys:\n",
        "    if eil[0]=='#': continue\n",
        "    vardas, taškai = eil.split()[:2]\n",
        "    dalyviai[vardas].append(int(taškai))\n",
        "  return list(dalyviai.items())\n",
        "dalyviai2 = taškų_varžybos2(varžybos1)\n",
        "print(dalyviai2)"
      ],
      "metadata": {
        "colab": {
          "base_uri": "https://localhost:8080/"
        },
        "id": "xHrSBgx6hVkx",
        "outputId": "005cc166-1847-45b7-fb87-c3d6cbb23313"
      },
      "execution_count": 8,
      "outputs": [
        {
          "output_type": "stream",
          "name": "stdout",
          "text": [
            "[('Romas', [4, 7]), ('Ignas', [5, 4, 3]), ('Justė', [8]), ('Darius', [10])]\n"
          ]
        }
      ]
    },
    {
      "cell_type": "markdown",
      "source": [
        "Sudarome tvarkingo spausdinimo funciją ir spausdiname įvairius rezultatus"
      ],
      "metadata": {
        "id": "fJLc9P_NpFeX"
      }
    },
    {
      "cell_type": "code",
      "source": [
        "def spausdinti(rez):\n",
        "    print(\"| vardas   | sum | max |\")\n",
        "    print(\"------------------------\")\n",
        "    for vardas, suma, max_t in rez:\n",
        "        print(f\"| {vardas:8} | {suma:3} | {max_t:3} |\")\n",
        "    print(\"------------------------\")\n",
        "        \n",
        "rezultatai = [(v, sum(tšk), max(tšk)) for v, tšk in dalyviai2]\n",
        "print(\"------------------------\")\n",
        "spausdinti(sorted(rezultatai))\n",
        "spausdinti(sorted(rezultatai, key = lambda e: -e[1]))\n",
        "spausdinti(sorted(rezultatai, key = lambda e: -e[2]))"
      ],
      "metadata": {
        "id": "plIAeCjHjcc3",
        "outputId": "ce523751-421d-49c3-a300-5b3663e1c0fe",
        "colab": {
          "base_uri": "https://localhost:8080/"
        }
      },
      "execution_count": 9,
      "outputs": [
        {
          "output_type": "stream",
          "name": "stdout",
          "text": [
            "------------------------\n",
            "| vardas   | sum | max |\n",
            "------------------------\n",
            "| Darius   |  10 |  10 |\n",
            "| Ignas    |  12 |   5 |\n",
            "| Justė    |   8 |   8 |\n",
            "| Romas    |  11 |   7 |\n",
            "------------------------\n",
            "| vardas   | sum | max |\n",
            "------------------------\n",
            "| Ignas    |  12 |   5 |\n",
            "| Romas    |  11 |   7 |\n",
            "| Darius   |  10 |  10 |\n",
            "| Justė    |   8 |   8 |\n",
            "------------------------\n",
            "| vardas   | sum | max |\n",
            "------------------------\n",
            "| Darius   |  10 |  10 |\n",
            "| Justė    |   8 |   8 |\n",
            "| Romas    |  11 |   7 |\n",
            "| Ignas    |  12 |   5 |\n",
            "------------------------\n"
          ]
        }
      ]
    },
    {
      "cell_type": "markdown",
      "source": [
        "Visą sprendimą apibendriname su funkcija skaičiuoti(duomenys)"
      ],
      "metadata": {
        "id": "EkCT3VPwn43_"
      }
    },
    {
      "cell_type": "code",
      "source": [
        "def skaičiuoti(duomenys):    # funkcijos vardas gali buti ir main\n",
        "  dalyviai = taškų_varžybos2(duomenys)\n",
        "  rezultatai = [(v, sum(t), max(t)) for v, t in dalyviai]\n",
        "  print(\"------------------------\")\n",
        "  spausdinti(sorted(rezultatai))\n",
        "  spausdinti(sorted(rezultatai, key = lambda e: -e[1]))\n",
        "  spausdinti(sorted(rezultatai, key = lambda e: -e[2]))\n",
        "skaičiuoti(varžybos1)"
      ],
      "metadata": {
        "id": "rJLWV2xJoIas",
        "outputId": "ee242ff8-0faa-4433-f9eb-7b5e15c423f6",
        "colab": {
          "base_uri": "https://localhost:8080/"
        }
      },
      "execution_count": 12,
      "outputs": [
        {
          "output_type": "stream",
          "name": "stdout",
          "text": [
            "------------------------\n",
            "| vardas   | sum | max |\n",
            "------------------------\n",
            "| Darius   |  10 |  10 |\n",
            "| Ignas    |  12 |   5 |\n",
            "| Justė    |   8 |   8 |\n",
            "| Romas    |  11 |   7 |\n",
            "------------------------\n",
            "| vardas   | sum | max |\n",
            "------------------------\n",
            "| Ignas    |  12 |   5 |\n",
            "| Romas    |  11 |   7 |\n",
            "| Darius   |  10 |  10 |\n",
            "| Justė    |   8 |   8 |\n",
            "------------------------\n",
            "| vardas   | sum | max |\n",
            "------------------------\n",
            "| Darius   |  10 |  10 |\n",
            "| Justė    |   8 |   8 |\n",
            "| Romas    |  11 |   7 |\n",
            "| Ignas    |  12 |   5 |\n",
            "------------------------\n"
          ]
        }
      ]
    },
    {
      "cell_type": "code",
      "source": [
        "with open('sample_data/duomenys.txt', ) as d:\n",
        "  skaičiuoti(d)"
      ],
      "metadata": {
        "colab": {
          "base_uri": "https://localhost:8080/"
        },
        "id": "Uiyh4Y8JpglR",
        "outputId": "19b89218-5b1c-40fa-bb39-409e658887ce"
      },
      "execution_count": 14,
      "outputs": [
        {
          "output_type": "stream",
          "name": "stdout",
          "text": [
            "------------------------\n",
            "| vardas   | sum | max |\n",
            "------------------------\n",
            "| Darius   |  10 |  10 |\n",
            "| Edvinas  |   8 |   8 |\n",
            "| Ignas    |  12 |   5 |\n",
            "| Justas   |  10 |  10 |\n",
            "| Justė    |   8 |   8 |\n",
            "| Romas    |  11 |   7 |\n",
            "------------------------\n",
            "| vardas   | sum | max |\n",
            "------------------------\n",
            "| Ignas    |  12 |   5 |\n",
            "| Romas    |  11 |   7 |\n",
            "| Darius   |  10 |  10 |\n",
            "| Justas   |  10 |  10 |\n",
            "| Justė    |   8 |   8 |\n",
            "| Edvinas  |   8 |   8 |\n",
            "------------------------\n",
            "| vardas   | sum | max |\n",
            "------------------------\n",
            "| Darius   |  10 |  10 |\n",
            "| Justas   |  10 |  10 |\n",
            "| Justė    |   8 |   8 |\n",
            "| Edvinas  |   8 |   8 |\n",
            "| Romas    |  11 |   7 |\n",
            "| Ignas    |  12 |   5 |\n",
            "------------------------\n"
          ]
        }
      ]
    },
    {
      "cell_type": "markdown",
      "source": [
        "# Užduotys savarankiškam darbui\n",
        "Paruoškite užduotys su Jums įdomia ir tinkančia duomenų tematika, kuriose reikėtų grupuoti duomenis ir skaičiuoti tų grupių įvairias charakteristikas. Būtų labai gerai, jei tas užduotis išspręstumėte, naudodamiesi aukščiau pateiktu pavyzdžiu."
      ],
      "metadata": {
        "id": "edhdYTFCu0cR"
      }
    }
  ]
}