{
  "nbformat": 4,
  "nbformat_minor": 0,
  "metadata": {
    "colab": {
      "provenance": [],
      "authorship_tag": "ABX9TyOLEcholCpzsQkPzoMD1S3e",
      "include_colab_link": true
    },
    "kernelspec": {
      "name": "python3",
      "display_name": "Python 3"
    },
    "language_info": {
      "name": "python"
    }
  },
  "cells": [
    {
      "cell_type": "markdown",
      "metadata": {
        "id": "view-in-github",
        "colab_type": "text"
      },
      "source": [
        "<a href=\"https://colab.research.google.com/github/algiasas/Phyton/blob/main/untitled3.ipynb\" target=\"_parent\"><img src=\"https://colab.research.google.com/assets/colab-badge.svg\" alt=\"Open In Colab\"/></a>"
      ]
    },
    {
      "cell_type": "markdown",
      "source": [],
      "metadata": {
        "id": "I5FXS3ycL0Iv"
      }
    },
    {
      "cell_type": "markdown",
      "source": [
        "# Žodyno naudojimas"
      ],
      "metadata": {
        "id": "Bt5a011hL4vv"
      }
    },
    {
      "cell_type": "markdown",
      "source": [
        "Duomenų faile duom.txt surašyti mokinių duomenys: vardas ir pažymiai. Parašykite programą, kuri išvestų į ekraną mokinių vardus bei apskaičiuotus jų pažymių vidurkius."
      ],
      "metadata": {
        "id": "R820dq_hL-70"
      }
    },
    {
      "cell_type": "code",
      "execution_count": null,
      "metadata": {
        "colab": {
          "base_uri": "https://localhost:8080/"
        },
        "id": "Du9l5aB-Lpw9",
        "outputId": "b84be316-d53e-4a41-8bb2-c78071a8b04b"
      },
      "outputs": [
        {
          "output_type": "stream",
          "name": "stdout",
          "text": [
            " mokinys (-e) Jonas turi vidurki 3.67\n",
            " mokinys (-e) Petras turi vidurki 2.50\n",
            " mokinys (-e) Morta turi vidurki 2.50\n",
            " mokinys (-e) Agota turi vidurki 5.00\n"
          ]
        }
      ],
      "source": [
        "with open (\"duom.txt\", 'r') as duomenys:\n",
        "    eilutes = duomenys.readlines()\n",
        "\n",
        "mokiniai = []\n",
        "for eilute in eilutes:\n",
        "    atskirai = eilute.strip().split()\n",
        "    vardas = atskirai[0]\n",
        "    pazymiai = list(map(int,atskirai[1:]))\n",
        "    vidurkis = sum(pazymiai)/len(pazymiai)\n",
        "    mokiniai.append({\n",
        "        'vardas': vardas,\n",
        "        'pazymiai':pazymiai,\n",
        "        'vidurkis': vidurkis\n",
        "    })\n",
        "\n",
        "for mokinys in mokiniai:\n",
        "    print(f\" mokinys (-e) {mokinys['vardas']} turi vidurki {mokinys['vidurkis']:.2f}\")"
      ]
    },
    {
      "cell_type": "markdown",
      "source": [
        "**Užduotis**"
      ],
      "metadata": {
        "id": "qfTfhkpkM5OG"
      }
    },
    {
      "cell_type": "markdown",
      "source": [
        "Duomenų faile duom.txt surašyti mokinių (merginų ir vaikinų) duomenys: vardas, ūgis (vaikinų ūgis neigiamas skaičius), amžius.\n",
        "Parašykite programą, kuri apskaičiuotų atskirai merginų ir vaikinų ūgių bei amžių vidurkius. Į ekraną turėtų būti išvedamas atskiras merginų sąrašas, po jo - vidutinis merginų ūgis bei vidutinis amžius. Analogiškai išvedama ir informacija apie vaikinus. Galiausiai išvedamas bendras visų mokinių vidurkis."
      ],
      "metadata": {
        "id": "0oC7C-zEM8nt"
      }
    }
  ]
}