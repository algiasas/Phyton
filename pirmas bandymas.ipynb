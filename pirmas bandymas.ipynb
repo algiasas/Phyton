{
 "cells": [
  {
   "cell_type": "code",
   "execution_count": 1,
   "id": "9cc2b7a4-48a7-47af-8046-2c8008fbd2a0",
   "metadata": {},
   "outputs": [
    {
     "name": "stdout",
     "output_type": "stream",
     "text": [
      "labas\n"
     ]
    }
   ],
   "source": [
    "print('labas')"
   ]
  },
  {
   "cell_type": "markdown",
   "id": "21123455-46f7-4482-840f-608edbf7dbb2",
   "metadata": {},
   "source": [
    "čia bandau parašyti tekstą ir pabandyti įdėti kodą"
   ]
  },
  {
   "cell_type": "code",
   "execution_count": 2,
   "id": "7c88d848-9e99-48e2-91db-ee497d996354",
   "metadata": {},
   "outputs": [
    {
     "name": "stdout",
     "output_type": "stream",
     "text": [
      "labas\n",
      "vakaras.\n",
      "šiandien yra vasrio 8 d.\n",
      "\n",
      "**********\n"
     ]
    }
   ],
   "source": [
    "print('labas\\nvakaras.\\nšiandien yra vasrio 8 d.')\n",
    "print()\n",
    "print('*' * 10)"
   ]
  },
  {
   "cell_type": "markdown",
   "id": "78680358-ff68-42f9-98ee-7edc24216033",
   "metadata": {},
   "source": [
    "dar vienas tekstas :)"
   ]
  },
  {
   "cell_type": "code",
   "execution_count": 3,
   "id": "f2a37422-e78d-4dc5-a544-3b7d29697a32",
   "metadata": {},
   "outputs": [
    {
     "name": "stdout",
     "output_type": "stream",
     "text": [
      "labas\n",
      "vakaras\n",
      "šiandien yra vasario 8 d.\n",
      "\n"
     ]
    }
   ],
   "source": [
    "print('''labas\n",
    "vakaras\n",
    "šiandien yra vasario 8 d.\n",
    "''')"
   ]
  },
  {
   "cell_type": "code",
   "execution_count": null,
   "id": "8a5ec0c6-8e18-460a-809a-460b7c96e68c",
   "metadata": {},
   "outputs": [],
   "source": []
  }
 ],
 "metadata": {
  "kernelspec": {
   "display_name": "anaconda-2022.05-py39",
   "language": "python",
   "name": "conda-env-anaconda-2022.05-py39-py"
  },
  "language_info": {
   "codemirror_mode": {
    "name": "ipython",
    "version": 3
   },
   "file_extension": ".py",
   "mimetype": "text/x-python",
   "name": "python",
   "nbconvert_exporter": "python",
   "pygments_lexer": "ipython3",
   "version": "3.9.12"
  }
 },
 "nbformat": 4,
 "nbformat_minor": 5
}
