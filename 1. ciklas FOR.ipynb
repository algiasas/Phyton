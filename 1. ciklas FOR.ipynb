{
  "cells": [
    {
      "cell_type": "markdown",
      "metadata": {
        "id": "view-in-github",
        "colab_type": "text"
      },
      "source": [
        "<a href=\"https://colab.research.google.com/github/algiasas/Phyton/blob/main/1.%20ciklas%20FOR.ipynb\" target=\"_parent\"><img src=\"https://colab.research.google.com/assets/colab-badge.svg\" alt=\"Open In Colab\"/></a>"
      ]
    },
    {
      "cell_type": "markdown",
      "metadata": {
        "id": "KygwkhaDRCeI"
      },
      "source": [
        "[![Open In Colab](https://colab.research.google.com/assets/colab-badge.svg)](https://colab.research.google.com/github/blaztoma/pitono-pamokos/blob/main/pamokos/12%20-%20Ciklai/12-01%20-%20for%20ciklas%20(1%20dalis).ipynb)"
      ]
    },
    {
      "cell_type": "markdown",
      "metadata": {
        "id": "jw2zxv_vRCeM"
      },
      "source": [
        "# Ciklai\n",
        "\n",
        "Ciklai naudojami norint kartoti tuos pačius veiksmus.\n",
        "Yra du ciklų tipai:\n",
        "  - `for`\n",
        "  - `while`\n",
        "\n",
        "Kiekvienas ciklas pasižymi tam tikromis savybėmis, todėl kiekvienu atveju reikia patiems nuspręsti, kuris ciklas tuo konkrečiu atveju yra tinkamesnis naudoti."
      ]
    },
    {
      "cell_type": "markdown",
      "metadata": {
        "id": "KU-pNb_ERCeN"
      },
      "source": [
        "# `for` ciklas (1 dalis)"
      ]
    },
    {
      "cell_type": "markdown",
      "metadata": {
        "id": "aYv7nJ09RCeN"
      },
      "source": []
    },
    {
      "cell_type": "markdown",
      "metadata": {
        "id": "UqFIe-uKRCeO"
      },
      "source": [
        "## Apie `for` ciklą\n",
        "\n",
        "Šis ciklas dažniausiai naudojamas kai yra žinoma, kiek kartų jis turi būti vykdomas, arba kai yra iteruojamas duomenų rinkinys (skaičių sąrašas, elementų rinkinys, …)."
      ]
    },
    {
      "cell_type": "markdown",
      "metadata": {
        "id": "BO7l5qNaRCeO"
      },
      "source": [
        "## Sintaksė\n",
        "\n",
        "```\n",
        "for elementas in iteruojamas_objektas:\n",
        "\t# vykdomas kodas\n",
        "```\n",
        "\n",
        "- **iteruojamas_objektas** - duomenų rinkinys kurį reikia apdoroti.\n",
        "- **elementas** - vienas elementas, viena dalis, iš `iteruojamas_objektas`."
      ]
    },
    {
      "cell_type": "markdown",
      "metadata": {
        "id": "inFDW4nQRCeP"
      },
      "source": [
        "**iteruojamas_objektas** gali būti:\n",
        "\n",
        "```\n",
        "[40, 32, 73]\n",
        "\"labas\"\n",
        "range(1, 10)\n",
        "...\n",
        "```"
      ]
    },
    {
      "cell_type": "markdown",
      "metadata": {
        "id": "GkUMab_bRCeP"
      },
      "source": [
        "## Pavyzdžiai"
      ]
    },
    {
      "cell_type": "markdown",
      "metadata": {
        "id": "mSvyqPRYRCeP"
      },
      "source": [
        "Kodas, kuris išveda 5 skaičius nenaudojant ciklo."
      ]
    },
    {
      "cell_type": "code",
      "execution_count": null,
      "metadata": {
        "id": "bxFfYcbCRCeP"
      },
      "outputs": [],
      "source": [
        "print(0)\n",
        "print(1)\n",
        "print(2)\n",
        "print(3)\n",
        "print(4)"
      ]
    },
    {
      "cell_type": "markdown",
      "metadata": {
        "id": "IbOPOPGwRCeQ"
      },
      "source": [
        "Ciklo pagalba tai galime padaryti trumpiau."
      ]
    },
    {
      "cell_type": "code",
      "execution_count": null,
      "metadata": {
        "id": "3yoqjk18RCeR"
      },
      "outputs": [],
      "source": [
        "for i in range(5):\n",
        "    print(i)"
      ]
    },
    {
      "cell_type": "markdown",
      "metadata": {
        "id": "h0r5MF5QRCeR"
      },
      "source": [
        "Ciklui galime nurodyti konkretų intervalą (nuo 0 iki 5)."
      ]
    },
    {
      "cell_type": "code",
      "execution_count": null,
      "metadata": {
        "id": "8Xj_VH3SRCeR"
      },
      "outputs": [],
      "source": [
        "for i in range(0, 5):\n",
        "    print(i)"
      ]
    },
    {
      "cell_type": "markdown",
      "metadata": {
        "id": "Q0Ub-mefRCeR"
      },
      "source": [
        "Turime galimybę keisti tą intervalą pagal poreikį (nuo 1 iki 6)."
      ]
    },
    {
      "cell_type": "code",
      "execution_count": null,
      "metadata": {
        "id": "w00NezwmRCeR"
      },
      "outputs": [],
      "source": [
        "for i in range(1, 6):\n",
        "    print(i)"
      ]
    },
    {
      "cell_type": "markdown",
      "metadata": {
        "id": "WFo_9I24RCeR"
      },
      "source": [
        "Kai turime tokią ciklo formą, ciklinis kintamasis prasided nuo 0, tačiau ciklo viduje šį kintamąjį galime naudoti pagal poreikį (šiuo atveju bus išvedami skaičiai pradedant nuo 1)."
      ]
    },
    {
      "cell_type": "code",
      "execution_count": null,
      "metadata": {
        "id": "o4LorniBRCeR"
      },
      "outputs": [],
      "source": [
        "for i in range(5):\n",
        "    print(i+1)"
      ]
    },
    {
      "cell_type": "markdown",
      "metadata": {
        "id": "qyRHxXNvRCeS"
      },
      "source": [
        "Ciklo pagalba patogiai galime išvesti ne tik skaičius (taip būtų nenaudojant ciklo)."
      ]
    },
    {
      "cell_type": "code",
      "execution_count": null,
      "metadata": {
        "id": "K2KVRujzRCeS"
      },
      "outputs": [],
      "source": [
        "print('labas')\n",
        "print('labas')\n",
        "print('labas')"
      ]
    },
    {
      "cell_type": "markdown",
      "metadata": {
        "id": "4jHv4Q6YRCeS"
      },
      "source": [
        "Naudojant ciklą, kodas sutrumpėja."
      ]
    },
    {
      "cell_type": "code",
      "execution_count": null,
      "metadata": {
        "id": "T59Tq4h5RCeS"
      },
      "outputs": [],
      "source": [
        "for _ in range(3):\n",
        "    print('labas')"
      ]
    },
    {
      "cell_type": "markdown",
      "metadata": {
        "id": "OTQ9elWoRCeS"
      },
      "source": [
        "Dar vienas pavyzdys su eilutės formatavimu. Nenaudojant ciklo galėtume taip formatuoti eilutes."
      ]
    },
    {
      "cell_type": "code",
      "execution_count": null,
      "metadata": {
        "id": "mGckllm_RCeS"
      },
      "outputs": [],
      "source": [
        "print('eilutė nr. 1')\n",
        "print('eilutė nr. 2')\n",
        "print('eilutė nr. 3')\n",
        "print('eilutė nr. 4')"
      ]
    },
    {
      "cell_type": "markdown",
      "metadata": {
        "id": "v_lif2ZGRCeS"
      },
      "source": [
        "Naudojant ciklą tai galime padaryti paprasčiau."
      ]
    },
    {
      "cell_type": "code",
      "execution_count": null,
      "metadata": {
        "id": "4xxPtKGDRCeS"
      },
      "outputs": [],
      "source": [
        "for i in range(1, 5):\n",
        "    print(f'eilutė nr. {i}')"
      ]
    },
    {
      "cell_type": "markdown",
      "metadata": {
        "id": "XkMNaJm8RCeT"
      },
      "source": [
        "Dar pora pavyzdžių su skaičiais. Skaičių išvedimas intervale [5, 10]."
      ]
    },
    {
      "cell_type": "code",
      "execution_count": null,
      "metadata": {
        "id": "UQa7L9P_RCeT"
      },
      "outputs": [],
      "source": [
        "for sk in range(5, 11):\n",
        "    print(f'skaičius: {sk}')"
      ]
    },
    {
      "cell_type": "markdown",
      "metadata": {
        "id": "4KAmrbgpRCeT"
      },
      "source": [
        "Ir... skaičių išvedimas intervale [5, 15]."
      ]
    },
    {
      "cell_type": "code",
      "execution_count": null,
      "metadata": {
        "id": "RiQfbEqYRCeT"
      },
      "outputs": [],
      "source": [
        "for i in range(5, 16):\n",
        "    print(f'skaičius i = {i}')"
      ]
    },
    {
      "cell_type": "markdown",
      "metadata": {
        "id": "KtzpXlrgRCeT"
      },
      "source": [
        "Pavyzdys, kai išrenkame lyginius intervale [2, 10]."
      ]
    },
    {
      "cell_type": "code",
      "execution_count": null,
      "metadata": {
        "id": "c9xN9II0RCeT"
      },
      "outputs": [],
      "source": [
        "for skaicius in range(2, 11):\n",
        "    if skaicius % 2 == 0:\n",
        "        print(f'skaičius {skaicius} yra lyginis')"
      ]
    },
    {
      "cell_type": "markdown",
      "metadata": {
        "id": "JNPTMmHiRCeT"
      },
      "source": [
        "Išrinkti lyginius galime paprasčiau - nurodydami žingsnį 2."
      ]
    },
    {
      "cell_type": "code",
      "execution_count": null,
      "metadata": {
        "id": "IM_70JcvRCeT"
      },
      "outputs": [],
      "source": [
        "for skaicius in range(2, 11, 2):\n",
        "    print(f'skaičius {skaicius} yra lyginis')"
      ]
    },
    {
      "cell_type": "markdown",
      "metadata": {
        "id": "GJhhMDrrRCeT"
      },
      "source": [
        "Truputį sudėtingesnis išrinkimas, kai atrenkame skaičius, kurie dalinasi iš 2 arba 5."
      ]
    },
    {
      "cell_type": "code",
      "execution_count": null,
      "metadata": {
        "id": "-zpoWaKXRCeU"
      },
      "outputs": [],
      "source": [
        "for sk in range(1, 13):\n",
        "    if sk % 2 == 0 or sk % 5 == 0:\n",
        "        print(f'skaičius {sk} dalinasi iš 2 arba 5')"
      ]
    },
    {
      "cell_type": "markdown",
      "metadata": {
        "id": "DuvroIkZRCeU"
      },
      "source": [
        "Nurodydami rėžius, galime naudoti ne tik skaičius, bet ir kintamuosius."
      ]
    },
    {
      "cell_type": "code",
      "execution_count": null,
      "metadata": {
        "id": "4Q-al_3pRCeU"
      },
      "outputs": [],
      "source": [
        "kiek = 5\n",
        "\n",
        "for i in range(kiek):\n",
        "    print(i)"
      ]
    },
    {
      "cell_type": "markdown",
      "metadata": {
        "id": "LbYDbxi9RCeU"
      },
      "source": [
        "Dar daugiau kintamųjų nurodant rėžius."
      ]
    },
    {
      "cell_type": "code",
      "execution_count": null,
      "metadata": {
        "id": "wodm9g_ERCeY"
      },
      "outputs": [],
      "source": [
        "pradzia = 7\n",
        "pabaiga = 10\n",
        "\n",
        "for i in range(pradzia, pabaiga + 1):\n",
        "    print(f'skaičius {i}')"
      ]
    },
    {
      "cell_type": "markdown",
      "metadata": {
        "id": "74E_UijQRCeY"
      },
      "source": [
        "Kitoks kintamųjų užrašymas ir jų naudojimas cikle."
      ]
    },
    {
      "cell_type": "code",
      "execution_count": null,
      "metadata": {
        "id": "LarEgcJXRCeZ"
      },
      "outputs": [],
      "source": [
        "pradzia, pabaiga = 7, 10\n",
        "\n",
        "for i in range(pradzia, pabaiga + 1):\n",
        "    print(f'skaičius {i}')"
      ]
    },
    {
      "cell_type": "markdown",
      "metadata": {
        "id": "FRzpsGMpRCeZ"
      },
      "source": [
        "Kintamųjų naudojimas cikle."
      ]
    },
    {
      "cell_type": "code",
      "execution_count": null,
      "metadata": {
        "id": "tPDBQjTsRCeZ"
      },
      "outputs": [],
      "source": [
        "vardas = input('Įveskite savo vardą: ')\n",
        "kiek = int( input('Įveskite kiek kartų norite kartoti: ') )\n",
        "\n",
        "for i in range(kiek):\n",
        "    print(vardas)"
      ]
    },
    {
      "cell_type": "markdown",
      "metadata": {
        "id": "XOA9BypeRCeZ"
      },
      "source": [
        "## Užduotys"
      ]
    },
    {
      "cell_type": "markdown",
      "metadata": {
        "id": "B8vcKfePRCeZ"
      },
      "source": [
        "### Užduotis 1\n",
        "\n",
        "Parašyti `for` ciklą, kuris išvestų kiekvieną skaičių pradedant nuo 0 ir baigiant 10 (pvz: `0, 1, 2, 3, 4, 5, 6, 7, 8, 9, 10`)."
      ]
    },
    {
      "cell_type": "code",
      "execution_count": null,
      "metadata": {
        "id": "GPXl9hUYRCeZ"
      },
      "outputs": [],
      "source": [
        "# Kodą rašykite čia...\n"
      ]
    },
    {
      "cell_type": "markdown",
      "metadata": {
        "id": "7kx05owqRCeZ"
      },
      "source": [
        "### Užduotis 2\n",
        "\n",
        "Parašyti `for` ciklą, kuris išvestų kas antrą skaičių pradedant 0 ir baigiant 15 (pvz: `0, 2, 4, 6, 8, 10, 12, 14`)."
      ]
    },
    {
      "cell_type": "code",
      "execution_count": null,
      "metadata": {
        "id": "25BnPNZhRCea"
      },
      "outputs": [],
      "source": [
        "# Kodą rašykite čia...\n"
      ]
    },
    {
      "cell_type": "markdown",
      "metadata": {
        "id": "3AF1b30URCea"
      },
      "source": [
        "### Užduotis 3\n",
        "\n",
        "Parašyti `for` ciklą, kuris išvestų kas trečią skaičių, pradedant 1 ir baigiant 20. Kiekvieną skaičių apskliausti laužtiniais skliaustais. Pvz.: `[1][4][7]`..."
      ]
    },
    {
      "cell_type": "code",
      "execution_count": null,
      "metadata": {
        "id": "IR1zrT_HRCea"
      },
      "outputs": [],
      "source": [
        "# Kodą rašykite čia...\n"
      ]
    },
    {
      "cell_type": "markdown",
      "metadata": {
        "id": "JALc4CIARCea"
      },
      "source": [
        "### Užduotis 4\n",
        "\n",
        "`for` ciklo pagalba penkis kartus išveskite savo vardą."
      ]
    },
    {
      "cell_type": "code",
      "execution_count": null,
      "metadata": {
        "id": "j-c-NpxvRCea"
      },
      "outputs": [],
      "source": [
        "# Kodą rašykite čia...\n"
      ]
    },
    {
      "cell_type": "markdown",
      "metadata": {
        "id": "uRF9Y0p3RCea"
      },
      "source": [
        "### Užduotis 5\n",
        "\n",
        "Parašyti `for` ciklą, kuris eitų pro kiekvieną skaičių nuo 1 iki 20. Jame apsirašyti `if` sąlygą, kuri patikrintų ar dabartinis skaičius dalinasi iš 4. Jei taip tai šį skaičių išvesti."
      ]
    },
    {
      "cell_type": "code",
      "execution_count": null,
      "metadata": {
        "id": "wLHuFdVRRCea"
      },
      "outputs": [],
      "source": [
        "# Kodą rašykite čia...\n"
      ]
    },
    {
      "cell_type": "markdown",
      "metadata": {
        "id": "HrE66XfCRCea"
      },
      "source": [
        "### Užduotis 6\n",
        "\n",
        "Išveskite visus skaičius nuo 1 iki 15, prie kiekvieno jų nurodant tai lyginis ar nelyginis skaičius. Pvz:\n",
        "\n",
        "```\n",
        "1 - nelyginis\n",
        "2 - lyginis\n",
        "3 - nelyginis\n",
        "...\n",
        "```"
      ]
    },
    {
      "cell_type": "code",
      "execution_count": null,
      "metadata": {
        "id": "N0pReScGRCeb"
      },
      "outputs": [],
      "source": [
        "# Kodą rašykite čia...\n"
      ]
    },
    {
      "cell_type": "markdown",
      "metadata": {
        "id": "v8ARPznuRCeb"
      },
      "source": [
        "### Užduotis 7\n",
        "\n",
        "Apibrėžkite kintamuosius rėžių pradžiai ir pabaigai. Patikrinkite, kad tai būtų validu (pradžia turi būti mažesnė nei pabaiga). Jei rėžiai tinkami, tuomet vykdyti `for` ciklą, kuris atskirose eilutėse išvestų kiekvieną skaičių. Po kiekvieno skaičiaus padėti tarpą ir išvesti to skaičiaus kvadratą."
      ]
    },
    {
      "cell_type": "code",
      "execution_count": null,
      "metadata": {
        "id": "53KbbTYsRCeb"
      },
      "outputs": [],
      "source": [
        "# Kodą rašykite čia...\n"
      ]
    },
    {
      "cell_type": "markdown",
      "metadata": {
        "id": "xCsGaYG_RCeb"
      },
      "source": [
        "### Užduotis 8\n",
        "\n",
        "Apibrėžkite kintamuosius rėžių pradžiai ir pabaigai. Patikrinkite, kad tai būtų validu (pradžia turi būti mažesnė nei pabaiga). Jei rėžiai tinkami, tuomet vykdyti `for` ciklą, kuris išvestų visus nelyginius skaičius arba tuos, kurie dalinasi iš 8."
      ]
    },
    {
      "cell_type": "code",
      "execution_count": null,
      "metadata": {
        "id": "paz1TxRKRCeb"
      },
      "outputs": [],
      "source": [
        "# Kodą rašykite čia...\n"
      ]
    }
  ],
  "metadata": {
    "kernelspec": {
      "display_name": "Python 3",
      "language": "python",
      "name": "python3"
    },
    "language_info": {
      "codemirror_mode": {
        "name": "ipython",
        "version": 3
      },
      "file_extension": ".py",
      "mimetype": "text/x-python",
      "name": "python",
      "nbconvert_exporter": "python",
      "pygments_lexer": "ipython3",
      "version": "3.10.10"
    },
    "orig_nbformat": 4,
    "vscode": {
      "interpreter": {
        "hash": "aa11ca274996316222ef16f35c5f6dbeb467b694c0b2154cdf34dcf9271d5fd0"
      }
    },
    "colab": {
      "provenance": [],
      "include_colab_link": true
    }
  },
  "nbformat": 4,
  "nbformat_minor": 0
}